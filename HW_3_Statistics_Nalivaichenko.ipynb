{
  "nbformat": 4,
  "nbformat_minor": 0,
  "metadata": {
    "colab": {
      "provenance": []
    },
    "kernelspec": {
      "name": "python3",
      "display_name": "Python 3"
    },
    "language_info": {
      "name": "python"
    }
  },
  "cells": [
    {
      "cell_type": "markdown",
      "metadata": {
        "id": "FM0VQQKUYQbE"
      },
      "source": [
        "# Современные методы анализа данных и машинного обучения, БИ\n",
        "\n",
        "## НИУ ВШЭ, 2024-25 учебный год"
      ]
    },
    {
      "cell_type": "markdown",
      "metadata": {
        "id": "0dzgVn-GYQbG"
      },
      "source": [
        "### Домашнее задание №3. Математическая статистика в анализе данных"
      ]
    },
    {
      "cell_type": "markdown",
      "metadata": {
        "id": "Sk5URBvkFLxx"
      },
      "source": [
        "Задание выполнил(а):\n",
        "\n",
        "Наливайченко Дарья\n"
      ]
    },
    {
      "cell_type": "markdown",
      "metadata": {
        "id": "kqVyveO4FLxx"
      },
      "source": [
        "### Общая информация"
      ]
    },
    {
      "cell_type": "markdown",
      "metadata": {
        "id": "2A0wmBWwFLxx"
      },
      "source": [
        "__Дата выдачи:__ 30.03.2025\n",
        "\n",
        "__Дедлайн:__ 04:00 07.04.2025"
      ]
    },
    {
      "cell_type": "markdown",
      "metadata": {
        "id": "qK8Ari9eFLxz"
      },
      "source": [
        "### Оценивание и штрафы\n",
        "\n",
        "Каждое задание в рамках данного домашнего задания оценивается в 4 балла.\n",
        "\n",
        "Оценка за домашнее задание вычисляется по следующей формуле:\n",
        "\n",
        "$$\n",
        "s_{\\text{stat}} \\times 1/2 ,\n",
        "$$\n",
        "\n",
        "где $s_{\\text{stat}}$  — количество баллов, которое вы набрали в сумме по всем заданиям.\n",
        "\n",
        "За сдачу домашнего задания позже срока на итоговую оценку за задание накладывается штраф в размере 1 **вторичный** балл в день, но  задержка не может быть больше недели."
      ]
    },
    {
      "cell_type": "markdown",
      "metadata": {
        "id": "nEGThfK6FLx0"
      },
      "source": [
        "__Внимание!__ Домашнее задание выполняется самостоятельно. Не допускается помощь в решении домашнего задания от однокурсников или третьих лиц. «Похожие» решения считаются плагиатом, и все задействованные студенты — в том числе и те, у кого списали, — не могут получить за него больше 0 баллов.\n",
        "\n",
        "Использование в решении домашнего задания генеративных моделей (ChatGPT и так далее) допускается исключительно в рамках справочной и образовательной информации. Любые другие случаи применения средств ИИ — например, для автоматической генерации кода по заданию — считаются плагиатом, и такое домашнее задание оценивается в 0 баллов."
      ]
    },
    {
      "cell_type": "markdown",
      "metadata": {
        "id": "zNja-u8vFLx0"
      },
      "source": [
        "### Формат сдачи"
      ]
    },
    {
      "cell_type": "markdown",
      "metadata": {
        "id": "_H-cf8uaFLx0"
      },
      "source": [
        "Загрузка файлов с решениями происходит в системе [Anytask](https://anytask.org/). Необходимо загружать файл с расширением .ipynb (питоновский ноутбук)\n",
        "\n",
        "Инвайт для подключения к странице курса в системе — указан для каждой группы в нашем телеграм-канале."
      ]
    },
    {
      "cell_type": "markdown",
      "metadata": {
        "id": "TEVawss2FLxy"
      },
      "source": [
        "### О задании"
      ]
    },
    {
      "cell_type": "markdown",
      "metadata": {
        "id": "NXNpYAFdFLxz"
      },
      "source": [
        "В данном домашнем задании вы попрактикуетесь в применении методов математической статистики в анализе данных. Мы постарались подобрать для вас как можно более интересные и репрезентативные задания, максимально приближенные к тому, что реально используется при проведении A/B-тестирований и решении различных бизнес-задач в этой области.\n",
        "\n",
        "В данном домашнем задании вам, вероятно, потребуется больше, чем обычно, осуществлять поиск информации как практического, так и теоретического характера, посредством чтения статей и различных материалов. Это ***нормально*** и лишь поможет вам глубже и качественнее, в понятном и комфортном для вас темпе, разобраться в непростом материале, связанном с математической статистикой в анализе данных."
      ]
    },
    {
      "cell_type": "markdown",
      "metadata": {
        "id": "ApiPWJygFLx2"
      },
      "source": [
        "Обратите внимание, что фактически во всех заданиях вам потребуется написать какой-то текст в виде вывода/результата/итога/какого-то резюме. Пожалуйста, не ленитесь, и пишите выводы ***подробно*** — существенная часть баллов будет выставляться именно за выводы, так как в анализе данных в целом, — а в разделе математической статистики — в особенности, — они имеют ключевое, наиболее заметное значение.\n",
        "Текст выводов/комментариев пишите в отдельных ячейках, используя средства текстового редактора Jupyter Notebook/Google Colab, при необходимости используйте средства *выделения*. Написанные выводы подкрепляйте выполненным кодом программы.\n",
        "\n",
        "При выполнении заданий данного домашнего задания нет абсолютно никаких ограничений на используемые библиотеки и применяемые вами методы, функционал."
      ]
    },
    {
      "cell_type": "markdown",
      "source": [
        "### Задание 1"
      ],
      "metadata": {
        "id": "EFMOJE59mHTm"
      }
    },
    {
      "cell_type": "markdown",
      "metadata": {
        "id": "x1zrhyiFhyiC"
      },
      "source": [
        "Проанализируйте набор данных и ответьте на следующие вопросы:\n",
        "\n",
        "1) Какой процент наблюдений выходит за 5 и 95 перцентиль?\n",
        "\n",
        "2) Какому закону распределения отвечают данные? На основе чего вы так решили?\n",
        "\n",
        "[Ссылка на данные](https://drive.google.com/file/d/1fc8BGSjDiwbZW6rcr3mMSwAjU2T_BpGW/view?usp=sharing)\n",
        "\n",
        "Описание данных:\n",
        "\n",
        "* metrics — значение определенной метрики в сервисе для пользователя (например, количество кликов).\n",
        "\n",
        "*Вместе с ответом на задание приложить код*"
      ]
    },
    {
      "cell_type": "code",
      "execution_count": 1,
      "metadata": {
        "id": "27DXFqhHhyiF"
      },
      "outputs": [],
      "source": [
        "import pandas as pd\n",
        "import numpy as np\n",
        "import matplotlib.pyplot as plt\n",
        "import seaborn as sns"
      ]
    },
    {
      "cell_type": "code",
      "source": [
        "task_1 = pd.read_csv('test_1_1.csv')\n",
        "task_1.head() #я не понимаю почему, но нужно исправить ошибку отображения данных, так как иначе файл будет нечитаем для дальнейшего анализа\n",
        "#то есть избавимся от странной записи чисел в колонках\n",
        "task_1_1 = pd.read_csv('test_1_1.csv', sep=';')# стало лучше, начинаем работу\n",
        "task_1_1.head()\n",
        "p5 = task_1_1['metrics'].quantile(0.05)\n",
        "p95 = task_1_1['metrics'].quantile(0.95)\n",
        "print(f'5 перцентиль: {p5}, 95 перцентиль: {p95}')\n",
        "vne = task_1_1[(task_1_1['metrics'] < p5) | (task_1_1['metrics'] > p95)]\n",
        "print (len(vne)/len(task_1_1)*100)"
      ],
      "metadata": {
        "colab": {
          "base_uri": "https://localhost:8080/"
        },
        "id": "nJaf0WRDXjaD",
        "outputId": "39f1cbba-6d38-44b5-d71a-b47e1e09d631"
      },
      "execution_count": 2,
      "outputs": [
        {
          "output_type": "stream",
          "name": "stdout",
          "text": [
            "5 перцентиль: 1.0, 95 перцентиль: 52.0\n",
            "4.987306046493438\n"
          ]
        }
      ]
    },
    {
      "cell_type": "code",
      "source": [
        "plt.figure(figsize=(10, 6))\n",
        "plt.hist(task_1_1['metrics'], bins=100)\n",
        "plt.show()"
      ],
      "metadata": {
        "colab": {
          "base_uri": "https://localhost:8080/",
          "height": 522
        },
        "id": "gwMKgHqLoA0d",
        "outputId": "5e8daa3b-433c-488c-9177-936eb9cc8e88"
      },
      "execution_count": 3,
      "outputs": [
        {
          "output_type": "display_data",
          "data": {
            "text/plain": [
              "<Figure size 1000x600 with 1 Axes>"
            ],
            "image/png": "[encoded data removed]"
          },
          "metadata": {}
        }
      ]
    },
    {
      "cell_type": "markdown",
      "source": [
        "**РАЗМЫШЛЕНИЯ**\n",
        "на первый взгляд (на мой не особо профессиональный) - это может быть распределение Пуассона. однако, в четвертом задание мы вычислили дисперсию и среднее мат. ожидание, где дисперсия намного больше среднего ожидания. получается, гипотеза о распределение Пуассона отклоняется.\n",
        "\n",
        "нормальное распределение мы не рассматриваем, так как на гистограмме видно, что отсутсвует симмитричное распределение (как минимум отсутствует левая часть гистограммы)."
      ],
      "metadata": {
        "id": "4Wii5rpjrcqF"
      }
    },
    {
      "cell_type": "code",
      "source": [
        "from scipy import stats"
      ],
      "metadata": {
        "id": "egdhJaKTttZA"
      },
      "execution_count": 4,
      "outputs": []
    },
    {
      "cell_type": "code",
      "source": [
        "stats.probplot(task_1_1['metrics'], dist = \"lognorm\", sparams = (1,), plot=plt)\n",
        "plt.show()"
      ],
      "metadata": {
        "colab": {
          "base_uri": "https://localhost:8080/",
          "height": 471
        },
        "id": "_XD7BIint4fM",
        "outputId": "04fde2c1-7174-4624-dec3-b898ef2b46fb"
      },
      "execution_count": 5,
      "outputs": [
        {
          "output_type": "display_data",
          "data": {
            "text/plain": [
              "<Figure size 640x480 with 1 Axes>"
            ],
            "image/png": "[encoded data removed]"
          },
          "metadata": {}
        }
      ]
    },
    {
      "cell_type": "markdown",
      "source": [
        "**ВЫВОД **\n",
        "\n",
        "в данной части мы сравнили распределение данных с прикрепленным датасетом с логнормальным распределением. можно обратить внимание, что распределение наших данных почти совпадает с логнормальным (неидеально, конечно, так как есть большой выброс, из-за чего наши данные, немного \"клонятся\" вниз)\n",
        "\n",
        "Однако, я останавливаю свой выбор на ***логнормальном распределение ***\n"
      ],
      "metadata": {
        "id": "dpTbKWNeMFvj"
      }
    },
    {
      "cell_type": "markdown",
      "source": [
        "### Задание 2"
      ],
      "metadata": {
        "id": "DFtPMRe9mNrW"
      }
    },
    {
      "cell_type": "markdown",
      "metadata": {
        "id": "c3WywbRdhyiG"
      },
      "source": [
        "Определите, можно ли сравнить две представленные выборки t-критерием Стьюдента?\n",
        "\n",
        "Если нельзя сравнивать t-критерием, то что будем использовать и почему?\n",
        "\n",
        "Ответ аргументировать и описать.\n",
        "\n",
        "[Ссылка на данные](https://drive.google.com/file/d/1blvC6TEBWghhVMexjOdoGEjzhZZh3wSy/view?usp=sharing)\n",
        "\n",
        "Описание данных:\n",
        "\n",
        "* variant — вариация в А/B тесте (например, группа А — сайт без изменений; группа B — сайт с изменениями)\n",
        "* metrics — значение определенной метрики в сервисе для пользователя (например, количество кликов).\n",
        "\n",
        "*Вместе с ответом на задание приложить код*"
      ]
    },
    {
      "cell_type": "code",
      "execution_count": 6,
      "metadata": {
        "id": "ENFymGnAhyiH",
        "colab": {
          "base_uri": "https://localhost:8080/",
          "height": 201
        },
        "outputId": "5f616014-f7ca-49ad-99ac-0d32af116fec"
      },
      "outputs": [
        {
          "output_type": "execute_result",
          "data": {
            "text/plain": [
              "   Unnamed: 0 variant  metrics\n",
              "0           1       A        1\n",
              "1           2       B        1\n",
              "2           3       A        4\n",
              "3           4       B       37\n",
              "4           5       B        4"
            ],
            "text/html": [
              "\n",
              "  <div id=\"df-556edced-9684-4e88-a3b6-556423e2cace\" class=\"colab-df-container\">\n",
              "    <div>\n",
              "<style scoped>\n",
              "    .dataframe tbody tr th:only-of-type {\n",
              "        vertical-align: middle;\n",
              "    }\n",
              "\n",
              "    .dataframe tbody tr th {\n",
              "        vertical-align: top;\n",
              "    }\n",
              "\n",
              "    .dataframe thead th {\n",
              "        text-align: right;\n",
              "    }\n",
              "</style>\n",
              "<table border=\"1\" class=\"dataframe\">\n",
              "  <thead>\n",
              "    <tr style=\"text-align: right;\">\n",
              "      <th></th>\n",
              "      <th>Unnamed: 0</th>\n",
              "      <th>variant</th>\n",
              "      <th>metrics</th>\n",
              "    </tr>\n",
              "  </thead>\n",
              "  <tbody>\n",
              "    <tr>\n",
              "      <th>0</th>\n",
              "      <td>1</td>\n",
              "      <td>A</td>\n",
              "      <td>1</td>\n",
              "    </tr>\n",
              "    <tr>\n",
              "      <th>1</th>\n",
              "      <td>2</td>\n",
              "      <td>B</td>\n",
              "      <td>1</td>\n",
              "    </tr>\n",
              "    <tr>\n",
              "      <th>2</th>\n",
              "      <td>3</td>\n",
              "      <td>A</td>\n",
              "      <td>4</td>\n",
              "    </tr>\n",
              "    <tr>\n",
              "      <th>3</th>\n",
              "      <td>4</td>\n",
              "      <td>B</td>\n",
              "      <td>37</td>\n",
              "    </tr>\n",
              "    <tr>\n",
              "      <th>4</th>\n",
              "      <td>5</td>\n",
              "      <td>B</td>\n",
              "      <td>4</td>\n",
              "    </tr>\n",
              "  </tbody>\n",
              "</table>\n",
              "</div>\n",
              "    <div class=\"colab-df-buttons\">\n",
              "\n",
              "  <div class=\"colab-df-container\">\n",
              "    <button class=\"colab-df-convert\" onclick=\"convertToInteractive('df-556edced-9684-4e88-a3b6-556423e2cace')\"\n",
              "            title=\"Convert this dataframe to an interactive table.\"\n",
              "            style=\"display:none;\">\n",
              "\n",
              "  <svg xmlns=\"http://www.w3.org/2000/svg\" height=\"24px\" viewBox=\"0 -960 960 960\">\n",
              "    <path d=\"M120-120v-720h720v720H120Zm60-500h600v-160H180v160Zm220 220h160v-160H400v160Zm0 220h160v-160H400v160ZM180-400h160v-160H180v160Zm440 0h160v-160H620v160ZM180-180h160v-160H180v160Zm440 0h160v-160H620v160Z\"/>\n",
              "  </svg>\n",
              "    </button>\n",
              "\n",
              "  <style>\n",
              "    .colab-df-container {\n",
              "      display:flex;\n",
              "      gap: 12px;\n",
              "    }\n",
              "\n",
              "    .colab-df-convert {\n",
              "      background-color: #E8F0FE;\n",
              "      border: none;\n",
              "      border-radius: 50%;\n",
              "      cursor: pointer;\n",
              "      display: none;\n",
              "      fill: #1967D2;\n",
              "      height: 32px;\n",
              "      padding: 0 0 0 0;\n",
              "      width: 32px;\n",
              "    }\n",
              "\n",
              "    .colab-df-convert:hover {\n",
              "      background-color: #E2EBFA;\n",
              "      box-shadow: 0px 1px 2px rgba(60, 64, 67, 0.3), 0px 1px 3px 1px rgba(60, 64, 67, 0.15);\n",
              "      fill: #174EA6;\n",
              "    }\n",
              "\n",
              "    .colab-df-buttons div {\n",
              "      margin-bottom: 4px;\n",
              "    }\n",
              "\n",
              "    [theme=dark] .colab-df-convert {\n",
              "      background-color: #3B4455;\n",
              "      fill: #D2E3FC;\n",
              "    }\n",
              "\n",
              "    [theme=dark] .colab-df-convert:hover {\n",
              "      background-color: #434B5C;\n",
              "      box-shadow: 0px 1px 3px 1px rgba(0, 0, 0, 0.15);\n",
              "      filter: drop-shadow(0px 1px 2px rgba(0, 0, 0, 0.3));\n",
              "      fill: #FFFFFF;\n",
              "    }\n",
              "  </style>\n",
              "\n",
              "    <script>\n",
              "      const buttonEl =\n",
              "        document.querySelector('#df-556edced-9684-4e88-a3b6-556423e2cace button.colab-df-convert');\n",
              "      buttonEl.style.display =\n",
              "        google.colab.kernel.accessAllowed ? 'block' : 'none';\n",
              "\n",
              "      async function convertToInteractive(key) {\n",
              "        const element = document.querySelector('#df-556edced-9684-4e88-a3b6-556423e2cace');\n",
              "        const dataTable =\n",
              "          await google.colab.kernel.invokeFunction('convertToInteractive',\n",
              "                                                    [key], {});\n",
              "        if (!dataTable) return;\n",
              "\n",
              "        const docLinkHtml = 'Like what you see? Visit the ' +\n",
              "          '<a target=\"_blank\" href=https://colab.research.google.com/notebooks/data_table.ipynb>data table notebook</a>'\n",
              "          + ' to learn more about interactive tables.';\n",
              "        element.innerHTML = '';\n",
              "        dataTable['output_type'] = 'display_data';\n",
              "        await google.colab.output.renderOutput(dataTable, element);\n",
              "        const docLink = document.createElement('div');\n",
              "        docLink.innerHTML = docLinkHtml;\n",
              "        element.appendChild(docLink);\n",
              "      }\n",
              "    </script>\n",
              "  </div>\n",
              "\n",
              "\n",
              "<div id=\"df-94a5826c-84d5-410b-ae1c-6d2124bccc6c\">\n",
              "  <button class=\"colab-df-quickchart\" onclick=\"quickchart('df-94a5826c-84d5-410b-ae1c-6d2124bccc6c')\"\n",
              "            title=\"Suggest charts\"\n",
              "            style=\"display:none;\">\n",
              "\n",
              "<svg xmlns=\"http://www.w3.org/2000/svg\" height=\"24px\"viewBox=\"0 0 24 24\"\n",
              "     width=\"24px\">\n",
              "    <g>\n",
              "        <path d=\"M19 3H5c-1.1 0-2 .9-2 2v14c0 1.1.9 2 2 2h14c1.1 0 2-.9 2-2V5c0-1.1-.9-2-2-2zM9 17H7v-7h2v7zm4 0h-2V7h2v10zm4 0h-2v-4h2v4z\"/>\n",
              "    </g>\n",
              "</svg>\n",
              "  </button>\n",
              "\n",
              "<style>\n",
              "  .colab-df-quickchart {\n",
              "      --bg-color: #E8F0FE;\n",
              "      --fill-color: #1967D2;\n",
              "      --hover-bg-color: #E2EBFA;\n",
              "      --hover-fill-color: #174EA6;\n",
              "      --disabled-fill-color: #AAA;\n",
              "      --disabled-bg-color: #DDD;\n",
              "  }\n",
              "\n",
              "  [theme=dark] .colab-df-quickchart {\n",
              "      --bg-color: #3B4455;\n",
              "      --fill-color: #D2E3FC;\n",
              "      --hover-bg-color: #434B5C;\n",
              "      --hover-fill-color: #FFFFFF;\n",
              "      --disabled-bg-color: #3B4455;\n",
              "      --disabled-fill-color: #666;\n",
              "  }\n",
              "\n",
              "  .colab-df-quickchart {\n",
              "    background-color: var(--bg-color);\n",
              "    border: none;\n",
              "    border-radius: 50%;\n",
              "    cursor: pointer;\n",
              "    display: none;\n",
              "    fill: var(--fill-color);\n",
              "    height: 32px;\n",
              "    padding: 0;\n",
              "    width: 32px;\n",
              "  }\n",
              "\n",
              "  .colab-df-quickchart:hover {\n",
              "    background-color: var(--hover-bg-color);\n",
              "    box-shadow: 0 1px 2px rgba(60, 64, 67, 0.3), 0 1px 3px 1px rgba(60, 64, 67, 0.15);\n",
              "    fill: var(--button-hover-fill-color);\n",
              "  }\n",
              "\n",
              "  .colab-df-quickchart-complete:disabled,\n",
              "  .colab-df-quickchart-complete:disabled:hover {\n",
              "    background-color: var(--disabled-bg-color);\n",
              "    fill: var(--disabled-fill-color);\n",
              "    box-shadow: none;\n",
              "  }\n",
              "\n",
              "  .colab-df-spinner {\n",
              "    border: 2px solid var(--fill-color);\n",
              "    border-color: transparent;\n",
              "    border-bottom-color: var(--fill-color);\n",
              "    animation:\n",
              "      spin 1s steps(1) infinite;\n",
              "  }\n",
              "\n",
              "  @keyframes spin {\n",
              "    0% {\n",
              "      border-color: transparent;\n",
              "      border-bottom-color: var(--fill-color);\n",
              "      border-left-color: var(--fill-color);\n",
              "    }\n",
              "    20% {\n",
              "      border-color: transparent;\n",
              "      border-left-color: var(--fill-color);\n",
              "      border-top-color: var(--fill-color);\n",
              "    }\n",
              "    30% {\n",
              "      border-color: transparent;\n",
              "      border-left-color: var(--fill-color);\n",
              "      border-top-color: var(--fill-color);\n",
              "      border-right-color: var(--fill-color);\n",
              "    }\n",
              "    40% {\n",
              "      border-color: transparent;\n",
              "      border-right-color: var(--fill-color);\n",
              "      border-top-color: var(--fill-color);\n",
              "    }\n",
              "    60% {\n",
              "      border-color: transparent;\n",
              "      border-right-color: var(--fill-color);\n",
              "    }\n",
              "    80% {\n",
              "      border-color: transparent;\n",
              "      border-right-color: var(--fill-color);\n",
              "      border-bottom-color: var(--fill-color);\n",
              "    }\n",
              "    90% {\n",
              "      border-color: transparent;\n",
              "      border-bottom-color: var(--fill-color);\n",
              "    }\n",
              "  }\n",
              "</style>\n",
              "\n",
              "  <script>\n",
              "    async function quickchart(key) {\n",
              "      const quickchartButtonEl =\n",
              "        document.querySelector('#' + key + ' button');\n",
              "      quickchartButtonEl.disabled = true;  // To prevent multiple clicks.\n",
              "      quickchartButtonEl.classList.add('colab-df-spinner');\n",
              "      try {\n",
              "        const charts = await google.colab.kernel.invokeFunction(\n",
              "            'suggestCharts', [key], {});\n",
              "      } catch (error) {\n",
              "        console.error('Error during call to suggestCharts:', error);\n",
              "      }\n",
              "      quickchartButtonEl.classList.remove('colab-df-spinner');\n",
              "      quickchartButtonEl.classList.add('colab-df-quickchart-complete');\n",
              "    }\n",
              "    (() => {\n",
              "      let quickchartButtonEl =\n",
              "        document.querySelector('#df-94a5826c-84d5-410b-ae1c-6d2124bccc6c button');\n",
              "      quickchartButtonEl.style.display =\n",
              "        google.colab.kernel.accessAllowed ? 'block' : 'none';\n",
              "    })();\n",
              "  </script>\n",
              "</div>\n",
              "\n",
              "    </div>\n",
              "  </div>\n"
            ],
            "application/vnd.google.colaboratory.intrinsic+json": {
              "type": "dataframe",
              "summary": "{\n  \"name\": \"#\\u0442\\u043e \\u0436\\u0435 \\u0441\\u0430\\u043c\\u043e\\u0435, \\u0447\\u0442\\u043e \\u0438 \\u0432 \\u043f\\u0440\\u043e\\u0448\\u043b\\u043e\\u043c \\u0437\\u0430\\u0434\\u0430\\u043d\\u0438\\u0435\",\n  \"rows\": 5,\n  \"fields\": [\n    {\n      \"column\": \"Unnamed: 0\",\n      \"properties\": {\n        \"dtype\": \"number\",\n        \"std\": 1,\n        \"min\": 1,\n        \"max\": 5,\n        \"num_unique_values\": 5,\n        \"samples\": [\n          2,\n          5,\n          3\n        ],\n        \"semantic_type\": \"\",\n        \"description\": \"\"\n      }\n    },\n    {\n      \"column\": \"variant\",\n      \"properties\": {\n        \"dtype\": \"category\",\n        \"num_unique_values\": 2,\n        \"samples\": [\n          \"B\",\n          \"A\"\n        ],\n        \"semantic_type\": \"\",\n        \"description\": \"\"\n      }\n    },\n    {\n      \"column\": \"metrics\",\n      \"properties\": {\n        \"dtype\": \"number\",\n        \"std\": 15,\n        \"min\": 1,\n        \"max\": 37,\n        \"num_unique_values\": 3,\n        \"samples\": [\n          1,\n          4\n        ],\n        \"semantic_type\": \"\",\n        \"description\": \"\"\n      }\n    }\n  ]\n}"
            }
          },
          "metadata": {},
          "execution_count": 6
        }
      ],
      "source": [
        "task2_1 = pd.read_csv('test_1_2.csv')\n",
        "task2_2 = pd.read_csv('test_1_2.csv', sep=';')\n",
        "task2_2.head() #здесь данные опять отображаются не совсем правильно (точнее не совсем правильно для анализа), поэтому проделываем\n",
        "#то же самое, что и в прошлом задание"
      ]
    },
    {
      "cell_type": "code",
      "source": [
        "A = task2_2[task2_2['variant'] == 'A'] #разделимм данные на две группы для проведение тестов\n",
        "B = task2_2[task2_2['variant'] == 'B']\n",
        "A = pd.to_numeric(A['metrics'], errors='coerce') #приводим данные к числовым значениям (на всякий случай) и выбрасываем пропуски\n",
        "B = pd.to_numeric(B['metrics'], errors='coerce')\n",
        "A_1 = A.dropna()\n",
        "B_2 = B.dropna()\n",
        "A_1_norm = A_1.sample(n = 1000, random_state=20) #выбираем 1 000 случайных значений для Sharp Wilk, выборкой 20\n",
        "B_2_norm = B_2.sample(n = 1000, random_state=20)\n",
        "wiki_a = stats.shapiro(A_1_norm) #и наконец-то проверяем нормальность распределения с помощью SharpWilki для обеих групп\n",
        "wiki_b = stats.shapiro(B_2_norm)\n",
        "print(wiki_a) #наши данные меньше 0.05, поэтому мы говорим о том, что данные распределены не нормально. это самым главным образом противоречит\n",
        "# использованию t-критерия Стьюдента\n",
        "print(wiki_b)\n",
        "dispers = stats.levene(A_1, B_2) #проверим еще гомогенность дисперсий\n",
        "print(dispers) #по результату, дисперсия опять-таки меньше 0.05, поэтому разброс значений разный. то есть опять-таки t-критерий Стьюдента не подходит\n",
        "\n",
        "stat, p_value = stats.mannwhitneyu(A_1, B_2)#для данных, которые у нас есть можно использовать Mann Whitney. данный тест помогает с данными\n",
        "#которые ненормально распределены\n",
        "print(f'Статистика: {stat}, p-value: {p_value}') #полученные результаты говорят о том, что разница между выборками значима. то есть эти две группы\n",
        "# А и В отличаются друг от друга.\n",
        "#еще для этих данных можно применить Колмогорова-Смирнова, чтобы сравнить распределение. но то, что я выбрала до этого лучше демонстрирует то\n",
        "#что требовалось"
      ],
      "metadata": {
        "colab": {
          "base_uri": "https://localhost:8080/"
        },
        "id": "lyXa2yfbBKuV",
        "outputId": "d667d414-aee0-422a-8468-24fb8feba464"
      },
      "execution_count": 21,
      "outputs": [
        {
          "output_type": "stream",
          "name": "stdout",
          "text": [
            "ShapiroResult(statistic=np.float64(0.47738499153230585), pvalue=np.float64(4.744018527371819e-47))\n",
            "ShapiroResult(statistic=np.float64(0.48717736525814526), pvalue=np.float64(9.314537081872129e-47))\n",
            "LeveneResult(statistic=np.float64(4.313416821004634), pvalue=np.float64(0.03781432358426188))\n",
            "Статистика: 4195358346.0, p-value: 2.7311182624546524e-05\n"
          ]
        }
      ]
    },
    {
      "cell_type": "markdown",
      "source": [
        "### Задание 3"
      ],
      "metadata": {
        "id": "5tQctBedmR5u"
      }
    },
    {
      "cell_type": "markdown",
      "metadata": {
        "id": "MGIJMTZGhyiH"
      },
      "source": [
        "Даны две выборки по А/B тесту.\n",
        "\n",
        "Две выборки несбалансированные — кол-во пользователей в каждой группе разное.\n",
        "\n",
        "Метрика, которую мы измеряем в эксперименте (и которую используем для определения группы, показавшей себя лучше) — количество просмотренных страниц на пользователя.\n",
        "\n",
        "Как вы будете принимать решение, какая группа: A или B — продемонстрировала лучшие результаты? И какие статистические методы (критерии) вы будете использовать для этого? Какие преобразования к данным в целях улучшения точности и качества стоило бы применить? Сделайте это!\n",
        "\n",
        "Если идеи не приходят в голову, рекомендуем вам дополнительно почитать про A/B тесты и работу с несбалансированными выборками.\n",
        "\n",
        "[Ссылка на данные](https://drive.google.com/file/d/1_g7Dw7-8QzTS47D6GNKMb0FzqMAWBDba/view?usp=sharing)\n",
        "\n",
        "Описание данных:\n",
        "\n",
        "* variant — вариация в А/B тесте (например, группа А — сайт без изменений; группа B — сайт с изменениями)\n",
        "* metrics — значение определенной метрики в сервисе; в данном случае — количество просмотренных страниц на пользователя.\n",
        "\n",
        "*Вместе с ответом на задание приложить код*"
      ]
    },
    {
      "cell_type": "code",
      "execution_count": 8,
      "metadata": {
        "id": "tdn1GtFihyiH",
        "colab": {
          "base_uri": "https://localhost:8080/",
          "height": 201
        },
        "outputId": "31618e20-dc48-4fd1-e505-b31a77e2f76f"
      },
      "outputs": [
        {
          "output_type": "execute_result",
          "data": {
            "text/plain": [
              "   Unnamed: 0 variant  metrics\n",
              "0           1       A        1\n",
              "1           2       A        4\n",
              "2           3       A       15\n",
              "3           4       A        1\n",
              "4           5       A       10"
            ],
            "text/html": [
              "\n",
              "  <div id=\"df-b8f4f2fe-c209-4752-ae45-713a47860ae0\" class=\"colab-df-container\">\n",
              "    <div>\n",
              "<style scoped>\n",
              "    .dataframe tbody tr th:only-of-type {\n",
              "        vertical-align: middle;\n",
              "    }\n",
              "\n",
              "    .dataframe tbody tr th {\n",
              "        vertical-align: top;\n",
              "    }\n",
              "\n",
              "    .dataframe thead th {\n",
              "        text-align: right;\n",
              "    }\n",
              "</style>\n",
              "<table border=\"1\" class=\"dataframe\">\n",
              "  <thead>\n",
              "    <tr style=\"text-align: right;\">\n",
              "      <th></th>\n",
              "      <th>Unnamed: 0</th>\n",
              "      <th>variant</th>\n",
              "      <th>metrics</th>\n",
              "    </tr>\n",
              "  </thead>\n",
              "  <tbody>\n",
              "    <tr>\n",
              "      <th>0</th>\n",
              "      <td>1</td>\n",
              "      <td>A</td>\n",
              "      <td>1</td>\n",
              "    </tr>\n",
              "    <tr>\n",
              "      <th>1</th>\n",
              "      <td>2</td>\n",
              "      <td>A</td>\n",
              "      <td>4</td>\n",
              "    </tr>\n",
              "    <tr>\n",
              "      <th>2</th>\n",
              "      <td>3</td>\n",
              "      <td>A</td>\n",
              "      <td>15</td>\n",
              "    </tr>\n",
              "    <tr>\n",
              "      <th>3</th>\n",
              "      <td>4</td>\n",
              "      <td>A</td>\n",
              "      <td>1</td>\n",
              "    </tr>\n",
              "    <tr>\n",
              "      <th>4</th>\n",
              "      <td>5</td>\n",
              "      <td>A</td>\n",
              "      <td>10</td>\n",
              "    </tr>\n",
              "  </tbody>\n",
              "</table>\n",
              "</div>\n",
              "    <div class=\"colab-df-buttons\">\n",
              "\n",
              "  <div class=\"colab-df-container\">\n",
              "    <button class=\"colab-df-convert\" onclick=\"convertToInteractive('df-b8f4f2fe-c209-4752-ae45-713a47860ae0')\"\n",
              "            title=\"Convert this dataframe to an interactive table.\"\n",
              "            style=\"display:none;\">\n",
              "\n",
              "  <svg xmlns=\"http://www.w3.org/2000/svg\" height=\"24px\" viewBox=\"0 -960 960 960\">\n",
              "    <path d=\"M120-120v-720h720v720H120Zm60-500h600v-160H180v160Zm220 220h160v-160H400v160Zm0 220h160v-160H400v160ZM180-400h160v-160H180v160Zm440 0h160v-160H620v160ZM180-180h160v-160H180v160Zm440 0h160v-160H620v160Z\"/>\n",
              "  </svg>\n",
              "    </button>\n",
              "\n",
              "  <style>\n",
              "    .colab-df-container {\n",
              "      display:flex;\n",
              "      gap: 12px;\n",
              "    }\n",
              "\n",
              "    .colab-df-convert {\n",
              "      background-color: #E8F0FE;\n",
              "      border: none;\n",
              "      border-radius: 50%;\n",
              "      cursor: pointer;\n",
              "      display: none;\n",
              "      fill: #1967D2;\n",
              "      height: 32px;\n",
              "      padding: 0 0 0 0;\n",
              "      width: 32px;\n",
              "    }\n",
              "\n",
              "    .colab-df-convert:hover {\n",
              "      background-color: #E2EBFA;\n",
              "      box-shadow: 0px 1px 2px rgba(60, 64, 67, 0.3), 0px 1px 3px 1px rgba(60, 64, 67, 0.15);\n",
              "      fill: #174EA6;\n",
              "    }\n",
              "\n",
              "    .colab-df-buttons div {\n",
              "      margin-bottom: 4px;\n",
              "    }\n",
              "\n",
              "    [theme=dark] .colab-df-convert {\n",
              "      background-color: #3B4455;\n",
              "      fill: #D2E3FC;\n",
              "    }\n",
              "\n",
              "    [theme=dark] .colab-df-convert:hover {\n",
              "      background-color: #434B5C;\n",
              "      box-shadow: 0px 1px 3px 1px rgba(0, 0, 0, 0.15);\n",
              "      filter: drop-shadow(0px 1px 2px rgba(0, 0, 0, 0.3));\n",
              "      fill: #FFFFFF;\n",
              "    }\n",
              "  </style>\n",
              "\n",
              "    <script>\n",
              "      const buttonEl =\n",
              "        document.querySelector('#df-b8f4f2fe-c209-4752-ae45-713a47860ae0 button.colab-df-convert');\n",
              "      buttonEl.style.display =\n",
              "        google.colab.kernel.accessAllowed ? 'block' : 'none';\n",
              "\n",
              "      async function convertToInteractive(key) {\n",
              "        const element = document.querySelector('#df-b8f4f2fe-c209-4752-ae45-713a47860ae0');\n",
              "        const dataTable =\n",
              "          await google.colab.kernel.invokeFunction('convertToInteractive',\n",
              "                                                    [key], {});\n",
              "        if (!dataTable) return;\n",
              "\n",
              "        const docLinkHtml = 'Like what you see? Visit the ' +\n",
              "          '<a target=\"_blank\" href=https://colab.research.google.com/notebooks/data_table.ipynb>data table notebook</a>'\n",
              "          + ' to learn more about interactive tables.';\n",
              "        element.innerHTML = '';\n",
              "        dataTable['output_type'] = 'display_data';\n",
              "        await google.colab.output.renderOutput(dataTable, element);\n",
              "        const docLink = document.createElement('div');\n",
              "        docLink.innerHTML = docLinkHtml;\n",
              "        element.appendChild(docLink);\n",
              "      }\n",
              "    </script>\n",
              "  </div>\n",
              "\n",
              "\n",
              "<div id=\"df-c1984ac5-a693-44bd-aea4-f3ccae8b225c\">\n",
              "  <button class=\"colab-df-quickchart\" onclick=\"quickchart('df-c1984ac5-a693-44bd-aea4-f3ccae8b225c')\"\n",
              "            title=\"Suggest charts\"\n",
              "            style=\"display:none;\">\n",
              "\n",
              "<svg xmlns=\"http://www.w3.org/2000/svg\" height=\"24px\"viewBox=\"0 0 24 24\"\n",
              "     width=\"24px\">\n",
              "    <g>\n",
              "        <path d=\"M19 3H5c-1.1 0-2 .9-2 2v14c0 1.1.9 2 2 2h14c1.1 0 2-.9 2-2V5c0-1.1-.9-2-2-2zM9 17H7v-7h2v7zm4 0h-2V7h2v10zm4 0h-2v-4h2v4z\"/>\n",
              "    </g>\n",
              "</svg>\n",
              "  </button>\n",
              "\n",
              "<style>\n",
              "  .colab-df-quickchart {\n",
              "      --bg-color: #E8F0FE;\n",
              "      --fill-color: #1967D2;\n",
              "      --hover-bg-color: #E2EBFA;\n",
              "      --hover-fill-color: #174EA6;\n",
              "      --disabled-fill-color: #AAA;\n",
              "      --disabled-bg-color: #DDD;\n",
              "  }\n",
              "\n",
              "  [theme=dark] .colab-df-quickchart {\n",
              "      --bg-color: #3B4455;\n",
              "      --fill-color: #D2E3FC;\n",
              "      --hover-bg-color: #434B5C;\n",
              "      --hover-fill-color: #FFFFFF;\n",
              "      --disabled-bg-color: #3B4455;\n",
              "      --disabled-fill-color: #666;\n",
              "  }\n",
              "\n",
              "  .colab-df-quickchart {\n",
              "    background-color: var(--bg-color);\n",
              "    border: none;\n",
              "    border-radius: 50%;\n",
              "    cursor: pointer;\n",
              "    display: none;\n",
              "    fill: var(--fill-color);\n",
              "    height: 32px;\n",
              "    padding: 0;\n",
              "    width: 32px;\n",
              "  }\n",
              "\n",
              "  .colab-df-quickchart:hover {\n",
              "    background-color: var(--hover-bg-color);\n",
              "    box-shadow: 0 1px 2px rgba(60, 64, 67, 0.3), 0 1px 3px 1px rgba(60, 64, 67, 0.15);\n",
              "    fill: var(--button-hover-fill-color);\n",
              "  }\n",
              "\n",
              "  .colab-df-quickchart-complete:disabled,\n",
              "  .colab-df-quickchart-complete:disabled:hover {\n",
              "    background-color: var(--disabled-bg-color);\n",
              "    fill: var(--disabled-fill-color);\n",
              "    box-shadow: none;\n",
              "  }\n",
              "\n",
              "  .colab-df-spinner {\n",
              "    border: 2px solid var(--fill-color);\n",
              "    border-color: transparent;\n",
              "    border-bottom-color: var(--fill-color);\n",
              "    animation:\n",
              "      spin 1s steps(1) infinite;\n",
              "  }\n",
              "\n",
              "  @keyframes spin {\n",
              "    0% {\n",
              "      border-color: transparent;\n",
              "      border-bottom-color: var(--fill-color);\n",
              "      border-left-color: var(--fill-color);\n",
              "    }\n",
              "    20% {\n",
              "      border-color: transparent;\n",
              "      border-left-color: var(--fill-color);\n",
              "      border-top-color: var(--fill-color);\n",
              "    }\n",
              "    30% {\n",
              "      border-color: transparent;\n",
              "      border-left-color: var(--fill-color);\n",
              "      border-top-color: var(--fill-color);\n",
              "      border-right-color: var(--fill-color);\n",
              "    }\n",
              "    40% {\n",
              "      border-color: transparent;\n",
              "      border-right-color: var(--fill-color);\n",
              "      border-top-color: var(--fill-color);\n",
              "    }\n",
              "    60% {\n",
              "      border-color: transparent;\n",
              "      border-right-color: var(--fill-color);\n",
              "    }\n",
              "    80% {\n",
              "      border-color: transparent;\n",
              "      border-right-color: var(--fill-color);\n",
              "      border-bottom-color: var(--fill-color);\n",
              "    }\n",
              "    90% {\n",
              "      border-color: transparent;\n",
              "      border-bottom-color: var(--fill-color);\n",
              "    }\n",
              "  }\n",
              "</style>\n",
              "\n",
              "  <script>\n",
              "    async function quickchart(key) {\n",
              "      const quickchartButtonEl =\n",
              "        document.querySelector('#' + key + ' button');\n",
              "      quickchartButtonEl.disabled = true;  // To prevent multiple clicks.\n",
              "      quickchartButtonEl.classList.add('colab-df-spinner');\n",
              "      try {\n",
              "        const charts = await google.colab.kernel.invokeFunction(\n",
              "            'suggestCharts', [key], {});\n",
              "      } catch (error) {\n",
              "        console.error('Error during call to suggestCharts:', error);\n",
              "      }\n",
              "      quickchartButtonEl.classList.remove('colab-df-spinner');\n",
              "      quickchartButtonEl.classList.add('colab-df-quickchart-complete');\n",
              "    }\n",
              "    (() => {\n",
              "      let quickchartButtonEl =\n",
              "        document.querySelector('#df-c1984ac5-a693-44bd-aea4-f3ccae8b225c button');\n",
              "      quickchartButtonEl.style.display =\n",
              "        google.colab.kernel.accessAllowed ? 'block' : 'none';\n",
              "    })();\n",
              "  </script>\n",
              "</div>\n",
              "\n",
              "    </div>\n",
              "  </div>\n"
            ],
            "application/vnd.google.colaboratory.intrinsic+json": {
              "type": "dataframe",
              "variable_name": "task3_1"
            }
          },
          "metadata": {},
          "execution_count": 8
        }
      ],
      "source": [
        "task3 = pd.read_csv('hw2_test_1_3.csv')\n",
        "task3.head()\n",
        "task3_1 = pd.read_csv('hw2_test_1_3.csv', sep=';')\n",
        "task3_1.head() #так как здесь опять данные отображаются не совсем корректно, проделаем то же самое, что и в прошлых заданиях"
      ]
    },
    {
      "cell_type": "code",
      "source": [
        "counts = task3_1['variant'].value_counts()\n",
        "print(counts)\n",
        "mean = task3_1.groupby('variant')['metrics'].mean()\n",
        "print(mean)\n",
        "describe = task3_1.groupby('variant')['metrics'].describe()\n",
        "print(describe)\n",
        "\n",
        "plt.figure(figsize=(10, 6))\n",
        "sns.boxplot(x='variant', y='metrics', data=task3_1) #используем \"ящик с усами\", так как данная визуализация отображает лучше всего распределение\n",
        "#между двумя выборками\n",
        "plt.show()\n",
        "#на основе данных, которые мы получили, можно сказать, что в выборке А в шесть раз больше. однако выборки несбалансированы (как и было сказано)\n",
        "#как и в предыдущем задание t-критерий нельзя применить (из-за данных). можно использовать тот же тест Mann Whitney\n",
        "#также для разнообразия практики можно попробоать t-критерий Стюдента для логарифмированных данных. данный способ сожмет выбросы и сделает распределние\n",
        "#более симметричным.\n",
        "#"
      ],
      "metadata": {
        "colab": {
          "base_uri": "https://localhost:8080/",
          "height": 740
        },
        "id": "P_2NBRqlFtWI",
        "outputId": "901c2bd3-09d2-48cf-b90c-aaf0ab3200be"
      },
      "execution_count": 9,
      "outputs": [
        {
          "output_type": "stream",
          "name": "stdout",
          "text": [
            "variant\n",
            "A    92686\n",
            "D    15413\n",
            "Name: count, dtype: int64\n",
            "variant\n",
            "A    10.099562\n",
            "D     9.942386\n",
            "Name: metrics, dtype: float64\n",
            "           count       mean        std  min  25%  50%  75%    max\n",
            "variant                                                          \n",
            "A        92686.0  10.099562  23.130148  1.0  1.0  2.0  7.0  998.0\n",
            "D        15413.0   9.942386  21.802747  1.0  1.0  2.0  7.0  406.0\n"
          ]
        },
        {
          "output_type": "display_data",
          "data": {
            "text/plain": [
              "<Figure size 1000x600 with 1 Axes>"
            ],
            "image/png": "[encoded data removed]"
          },
          "metadata": {}
        }
      ]
    },
    {
      "cell_type": "code",
      "source": [
        "g_A = task3_1[task3_1['variant'] == 'A']\n",
        "g_D = task3_1[task3_1['variant'] == 'D']\n",
        "log_A = np.log1p(g_A['metrics'])\n",
        "log_D = np.log1p(g_D['metrics'])\n",
        "t_test = stats.ttest_ind(log_A, log_D)\n",
        "print(t_test)\n",
        "stat1, p_value1 = stats.mannwhitneyu(log_A, log_D)\n",
        "print(f'Статистика: {stat1}, p-value: {p_value1}')\n",
        "# с помощью данных тестов мы увидели, что особых различий в выборках нет. статистической разницы между двумя выборками нет\n",
        "# для анализа мы \"улучшили\" данные с помощью логарифмирования."
      ],
      "metadata": {
        "colab": {
          "base_uri": "https://localhost:8080/"
        },
        "id": "xz6AwmuIGVrm",
        "outputId": "967ae68d-928a-4102-9da3-4e7d7bde314b"
      },
      "execution_count": 23,
      "outputs": [
        {
          "output_type": "stream",
          "name": "stdout",
          "text": [
            "TtestResult(statistic=np.float64(-0.8945298081183504), pvalue=np.float64(0.3710404801849694), df=np.float64(108097.0))\n",
            "Статистика: 710155085.5, p-value: 0.2291154549185962\n"
          ]
        }
      ]
    },
    {
      "cell_type": "markdown",
      "source": [
        "### Задание 4"
      ],
      "metadata": {
        "id": "TRGtcwakmY8O"
      }
    },
    {
      "cell_type": "markdown",
      "metadata": {
        "id": "_kRalmOchyiI"
      },
      "source": [
        "Есть данные с большой дисперсией у метрики — дисперсию метрики можно посчитать для каждой группы. Для дальнейшего анализа этих данных дисперсию необходимо сократить.\n",
        "\n",
        "Как определить, что дисперсия действительно большая? Если она большая, то как вы будете ее чистить?\n",
        "\n",
        "Ответ аргументировать и описать.\n",
        "\n",
        "Если идеи не приходят в голову, рекомендуем вам дополнительно почитать про A/B тесты и снижение дисперсии в них.\n",
        "\n",
        "[Ссылка на данные](https://drive.google.com/file/d/1fc8BGSjDiwbZW6rcr3mMSwAjU2T_BpGW/view?usp=sharing)\n",
        "\n",
        "Описание данных:\n",
        "\n",
        "* metrics — значение определенной метрики в сервисе для пользователя (например, количество кликов).\n",
        "\n",
        "*Вместе с ответом на задание приложить код*"
      ]
    },
    {
      "cell_type": "code",
      "execution_count": 11,
      "metadata": {
        "id": "ysGgzNEbhyiJ",
        "colab": {
          "base_uri": "https://localhost:8080/"
        },
        "outputId": "0a9ad9e7-f299-463c-ed65-89f0526e0c71"
      },
      "outputs": [
        {
          "output_type": "stream",
          "name": "stdout",
          "text": [
            "10.146275408276\n",
            "22.6273779454325\n",
            "511.9982326854451\n",
            "2.2301166718750856\n"
          ]
        }
      ],
      "source": [
        "mean = task_1_1['metrics'].mean()\n",
        "std = task_1_1['metrics'].std()\n",
        "print(mean)\n",
        "print(std)\n",
        "dis = std*std\n",
        "print (dis) #кажется, дисперсия очень большая. в сравнение со средним математическим ожиданием (которое равно 22)\n",
        "# для уверенности посчитаем коэффициент вариации, чтобы понять насколько большой разброс данных\n",
        "cv = std/mean\n",
        "print (cv) #оно больше 2, значит дисперсию можно категорезировать как \"большая\""
      ]
    },
    {
      "cell_type": "code",
      "source": [
        "# в виду страха испортить данные в датасете, скопируем их в другой\n",
        "task_1_2 = task_1_1.copy()\n",
        "task_1_2['log'] = np.log1p(task_1_2['metrics'])\n",
        "log = np.log1p(task_1_2['metrics'])\n",
        "print (log.head()) #находим логарифмические значение в колонке metrics, чтобы подставить их в значение классов\n",
        "task_1_2['cohort'] = pd.cut(\n",
        "    task_1_2['log'],\n",
        "    bins=[- np.inf, 0.7, 1.6, np.inf],\n",
        "    labels=['1', '2', '3']\n",
        ")\n",
        "table = task_1_2.groupby(\"cohort\")[\"metrics\"].agg([\"count\", \"mean\", \"std\"])\n",
        "table[\"cv\"] = table[\"std\"] / table[\"mean\"]\n",
        "table # в этой таблице мы видим, что дисперсия сразу уменьшилась. значит, способ кластеризации помог.\n",
        "#я выбрала метод кластеризации, так как используется распредление по группам, которые имеют меньший разброс (в моем случае - логарифмические значения)\n",
        "#в том числе далее сравнивается каждый класс(когорта) отдельно. поэтому, данный способ подходит (по крайней мере на этих данных)"
      ],
      "metadata": {
        "colab": {
          "base_uri": "https://localhost:8080/",
          "height": 322
        },
        "id": "aZskWlyzxMB8",
        "outputId": "316129a1-e192-4205-bd74-32cfdc321c3f"
      },
      "execution_count": 14,
      "outputs": [
        {
          "output_type": "stream",
          "name": "stdout",
          "text": [
            "0    0.693147\n",
            "1    0.693147\n",
            "2    1.609438\n",
            "3    0.693147\n",
            "4    0.693147\n",
            "Name: metrics, dtype: float64\n"
          ]
        },
        {
          "output_type": "stream",
          "name": "stderr",
          "text": [
            "<ipython-input-14-9c5e3023a192>:11: FutureWarning: The default of observed=False is deprecated and will be changed to True in a future version of pandas. Pass observed=False to retain current behavior or observed=True to adopt the future default and silence this warning.\n",
            "  table = task_1_2.groupby(\"cohort\")[\"metrics\"].agg([\"count\", \"mean\", \"std\"])\n"
          ]
        },
        {
          "output_type": "execute_result",
          "data": {
            "text/plain": [
              "         count       mean        std        cv\n",
              "cohort                                        \n",
              "1       132041   1.000000   0.000000  0.000000\n",
              "2        60782   2.360337   0.480102  0.203404\n",
              "3       114016  24.889191  32.112575  1.290222"
            ],
            "text/html": [
              "\n",
              "  <div id=\"df-072616e3-cd3e-4112-aa1c-91329b8b53db\" class=\"colab-df-container\">\n",
              "    <div>\n",
              "<style scoped>\n",
              "    .dataframe tbody tr th:only-of-type {\n",
              "        vertical-align: middle;\n",
              "    }\n",
              "\n",
              "    .dataframe tbody tr th {\n",
              "        vertical-align: top;\n",
              "    }\n",
              "\n",
              "    .dataframe thead th {\n",
              "        text-align: right;\n",
              "    }\n",
              "</style>\n",
              "<table border=\"1\" class=\"dataframe\">\n",
              "  <thead>\n",
              "    <tr style=\"text-align: right;\">\n",
              "      <th></th>\n",
              "      <th>count</th>\n",
              "      <th>mean</th>\n",
              "      <th>std</th>\n",
              "      <th>cv</th>\n",
              "    </tr>\n",
              "    <tr>\n",
              "      <th>cohort</th>\n",
              "      <th></th>\n",
              "      <th></th>\n",
              "      <th></th>\n",
              "      <th></th>\n",
              "    </tr>\n",
              "  </thead>\n",
              "  <tbody>\n",
              "    <tr>\n",
              "      <th>1</th>\n",
              "      <td>132041</td>\n",
              "      <td>1.000000</td>\n",
              "      <td>0.000000</td>\n",
              "      <td>0.000000</td>\n",
              "    </tr>\n",
              "    <tr>\n",
              "      <th>2</th>\n",
              "      <td>60782</td>\n",
              "      <td>2.360337</td>\n",
              "      <td>0.480102</td>\n",
              "      <td>0.203404</td>\n",
              "    </tr>\n",
              "    <tr>\n",
              "      <th>3</th>\n",
              "      <td>114016</td>\n",
              "      <td>24.889191</td>\n",
              "      <td>32.112575</td>\n",
              "      <td>1.290222</td>\n",
              "    </tr>\n",
              "  </tbody>\n",
              "</table>\n",
              "</div>\n",
              "    <div class=\"colab-df-buttons\">\n",
              "\n",
              "  <div class=\"colab-df-container\">\n",
              "    <button class=\"colab-df-convert\" onclick=\"convertToInteractive('df-072616e3-cd3e-4112-aa1c-91329b8b53db')\"\n",
              "            title=\"Convert this dataframe to an interactive table.\"\n",
              "            style=\"display:none;\">\n",
              "\n",
              "  <svg xmlns=\"http://www.w3.org/2000/svg\" height=\"24px\" viewBox=\"0 -960 960 960\">\n",
              "    <path d=\"M120-120v-720h720v720H120Zm60-500h600v-160H180v160Zm220 220h160v-160H400v160Zm0 220h160v-160H400v160ZM180-400h160v-160H180v160Zm440 0h160v-160H620v160ZM180-180h160v-160H180v160Zm440 0h160v-160H620v160Z\"/>\n",
              "  </svg>\n",
              "    </button>\n",
              "\n",
              "  <style>\n",
              "    .colab-df-container {\n",
              "      display:flex;\n",
              "      gap: 12px;\n",
              "    }\n",
              "\n",
              "    .colab-df-convert {\n",
              "      background-color: #E8F0FE;\n",
              "      border: none;\n",
              "      border-radius: 50%;\n",
              "      cursor: pointer;\n",
              "      display: none;\n",
              "      fill: #1967D2;\n",
              "      height: 32px;\n",
              "      padding: 0 0 0 0;\n",
              "      width: 32px;\n",
              "    }\n",
              "\n",
              "    .colab-df-convert:hover {\n",
              "      background-color: #E2EBFA;\n",
              "      box-shadow: 0px 1px 2px rgba(60, 64, 67, 0.3), 0px 1px 3px 1px rgba(60, 64, 67, 0.15);\n",
              "      fill: #174EA6;\n",
              "    }\n",
              "\n",
              "    .colab-df-buttons div {\n",
              "      margin-bottom: 4px;\n",
              "    }\n",
              "\n",
              "    [theme=dark] .colab-df-convert {\n",
              "      background-color: #3B4455;\n",
              "      fill: #D2E3FC;\n",
              "    }\n",
              "\n",
              "    [theme=dark] .colab-df-convert:hover {\n",
              "      background-color: #434B5C;\n",
              "      box-shadow: 0px 1px 3px 1px rgba(0, 0, 0, 0.15);\n",
              "      filter: drop-shadow(0px 1px 2px rgba(0, 0, 0, 0.3));\n",
              "      fill: #FFFFFF;\n",
              "    }\n",
              "  </style>\n",
              "\n",
              "    <script>\n",
              "      const buttonEl =\n",
              "        document.querySelector('#df-072616e3-cd3e-4112-aa1c-91329b8b53db button.colab-df-convert');\n",
              "      buttonEl.style.display =\n",
              "        google.colab.kernel.accessAllowed ? 'block' : 'none';\n",
              "\n",
              "      async function convertToInteractive(key) {\n",
              "        const element = document.querySelector('#df-072616e3-cd3e-4112-aa1c-91329b8b53db');\n",
              "        const dataTable =\n",
              "          await google.colab.kernel.invokeFunction('convertToInteractive',\n",
              "                                                    [key], {});\n",
              "        if (!dataTable) return;\n",
              "\n",
              "        const docLinkHtml = 'Like what you see? Visit the ' +\n",
              "          '<a target=\"_blank\" href=https://colab.research.google.com/notebooks/data_table.ipynb>data table notebook</a>'\n",
              "          + ' to learn more about interactive tables.';\n",
              "        element.innerHTML = '';\n",
              "        dataTable['output_type'] = 'display_data';\n",
              "        await google.colab.output.renderOutput(dataTable, element);\n",
              "        const docLink = document.createElement('div');\n",
              "        docLink.innerHTML = docLinkHtml;\n",
              "        element.appendChild(docLink);\n",
              "      }\n",
              "    </script>\n",
              "  </div>\n",
              "\n",
              "\n",
              "<div id=\"df-ff7cbafb-2649-447f-aee4-dd96e4d8fbe7\">\n",
              "  <button class=\"colab-df-quickchart\" onclick=\"quickchart('df-ff7cbafb-2649-447f-aee4-dd96e4d8fbe7')\"\n",
              "            title=\"Suggest charts\"\n",
              "            style=\"display:none;\">\n",
              "\n",
              "<svg xmlns=\"http://www.w3.org/2000/svg\" height=\"24px\"viewBox=\"0 0 24 24\"\n",
              "     width=\"24px\">\n",
              "    <g>\n",
              "        <path d=\"M19 3H5c-1.1 0-2 .9-2 2v14c0 1.1.9 2 2 2h14c1.1 0 2-.9 2-2V5c0-1.1-.9-2-2-2zM9 17H7v-7h2v7zm4 0h-2V7h2v10zm4 0h-2v-4h2v4z\"/>\n",
              "    </g>\n",
              "</svg>\n",
              "  </button>\n",
              "\n",
              "<style>\n",
              "  .colab-df-quickchart {\n",
              "      --bg-color: #E8F0FE;\n",
              "      --fill-color: #1967D2;\n",
              "      --hover-bg-color: #E2EBFA;\n",
              "      --hover-fill-color: #174EA6;\n",
              "      --disabled-fill-color: #AAA;\n",
              "      --disabled-bg-color: #DDD;\n",
              "  }\n",
              "\n",
              "  [theme=dark] .colab-df-quickchart {\n",
              "      --bg-color: #3B4455;\n",
              "      --fill-color: #D2E3FC;\n",
              "      --hover-bg-color: #434B5C;\n",
              "      --hover-fill-color: #FFFFFF;\n",
              "      --disabled-bg-color: #3B4455;\n",
              "      --disabled-fill-color: #666;\n",
              "  }\n",
              "\n",
              "  .colab-df-quickchart {\n",
              "    background-color: var(--bg-color);\n",
              "    border: none;\n",
              "    border-radius: 50%;\n",
              "    cursor: pointer;\n",
              "    display: none;\n",
              "    fill: var(--fill-color);\n",
              "    height: 32px;\n",
              "    padding: 0;\n",
              "    width: 32px;\n",
              "  }\n",
              "\n",
              "  .colab-df-quickchart:hover {\n",
              "    background-color: var(--hover-bg-color);\n",
              "    box-shadow: 0 1px 2px rgba(60, 64, 67, 0.3), 0 1px 3px 1px rgba(60, 64, 67, 0.15);\n",
              "    fill: var(--button-hover-fill-color);\n",
              "  }\n",
              "\n",
              "  .colab-df-quickchart-complete:disabled,\n",
              "  .colab-df-quickchart-complete:disabled:hover {\n",
              "    background-color: var(--disabled-bg-color);\n",
              "    fill: var(--disabled-fill-color);\n",
              "    box-shadow: none;\n",
              "  }\n",
              "\n",
              "  .colab-df-spinner {\n",
              "    border: 2px solid var(--fill-color);\n",
              "    border-color: transparent;\n",
              "    border-bottom-color: var(--fill-color);\n",
              "    animation:\n",
              "      spin 1s steps(1) infinite;\n",
              "  }\n",
              "\n",
              "  @keyframes spin {\n",
              "    0% {\n",
              "      border-color: transparent;\n",
              "      border-bottom-color: var(--fill-color);\n",
              "      border-left-color: var(--fill-color);\n",
              "    }\n",
              "    20% {\n",
              "      border-color: transparent;\n",
              "      border-left-color: var(--fill-color);\n",
              "      border-top-color: var(--fill-color);\n",
              "    }\n",
              "    30% {\n",
              "      border-color: transparent;\n",
              "      border-left-color: var(--fill-color);\n",
              "      border-top-color: var(--fill-color);\n",
              "      border-right-color: var(--fill-color);\n",
              "    }\n",
              "    40% {\n",
              "      border-color: transparent;\n",
              "      border-right-color: var(--fill-color);\n",
              "      border-top-color: var(--fill-color);\n",
              "    }\n",
              "    60% {\n",
              "      border-color: transparent;\n",
              "      border-right-color: var(--fill-color);\n",
              "    }\n",
              "    80% {\n",
              "      border-color: transparent;\n",
              "      border-right-color: var(--fill-color);\n",
              "      border-bottom-color: var(--fill-color);\n",
              "    }\n",
              "    90% {\n",
              "      border-color: transparent;\n",
              "      border-bottom-color: var(--fill-color);\n",
              "    }\n",
              "  }\n",
              "</style>\n",
              "\n",
              "  <script>\n",
              "    async function quickchart(key) {\n",
              "      const quickchartButtonEl =\n",
              "        document.querySelector('#' + key + ' button');\n",
              "      quickchartButtonEl.disabled = true;  // To prevent multiple clicks.\n",
              "      quickchartButtonEl.classList.add('colab-df-spinner');\n",
              "      try {\n",
              "        const charts = await google.colab.kernel.invokeFunction(\n",
              "            'suggestCharts', [key], {});\n",
              "      } catch (error) {\n",
              "        console.error('Error during call to suggestCharts:', error);\n",
              "      }\n",
              "      quickchartButtonEl.classList.remove('colab-df-spinner');\n",
              "      quickchartButtonEl.classList.add('colab-df-quickchart-complete');\n",
              "    }\n",
              "    (() => {\n",
              "      let quickchartButtonEl =\n",
              "        document.querySelector('#df-ff7cbafb-2649-447f-aee4-dd96e4d8fbe7 button');\n",
              "      quickchartButtonEl.style.display =\n",
              "        google.colab.kernel.accessAllowed ? 'block' : 'none';\n",
              "    })();\n",
              "  </script>\n",
              "</div>\n",
              "\n",
              "  <div id=\"id_e2f473c2-dbb2-4718-9ed3-118c7b6dc7dd\">\n",
              "    <style>\n",
              "      .colab-df-generate {\n",
              "        background-color: #E8F0FE;\n",
              "        border: none;\n",
              "        border-radius: 50%;\n",
              "        cursor: pointer;\n",
              "        display: none;\n",
              "        fill: #1967D2;\n",
              "        height: 32px;\n",
              "        padding: 0 0 0 0;\n",
              "        width: 32px;\n",
              "      }\n",
              "\n",
              "      .colab-df-generate:hover {\n",
              "        background-color: #E2EBFA;\n",
              "        box-shadow: 0px 1px 2px rgba(60, 64, 67, 0.3), 0px 1px 3px 1px rgba(60, 64, 67, 0.15);\n",
              "        fill: #174EA6;\n",
              "      }\n",
              "\n",
              "      [theme=dark] .colab-df-generate {\n",
              "        background-color: #3B4455;\n",
              "        fill: #D2E3FC;\n",
              "      }\n",
              "\n",
              "      [theme=dark] .colab-df-generate:hover {\n",
              "        background-color: #434B5C;\n",
              "        box-shadow: 0px 1px 3px 1px rgba(0, 0, 0, 0.15);\n",
              "        filter: drop-shadow(0px 1px 2px rgba(0, 0, 0, 0.3));\n",
              "        fill: #FFFFFF;\n",
              "      }\n",
              "    </style>\n",
              "    <button class=\"colab-df-generate\" onclick=\"generateWithVariable('table')\"\n",
              "            title=\"Generate code using this dataframe.\"\n",
              "            style=\"display:none;\">\n",
              "\n",
              "  <svg xmlns=\"http://www.w3.org/2000/svg\" height=\"24px\"viewBox=\"0 0 24 24\"\n",
              "       width=\"24px\">\n",
              "    <path d=\"M7,19H8.4L18.45,9,17,7.55,7,17.6ZM5,21V16.75L18.45,3.32a2,2,0,0,1,2.83,0l1.4,1.43a1.91,1.91,0,0,1,.58,1.4,1.91,1.91,0,0,1-.58,1.4L9.25,21ZM18.45,9,17,7.55Zm-12,3A5.31,5.31,0,0,0,4.9,8.1,5.31,5.31,0,0,0,1,6.5,5.31,5.31,0,0,0,4.9,4.9,5.31,5.31,0,0,0,6.5,1,5.31,5.31,0,0,0,8.1,4.9,5.31,5.31,0,0,0,12,6.5,5.46,5.46,0,0,0,6.5,12Z\"/>\n",
              "  </svg>\n",
              "    </button>\n",
              "    <script>\n",
              "      (() => {\n",
              "      const buttonEl =\n",
              "        document.querySelector('#id_e2f473c2-dbb2-4718-9ed3-118c7b6dc7dd button.colab-df-generate');\n",
              "      buttonEl.style.display =\n",
              "        google.colab.kernel.accessAllowed ? 'block' : 'none';\n",
              "\n",
              "      buttonEl.onclick = () => {\n",
              "        google.colab.notebook.generateWithVariable('table');\n",
              "      }\n",
              "      })();\n",
              "    </script>\n",
              "  </div>\n",
              "\n",
              "    </div>\n",
              "  </div>\n"
            ],
            "application/vnd.google.colaboratory.intrinsic+json": {
              "type": "dataframe",
              "variable_name": "table",
              "summary": "{\n  \"name\": \"table\",\n  \"rows\": 3,\n  \"fields\": [\n    {\n      \"column\": \"cohort\",\n      \"properties\": {\n        \"dtype\": \"category\",\n        \"num_unique_values\": 3,\n        \"samples\": [\n          \"1\",\n          \"2\",\n          \"3\"\n        ],\n        \"semantic_type\": \"\",\n        \"description\": \"\"\n      }\n    },\n    {\n      \"column\": \"count\",\n      \"properties\": {\n        \"dtype\": \"number\",\n        \"std\": 37050,\n        \"min\": 60782,\n        \"max\": 132041,\n        \"num_unique_values\": 3,\n        \"samples\": [\n          132041,\n          60782,\n          114016\n        ],\n        \"semantic_type\": \"\",\n        \"description\": \"\"\n      }\n    },\n    {\n      \"column\": \"mean\",\n      \"properties\": {\n        \"dtype\": \"number\",\n        \"std\": 13.416986916735443,\n        \"min\": 1.0,\n        \"max\": 24.889190990738143,\n        \"num_unique_values\": 3,\n        \"samples\": [\n          1.0,\n          2.3603369418577866,\n          24.889190990738143\n        ],\n        \"semantic_type\": \"\",\n        \"description\": \"\"\n      }\n    },\n    {\n      \"column\": \"std\",\n      \"properties\": {\n        \"dtype\": \"number\",\n        \"std\": 18.403175950550743,\n        \"min\": 0.0,\n        \"max\": 32.11257497814804,\n        \"num_unique_values\": 3,\n        \"samples\": [\n          0.0,\n          0.4801020958077072,\n          32.11257497814804\n        ],\n        \"semantic_type\": \"\",\n        \"description\": \"\"\n      }\n    },\n    {\n      \"column\": \"cv\",\n      \"properties\": {\n        \"dtype\": \"number\",\n        \"std\": 0.6936879668974081,\n        \"min\": 0.0,\n        \"max\": 1.290221726776812,\n        \"num_unique_values\": 3,\n        \"samples\": [\n          0.0,\n          0.20340405104612982,\n          1.290221726776812\n        ],\n        \"semantic_type\": \"\",\n        \"description\": \"\"\n      }\n    }\n  ]\n}"
            }
          },
          "metadata": {},
          "execution_count": 14
        }
      ]
    },
    {
      "cell_type": "markdown",
      "source": [
        "### Задание 5"
      ],
      "metadata": {
        "id": "mmizRSRzmfOt"
      }
    },
    {
      "cell_type": "markdown",
      "metadata": {
        "id": "8GuzppHAhyiJ"
      },
      "source": [
        "В компании проводится эксперимент с поисковыми подсказками. Вы хотите определить, как изменился CTR в каждой группе эксперимента.\n",
        "\n",
        "Задача:\n",
        "- сформировать метрику для оценки эксперимента\n",
        "- подобрать критерий под особенности данных\n",
        "- сделать вывод о значимости эффекта\n",
        "\n",
        "[Ссылка на данные](https://www.dropbox.com/s/fdki267uilkfq7l/task5.csv)\n",
        "\n",
        "Описание данных:\n",
        "- id — уникальный идентификатор пользователя\n",
        "- action — 🕊️\n",
        "- view — количество просмотров на одну сессию\n",
        "- variant — вариация в А/B тесте, где 0 — это версия \"A\", 1 —  версия \"B\".\n",
        "\n",
        "*Вместе с ответом на задание приложить код*\n"
      ]
    },
    {
      "cell_type": "code",
      "execution_count": 15,
      "metadata": {
        "id": "iNTuJpe3hyiK",
        "colab": {
          "base_uri": "https://localhost:8080/",
          "height": 201
        },
        "outputId": "fb0630fe-0509-446e-de8a-3efb065f533e"
      },
      "outputs": [
        {
          "output_type": "execute_result",
          "data": {
            "text/plain": [
              "       id variant  view  action\n",
              "0   88258       A    10       2\n",
              "1  109938       A     3       1\n",
              "2  117644       A     7       5\n",
              "3  374080       A     9       9\n",
              "4  662082       A     1       1"
            ],
            "text/html": [
              "\n",
              "  <div id=\"df-bb2c5838-8c19-4c31-8a7d-09e606dd288b\" class=\"colab-df-container\">\n",
              "    <div>\n",
              "<style scoped>\n",
              "    .dataframe tbody tr th:only-of-type {\n",
              "        vertical-align: middle;\n",
              "    }\n",
              "\n",
              "    .dataframe tbody tr th {\n",
              "        vertical-align: top;\n",
              "    }\n",
              "\n",
              "    .dataframe thead th {\n",
              "        text-align: right;\n",
              "    }\n",
              "</style>\n",
              "<table border=\"1\" class=\"dataframe\">\n",
              "  <thead>\n",
              "    <tr style=\"text-align: right;\">\n",
              "      <th></th>\n",
              "      <th>id</th>\n",
              "      <th>variant</th>\n",
              "      <th>view</th>\n",
              "      <th>action</th>\n",
              "    </tr>\n",
              "  </thead>\n",
              "  <tbody>\n",
              "    <tr>\n",
              "      <th>0</th>\n",
              "      <td>88258</td>\n",
              "      <td>A</td>\n",
              "      <td>10</td>\n",
              "      <td>2</td>\n",
              "    </tr>\n",
              "    <tr>\n",
              "      <th>1</th>\n",
              "      <td>109938</td>\n",
              "      <td>A</td>\n",
              "      <td>3</td>\n",
              "      <td>1</td>\n",
              "    </tr>\n",
              "    <tr>\n",
              "      <th>2</th>\n",
              "      <td>117644</td>\n",
              "      <td>A</td>\n",
              "      <td>7</td>\n",
              "      <td>5</td>\n",
              "    </tr>\n",
              "    <tr>\n",
              "      <th>3</th>\n",
              "      <td>374080</td>\n",
              "      <td>A</td>\n",
              "      <td>9</td>\n",
              "      <td>9</td>\n",
              "    </tr>\n",
              "    <tr>\n",
              "      <th>4</th>\n",
              "      <td>662082</td>\n",
              "      <td>A</td>\n",
              "      <td>1</td>\n",
              "      <td>1</td>\n",
              "    </tr>\n",
              "  </tbody>\n",
              "</table>\n",
              "</div>\n",
              "    <div class=\"colab-df-buttons\">\n",
              "\n",
              "  <div class=\"colab-df-container\">\n",
              "    <button class=\"colab-df-convert\" onclick=\"convertToInteractive('df-bb2c5838-8c19-4c31-8a7d-09e606dd288b')\"\n",
              "            title=\"Convert this dataframe to an interactive table.\"\n",
              "            style=\"display:none;\">\n",
              "\n",
              "  <svg xmlns=\"http://www.w3.org/2000/svg\" height=\"24px\" viewBox=\"0 -960 960 960\">\n",
              "    <path d=\"M120-120v-720h720v720H120Zm60-500h600v-160H180v160Zm220 220h160v-160H400v160Zm0 220h160v-160H400v160ZM180-400h160v-160H180v160Zm440 0h160v-160H620v160ZM180-180h160v-160H180v160Zm440 0h160v-160H620v160Z\"/>\n",
              "  </svg>\n",
              "    </button>\n",
              "\n",
              "  <style>\n",
              "    .colab-df-container {\n",
              "      display:flex;\n",
              "      gap: 12px;\n",
              "    }\n",
              "\n",
              "    .colab-df-convert {\n",
              "      background-color: #E8F0FE;\n",
              "      border: none;\n",
              "      border-radius: 50%;\n",
              "      cursor: pointer;\n",
              "      display: none;\n",
              "      fill: #1967D2;\n",
              "      height: 32px;\n",
              "      padding: 0 0 0 0;\n",
              "      width: 32px;\n",
              "    }\n",
              "\n",
              "    .colab-df-convert:hover {\n",
              "      background-color: #E2EBFA;\n",
              "      box-shadow: 0px 1px 2px rgba(60, 64, 67, 0.3), 0px 1px 3px 1px rgba(60, 64, 67, 0.15);\n",
              "      fill: #174EA6;\n",
              "    }\n",
              "\n",
              "    .colab-df-buttons div {\n",
              "      margin-bottom: 4px;\n",
              "    }\n",
              "\n",
              "    [theme=dark] .colab-df-convert {\n",
              "      background-color: #3B4455;\n",
              "      fill: #D2E3FC;\n",
              "    }\n",
              "\n",
              "    [theme=dark] .colab-df-convert:hover {\n",
              "      background-color: #434B5C;\n",
              "      box-shadow: 0px 1px 3px 1px rgba(0, 0, 0, 0.15);\n",
              "      filter: drop-shadow(0px 1px 2px rgba(0, 0, 0, 0.3));\n",
              "      fill: #FFFFFF;\n",
              "    }\n",
              "  </style>\n",
              "\n",
              "    <script>\n",
              "      const buttonEl =\n",
              "        document.querySelector('#df-bb2c5838-8c19-4c31-8a7d-09e606dd288b button.colab-df-convert');\n",
              "      buttonEl.style.display =\n",
              "        google.colab.kernel.accessAllowed ? 'block' : 'none';\n",
              "\n",
              "      async function convertToInteractive(key) {\n",
              "        const element = document.querySelector('#df-bb2c5838-8c19-4c31-8a7d-09e606dd288b');\n",
              "        const dataTable =\n",
              "          await google.colab.kernel.invokeFunction('convertToInteractive',\n",
              "                                                    [key], {});\n",
              "        if (!dataTable) return;\n",
              "\n",
              "        const docLinkHtml = 'Like what you see? Visit the ' +\n",
              "          '<a target=\"_blank\" href=https://colab.research.google.com/notebooks/data_table.ipynb>data table notebook</a>'\n",
              "          + ' to learn more about interactive tables.';\n",
              "        element.innerHTML = '';\n",
              "        dataTable['output_type'] = 'display_data';\n",
              "        await google.colab.output.renderOutput(dataTable, element);\n",
              "        const docLink = document.createElement('div');\n",
              "        docLink.innerHTML = docLinkHtml;\n",
              "        element.appendChild(docLink);\n",
              "      }\n",
              "    </script>\n",
              "  </div>\n",
              "\n",
              "\n",
              "<div id=\"df-fc145cb9-cff3-44f9-af09-5a3638981d27\">\n",
              "  <button class=\"colab-df-quickchart\" onclick=\"quickchart('df-fc145cb9-cff3-44f9-af09-5a3638981d27')\"\n",
              "            title=\"Suggest charts\"\n",
              "            style=\"display:none;\">\n",
              "\n",
              "<svg xmlns=\"http://www.w3.org/2000/svg\" height=\"24px\"viewBox=\"0 0 24 24\"\n",
              "     width=\"24px\">\n",
              "    <g>\n",
              "        <path d=\"M19 3H5c-1.1 0-2 .9-2 2v14c0 1.1.9 2 2 2h14c1.1 0 2-.9 2-2V5c0-1.1-.9-2-2-2zM9 17H7v-7h2v7zm4 0h-2V7h2v10zm4 0h-2v-4h2v4z\"/>\n",
              "    </g>\n",
              "</svg>\n",
              "  </button>\n",
              "\n",
              "<style>\n",
              "  .colab-df-quickchart {\n",
              "      --bg-color: #E8F0FE;\n",
              "      --fill-color: #1967D2;\n",
              "      --hover-bg-color: #E2EBFA;\n",
              "      --hover-fill-color: #174EA6;\n",
              "      --disabled-fill-color: #AAA;\n",
              "      --disabled-bg-color: #DDD;\n",
              "  }\n",
              "\n",
              "  [theme=dark] .colab-df-quickchart {\n",
              "      --bg-color: #3B4455;\n",
              "      --fill-color: #D2E3FC;\n",
              "      --hover-bg-color: #434B5C;\n",
              "      --hover-fill-color: #FFFFFF;\n",
              "      --disabled-bg-color: #3B4455;\n",
              "      --disabled-fill-color: #666;\n",
              "  }\n",
              "\n",
              "  .colab-df-quickchart {\n",
              "    background-color: var(--bg-color);\n",
              "    border: none;\n",
              "    border-radius: 50%;\n",
              "    cursor: pointer;\n",
              "    display: none;\n",
              "    fill: var(--fill-color);\n",
              "    height: 32px;\n",
              "    padding: 0;\n",
              "    width: 32px;\n",
              "  }\n",
              "\n",
              "  .colab-df-quickchart:hover {\n",
              "    background-color: var(--hover-bg-color);\n",
              "    box-shadow: 0 1px 2px rgba(60, 64, 67, 0.3), 0 1px 3px 1px rgba(60, 64, 67, 0.15);\n",
              "    fill: var(--button-hover-fill-color);\n",
              "  }\n",
              "\n",
              "  .colab-df-quickchart-complete:disabled,\n",
              "  .colab-df-quickchart-complete:disabled:hover {\n",
              "    background-color: var(--disabled-bg-color);\n",
              "    fill: var(--disabled-fill-color);\n",
              "    box-shadow: none;\n",
              "  }\n",
              "\n",
              "  .colab-df-spinner {\n",
              "    border: 2px solid var(--fill-color);\n",
              "    border-color: transparent;\n",
              "    border-bottom-color: var(--fill-color);\n",
              "    animation:\n",
              "      spin 1s steps(1) infinite;\n",
              "  }\n",
              "\n",
              "  @keyframes spin {\n",
              "    0% {\n",
              "      border-color: transparent;\n",
              "      border-bottom-color: var(--fill-color);\n",
              "      border-left-color: var(--fill-color);\n",
              "    }\n",
              "    20% {\n",
              "      border-color: transparent;\n",
              "      border-left-color: var(--fill-color);\n",
              "      border-top-color: var(--fill-color);\n",
              "    }\n",
              "    30% {\n",
              "      border-color: transparent;\n",
              "      border-left-color: var(--fill-color);\n",
              "      border-top-color: var(--fill-color);\n",
              "      border-right-color: var(--fill-color);\n",
              "    }\n",
              "    40% {\n",
              "      border-color: transparent;\n",
              "      border-right-color: var(--fill-color);\n",
              "      border-top-color: var(--fill-color);\n",
              "    }\n",
              "    60% {\n",
              "      border-color: transparent;\n",
              "      border-right-color: var(--fill-color);\n",
              "    }\n",
              "    80% {\n",
              "      border-color: transparent;\n",
              "      border-right-color: var(--fill-color);\n",
              "      border-bottom-color: var(--fill-color);\n",
              "    }\n",
              "    90% {\n",
              "      border-color: transparent;\n",
              "      border-bottom-color: var(--fill-color);\n",
              "    }\n",
              "  }\n",
              "</style>\n",
              "\n",
              "  <script>\n",
              "    async function quickchart(key) {\n",
              "      const quickchartButtonEl =\n",
              "        document.querySelector('#' + key + ' button');\n",
              "      quickchartButtonEl.disabled = true;  // To prevent multiple clicks.\n",
              "      quickchartButtonEl.classList.add('colab-df-spinner');\n",
              "      try {\n",
              "        const charts = await google.colab.kernel.invokeFunction(\n",
              "            'suggestCharts', [key], {});\n",
              "      } catch (error) {\n",
              "        console.error('Error during call to suggestCharts:', error);\n",
              "      }\n",
              "      quickchartButtonEl.classList.remove('colab-df-spinner');\n",
              "      quickchartButtonEl.classList.add('colab-df-quickchart-complete');\n",
              "    }\n",
              "    (() => {\n",
              "      let quickchartButtonEl =\n",
              "        document.querySelector('#df-fc145cb9-cff3-44f9-af09-5a3638981d27 button');\n",
              "      quickchartButtonEl.style.display =\n",
              "        google.colab.kernel.accessAllowed ? 'block' : 'none';\n",
              "    })();\n",
              "  </script>\n",
              "</div>\n",
              "\n",
              "    </div>\n",
              "  </div>\n"
            ],
            "application/vnd.google.colaboratory.intrinsic+json": {
              "type": "dataframe",
              "variable_name": "task5",
              "summary": "{\n  \"name\": \"task5\",\n  \"rows\": 8191,\n  \"fields\": [\n    {\n      \"column\": \"id\",\n      \"properties\": {\n        \"dtype\": \"number\",\n        \"std\": 1315851,\n        \"min\": 88258,\n        \"max\": 8390884,\n        \"num_unique_values\": 8191,\n        \"samples\": [\n          7846360,\n          4629755,\n          5923876\n        ],\n        \"semantic_type\": \"\",\n        \"description\": \"\"\n      }\n    },\n    {\n      \"column\": \"variant\",\n      \"properties\": {\n        \"dtype\": \"category\",\n        \"num_unique_values\": 2,\n        \"samples\": [\n          \"B\",\n          \"A\"\n        ],\n        \"semantic_type\": \"\",\n        \"description\": \"\"\n      }\n    },\n    {\n      \"column\": \"view\",\n      \"properties\": {\n        \"dtype\": \"number\",\n        \"std\": 3,\n        \"min\": 1,\n        \"max\": 22,\n        \"num_unique_values\": 22,\n        \"samples\": [\n          10,\n          18\n        ],\n        \"semantic_type\": \"\",\n        \"description\": \"\"\n      }\n    },\n    {\n      \"column\": \"action\",\n      \"properties\": {\n        \"dtype\": \"number\",\n        \"std\": 2,\n        \"min\": 1,\n        \"max\": 21,\n        \"num_unique_values\": 18,\n        \"samples\": [\n          2,\n          1\n        ],\n        \"semantic_type\": \"\",\n        \"description\": \"\"\n      }\n    }\n  ]\n}"
            }
          },
          "metadata": {},
          "execution_count": 15
        }
      ],
      "source": [
        "task5 = pd.read_csv ('task5.csv')\n",
        "task5.head() #тут данные отображаются корректно, не нужно ничего исправлять (спасибо)"
      ]
    },
    {
      "cell_type": "code",
      "source": [
        "task5['ctr'] = task5['action']/task5['view']\n",
        "#CTR отражает частоту перехода пользователей на элемент после его показа (сколько раз на него кликнули, после того, как сайт его продемонстрировал)\n",
        "\n",
        "gr_A = task5[task5['variant'] == 'A']['ctr']\n",
        "gr_B = task5[task5['variant'] == 'B']['ctr']\n",
        "\n",
        "plt.figure(figsize=(10, 6))\n",
        "sns.boxplot(x='variant', y='ctr', data=task5)\n",
        "plt.show()\n",
        "\n",
        "stat, p_value = stats.ttest_ind(gr_A, gr_B) #попробовали использовать t-test, но данные показали, что он не совсем корректно отображает желаемые результаты\n",
        "#возможно, это из-за того, что CTR имеет бинарный признак ( то есть либо 0, либо 1 - пользователь кликнул, или не кликнул). а t-test требует нормальности распределения\n",
        "print(f'Статистика: {stat}, p-value: {p_value}')\n",
        "\n",
        "stat1, p_value1 = stats.mannwhitneyu(gr_A, gr_B)# данный способ помог увидеть статистику лучше, поэтому можно остановиться на нем. (он не трубет нормальности данных, поэтому помог)\n",
        "print(f'Статистика: {stat1}, p-value: {p_value1}')\n",
        "#однако тем не менее результаты показали, что при изменениях в группах большой эффект не произошел. то есть значимого эффекта нет."
      ],
      "metadata": {
        "colab": {
          "base_uri": "https://localhost:8080/",
          "height": 575
        },
        "id": "kaAP8fX7M_S3",
        "outputId": "d9b56797-8dda-4046-ce3b-bbe5916d24b2"
      },
      "execution_count": 16,
      "outputs": [
        {
          "output_type": "display_data",
          "data": {
            "text/plain": [
              "<Figure size 1000x600 with 1 Axes>"
            ],
            "image/png": "[encoded data removed]"
          },
          "metadata": {}
        },
        {
          "output_type": "stream",
          "name": "stdout",
          "text": [
            "Статистика: 0.7613945386061419, p-value: 0.4464433737206549\n",
            "Статистика: 8325404.5, p-value: 0.3570928785921109\n"
          ]
        }
      ]
    },
    {
      "cell_type": "code",
      "source": [
        "#для закрепления результата попробуем другую визуализацию (конечно, результаты от этого не поменяются, но убедимся точно)\n",
        "plt.figure(figsize=(10, 6))\n",
        "sns.histplot(gr_A, kde=True, label='Группа A')\n",
        "sns.histplot(gr_B, kde=True, label='Группа B')\n",
        "plt.legend()\n",
        "plt.show()\n",
        "#группа B немного шире, однако несильно. это еще раз подтверждает, что значимость эффекта слабая. данная визуализация подтверждает то, что бы увидели\n",
        "#в предыдущей гистограмме"
      ],
      "metadata": {
        "colab": {
          "base_uri": "https://localhost:8080/",
          "height": 542
        },
        "id": "WEqwi1WrqRsT",
        "outputId": "dc86ad4c-b8b5-448b-c85c-ba1b6581c436"
      },
      "execution_count": 17,
      "outputs": [
        {
          "output_type": "display_data",
          "data": {
            "text/plain": [
              "<Figure size 1000x600 with 1 Axes>"
            ],
            "image/png": "[encoded data removed]"
          },
          "metadata": {}
        }
      ]
    },
    {
      "cell_type": "code",
      "source": [
        "#заключительным тестом сделаем метод моментов (то есть используем теорию из лекци\n",
        "A_mean = gr_A.mean()\n",
        "B_mean = gr_B.mean()\n",
        "A_str = gr_A.std()\n",
        "B_str = gr_B.std()\n",
        "A_common = (A_mean*(1-A_mean)/(A_str**2))- 1\n",
        "alpha1 = A_mean*A_common\n",
        "beta1 = (1-A_mean)*A_common\n",
        "print (alpha1, beta1)\n",
        "B_common = (B_mean*(1-B_mean)/(B_str**2))- 1\n",
        "alpha2 = B_mean*B_common\n",
        "beta2 = (1-B_mean)*B_common\n",
        "print (alpha2, beta2)\n",
        "#метод моментов окончательно доказал, что больших различий между"
      ],
      "metadata": {
        "colab": {
          "base_uri": "https://localhost:8080/"
        },
        "id": "c0UCicUArphk",
        "outputId": "d0aa9309-cb66-448d-b054-c5c9fedbe321"
      },
      "execution_count": 20,
      "outputs": [
        {
          "output_type": "stream",
          "name": "stdout",
          "text": [
            "0.7873869298453519 0.2464938162212024\n",
            "0.786292203985852 0.25309266396678765\n"
          ]
        }
      ]
    }
  ]
}