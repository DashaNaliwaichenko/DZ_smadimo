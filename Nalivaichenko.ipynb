{
  "cells": [
    {
      "cell_type": "markdown",
      "metadata": {
        "id": "f1gL2DEfNRGu"
      },
      "source": [
        "# Современные методы анализа данных и машинного обучения, БИ\n",
        "\n",
        "## НИУ ВШЭ, 2024-25 учебный год"
      ]
    },
    {
      "cell_type": "markdown",
      "metadata": {
        "id": "fdTH3pxXFLxw"
      },
      "source": [
        "### Домашнее задание №1. Библиотеки Numpy & Pandas"
      ]
    },
    {
      "cell_type": "markdown",
      "metadata": {
        "id": "Sk5URBvkFLxx"
      },
      "source": [
        "Задание выполнил(а):\n",
        "\n",
        "    Наливайченко Дарья\n",
        "    "
      ]
    },
    {
      "cell_type": "markdown",
      "metadata": {
        "id": "kqVyveO4FLxx"
      },
      "source": [
        "### Общая информация"
      ]
    },
    {
      "cell_type": "markdown",
      "metadata": {
        "id": "2A0wmBWwFLxx"
      },
      "source": [
        "__Дата выдачи:__ 19.01.2025\n",
        "\n",
        "__Дедлайн:__ 04:00 29.01.2025"
      ]
    },
    {
      "cell_type": "markdown",
      "metadata": {
        "id": "qK8Ari9eFLxz"
      },
      "source": [
        "### Оценивание и штрафы\n",
        "\n",
        "Каждая задача первого раздела (Numpy) оценивается в 2 балла.\n",
        "\n",
        "Оценка за первый раздел вычисляется по следующей формуле:\n",
        "\n",
        "$$\n",
        "s_{\\text{numpy}} \\times 1/2 ,\n",
        "$$\n",
        "\n",
        "где $s_{\\text{numpy}}$  — количество баллов, которое вы набрали в сумме по задачам первого раздела.\n",
        "\n",
        "Каждая задача второго раздела (Pandas) оценивается в 3 балла.\n",
        "\n",
        "Оценка за второй раздел вычисляется по следующей формуле:\n",
        "\n",
        "$$\n",
        "s_{\\text{pandas}} \\times 10/54 ,\n",
        "$$\n",
        "\n",
        "где $s_{\\text{pandas}}$  — количество баллов, которое вы набрали в сумме по задачам второго раздела.\n",
        "\n",
        "Общая оценка за ДЗ вычисляется по следующей формуле:\n",
        "\n",
        "$$\n",
        "O_{1} \\times 3/10 + O_2 \\times 7/10 ,\n",
        "$$\n",
        "\n",
        "где $O_1, O_2$  — оценки за первый и второй раздел соответственно.\n",
        "\n",
        "За сдачу задания позже срока на итоговую оценку за задание накладывается штраф в размере 1 **вторичный** балл в день, но  задержка не может быть больше недели.\n",
        "\n",
        "**Важно:** В этом домашнем задании предусмотрено несколько заданий, за которые можно получить бонусные баллы. Бонусные баллы прибавляются к обычным баллам, и может выйти так, что ваша итоговая оценка станет больше 10. В таком случае именно это и будет являться вашей оценкой. То есть за это ДЗ **можно** получить больше 10"
      ]
    },
    {
      "cell_type": "markdown",
      "metadata": {
        "id": "nEGThfK6FLx0"
      },
      "source": [
        "__Внимание!__ Домашнее задание выполняется самостоятельно. Не допускается помощь в решении домашнего задания от однокурсников или третьих лиц. «Похожие» решения считаются плагиатом, и все задействованные студенты — в том числе и те, у кого списали, — не могут получить за него больше 0 баллов. Использование в решении домашнего задания генеративных моделей (ChatGPT и так далее) за рамками справочной и образовательной информации для генерации кода задания — считается плагиатом, и такое домашнее задание оценивается в 0 баллов."
      ]
    },
    {
      "cell_type": "markdown",
      "metadata": {
        "id": "zNja-u8vFLx0"
      },
      "source": [
        "### Формат сдачи"
      ]
    },
    {
      "cell_type": "markdown",
      "metadata": {
        "id": "_H-cf8uaFLx0"
      },
      "source": [
        "Загрузка файлов с решениями происходит в системе [Anytask](https://anytask.org/). Необходимо загружать файл с расширением .ipynb (питоновский ноутбук)\n",
        "\n",
        "Инвайт для подключения к странице курса в системе — будет указан для каждой группы в нашем телеграмм-канале позднее."
      ]
    },
    {
      "cell_type": "markdown",
      "source": [
        "## Раздел 1. Numpy"
      ],
      "metadata": {
        "id": "nRVHx0jluMpn"
      }
    },
    {
      "cell_type": "markdown",
      "metadata": {
        "id": "TEVawss2FLxy"
      },
      "source": [
        "### О задании"
      ]
    },
    {
      "cell_type": "markdown",
      "metadata": {
        "id": "NXNpYAFdFLxz"
      },
      "source": [
        "В данном разделе вы попрактикуетесь в работе с библиотекой numpy!"
      ]
    },
    {
      "cell_type": "code",
      "execution_count": null,
      "metadata": {
        "collapsed": true,
        "id": "4gsWSgTIFLx1"
      },
      "outputs": [],
      "source": [
        "import numpy as np"
      ]
    },
    {
      "cell_type": "markdown",
      "metadata": {
        "id": "ApiPWJygFLx2"
      },
      "source": [
        "Во всех задачах необходимо написать код решения внутри функции и проверить его работу, вызвав функцию для данных из условия.\n",
        "\n",
        "При решении задач запрещается использовать циклы (`for`, `while`) и оператор `if`.\n",
        "\n",
        "Везде, где встречаются массивы или матрицы, подразумевается, что это `numpy.array`."
      ]
    },
    {
      "cell_type": "markdown",
      "metadata": {
        "id": "8fc_z7yNFLx2"
      },
      "source": [
        "### 1"
      ]
    },
    {
      "cell_type": "markdown",
      "metadata": {
        "id": "ETNlMgiZFLx3"
      },
      "source": [
        "Напишите функцию, возвращающую округленную взвешенную сумму оценок по данным оценкам и весам. Можете посчитать свою оценку за курс :) В нашем случае вес экзамена равен 0.25, вес домашек - 0.1, вес групповых проектов - 0.2, вес аудиторки - 0.2, вес контрольной 1 - 0.1, вес контрольной 2 - 0.1 и вес проекта - 0.05. Например, если экзамен написан на 6, домашки сданы на 9, проекты закрыты на 8, оценка за аудиторку 7, контрольная 1 написана на 10, контрольная 2 написана на 7 и проект сдан на 10 - итоговая оценка будет хорошо - 8"
      ]
    },
    {
      "cell_type": "code",
      "execution_count": null,
      "metadata": {
        "collapsed": true,
        "id": "VDEhJbQ-FLx3"
      },
      "outputs": [],
      "source": [
        "def result_mark(weights, marks):\n",
        "    grade = round(np.sum(weights*marks))\n",
        "    return grade"
      ]
    },
    {
      "cell_type": "code",
      "execution_count": null,
      "metadata": {
        "collapsed": true,
        "id": "NcaSNNLNFLx3",
        "colab": {
          "base_uri": "https://localhost:8080/"
        },
        "outputId": "68d0552c-a676-4acc-af9f-24bad936d7d2"
      },
      "outputs": [
        {
          "output_type": "execute_result",
          "data": {
            "text/plain": [
              "8"
            ]
          },
          "metadata": {},
          "execution_count": 10
        }
      ],
      "source": [
        "weights = np.array([0.25, 0.1, 0.2, 0.2, 0.1, 0.1, 0.05])\n",
        "marks = np.array([6, 9, 8, 7, 10, 7, 10])\n",
        "result_mark(weights, marks)"
      ]
    },
    {
      "cell_type": "markdown",
      "metadata": {
        "id": "J0V1vikQFLx3"
      },
      "source": [
        "### 2"
      ]
    },
    {
      "cell_type": "markdown",
      "metadata": {
        "id": "-7GYYXZ-FLx4"
      },
      "source": [
        "Напишите функцию, меняющую каждое третье (начиная с 0) значение массива целых чисел на заданное число. Например, если на вход поступает массив `array([3, 5, 1, 0, -3, 22, 213436])` и число `-111`, то на выходе должен получиться массив `array([-111, 5, 1, -111, -3, 22, -111])`."
      ]
    },
    {
      "cell_type": "code",
      "execution_count": null,
      "metadata": {
        "collapsed": true,
        "id": "bCl2jHbqFLx4"
      },
      "outputs": [],
      "source": [
        "def change_array(array, number):\n",
        "    array[::3] = number\n",
        "    return array"
      ]
    },
    {
      "cell_type": "code",
      "execution_count": null,
      "metadata": {
        "collapsed": true,
        "id": "Gpq8NhDLFLx4",
        "colab": {
          "base_uri": "https://localhost:8080/"
        },
        "outputId": "bdd307f0-d3f2-41db-f0c1-3d36792b74b1"
      },
      "outputs": [
        {
          "output_type": "execute_result",
          "data": {
            "text/plain": [
              "array([-111,    5,    1, -111,   -3,   22, -111])"
            ]
          },
          "metadata": {},
          "execution_count": 12
        }
      ],
      "source": [
        "array = np.array([3, 5, 1, 0, -3, 22, 213436])\n",
        "number = -111\n",
        "change_array(array, number)"
      ]
    },
    {
      "cell_type": "markdown",
      "metadata": {
        "id": "Sal1bM6RFLx4"
      },
      "source": [
        "### 3"
      ]
    },
    {
      "cell_type": "markdown",
      "metadata": {
        "id": "au8Az2JjFLx5"
      },
      "source": [
        "Напишите функцию, выдающую индексы «близких» элементов заданных массивов, а именно тех пар элементов, чей модуль разницы не превосходит заданного значения. Например, если на вход поступают массив `array([1.5, 0.5, 2, -4.1, -3, 6, -1])`, массив `array([1.2, 0.5, 1, -4, 3, 0, -1.2])` и число `0.5`, то на выходе должен получиться массив `array([0, 1, 3, 6])` (_**важно: не `tuple`, а одномерный массив типа `numpy.ndarray` (то есть `.ndim` от него равно 1)!**_)."
      ]
    },
    {
      "cell_type": "code",
      "execution_count": null,
      "metadata": {
        "collapsed": true,
        "id": "WacJagotFLx5"
      },
      "outputs": [],
      "source": [
        "def find_close(array1, array2, precision):\n",
        "    diff = np.abs(array1-array2)\n",
        "    result = np.where(diff<=precision)[0]\n",
        "    return result"
      ]
    },
    {
      "cell_type": "code",
      "execution_count": null,
      "metadata": {
        "collapsed": true,
        "id": "zFLktJlAFLx5",
        "colab": {
          "base_uri": "https://localhost:8080/"
        },
        "outputId": "c498be77-4434-4123-db12-7133baf73bb1"
      },
      "outputs": [
        {
          "output_type": "execute_result",
          "data": {
            "text/plain": [
              "array([0, 1, 3, 6])"
            ]
          },
          "metadata": {},
          "execution_count": 14
        }
      ],
      "source": [
        "array1 = np.array([1.5, 0.5, 2, -4.1, -3, 6, -1])\n",
        "array2 = np.array([1.2, 0.5, 1, -4, 3, 0, -1.2])\n",
        "precision = 0.5\n",
        "find_close(array1, array2, precision)"
      ]
    },
    {
      "cell_type": "markdown",
      "metadata": {
        "id": "vIuNrOzMFLx6"
      },
      "source": [
        "### 4"
      ]
    },
    {
      "cell_type": "markdown",
      "metadata": {
        "id": "ygLvIXXaFLx6"
      },
      "source": [
        "Напишите функцию, которая составляет блочную матрицу из четырех блоков, где каждый блок - это заданная матрица. Например, если на вход поступает матрица\n",
        "$$\n",
        "\\begin{pmatrix}\n",
        "0 & 1 & 2\\\\\n",
        "3 & 4 & 5\\\\\n",
        "\\end{pmatrix},\n",
        "$$\n",
        "то ответом будет матрица\n",
        "$$\n",
        "\\begin{pmatrix}\n",
        "0 & 1 & 2 & 0 & 1 & 2\\\\\n",
        "3 & 4 & 5 & 3 & 4 & 5\\\\\n",
        "0 & 1 & 2 & 0 & 1 & 2\\\\\n",
        "3 & 4 & 5 & 3 & 4 & 5\\\\\n",
        "\\end{pmatrix}\n",
        "$$"
      ]
    },
    {
      "cell_type": "code",
      "execution_count": null,
      "metadata": {
        "collapsed": true,
        "id": "3ZSvD5CbFLx6"
      },
      "outputs": [],
      "source": [
        "def block_matrix(block):\n",
        "    return np.block([[block,block],\n",
        "                     [block,block]])"
      ]
    },
    {
      "cell_type": "code",
      "execution_count": null,
      "metadata": {
        "collapsed": true,
        "id": "x2zSnETKFLx6",
        "colab": {
          "base_uri": "https://localhost:8080/"
        },
        "outputId": "d3d64f30-6c53-4c8f-bb14-ba0fd0cc8466"
      },
      "outputs": [
        {
          "output_type": "execute_result",
          "data": {
            "text/plain": [
              "array([[0, 1, 2, 0, 1, 2],\n",
              "       [3, 4, 5, 3, 4, 5],\n",
              "       [0, 1, 2, 0, 1, 2],\n",
              "       [3, 4, 5, 3, 4, 5]])"
            ]
          },
          "metadata": {},
          "execution_count": 16
        }
      ],
      "source": [
        "block = np.array([[0, 1, 2], [3, 4, 5]])\n",
        "block_matrix(block)"
      ]
    },
    {
      "cell_type": "markdown",
      "metadata": {
        "id": "4Bjhe8y1FLx7"
      },
      "source": [
        "### 5"
      ]
    },
    {
      "cell_type": "markdown",
      "metadata": {
        "id": "-U82db8IFLx7"
      },
      "source": [
        "Напишите функцию, вычисляющую произведение всех ненулевых диагональных элементов на главной диагонали данной квадратной матрицы. Например, если на вход поступает матрица\n",
        "$$\n",
        "\\begin{pmatrix}\n",
        "0 & 1 & 2\\\\\n",
        "3 & 4 & 5\\\\\n",
        "6 & 7 & 8\\\\\n",
        "\\end{pmatrix},\n",
        "$$\n",
        "то ответом будет 32."
      ]
    },
    {
      "cell_type": "code",
      "execution_count": null,
      "metadata": {
        "collapsed": true,
        "id": "KXSqcJtDFLx7"
      },
      "outputs": [],
      "source": [
        "def diag_prod(matrix):\n",
        "    diag = np.diagonal(matrix)\n",
        "    return np.prod(diag[diag!=0])"
      ]
    },
    {
      "cell_type": "code",
      "execution_count": null,
      "metadata": {
        "collapsed": true,
        "id": "tVMMGkuwFLx7",
        "colab": {
          "base_uri": "https://localhost:8080/"
        },
        "outputId": "49f6d709-5f14-487e-fcf0-710df0edb9e5"
      },
      "outputs": [
        {
          "output_type": "execute_result",
          "data": {
            "text/plain": [
              "32"
            ]
          },
          "metadata": {},
          "execution_count": 18
        }
      ],
      "source": [
        "matrix = np.array([[0, 1, 2], [3, 4, 5], [6, 7, 8]])\n",
        "diag_prod(matrix)"
      ]
    },
    {
      "cell_type": "markdown",
      "metadata": {
        "id": "N4x5oKBqFLx8"
      },
      "source": [
        "### 6"
      ]
    },
    {
      "cell_type": "markdown",
      "metadata": {
        "id": "X_KxN00rFLx8"
      },
      "source": [
        "Для улучшения качества работы некоторых алгоритмов машинного обучения может быть полезно использовать [нормализацию данных](https://vk.cc/8xmfQk), чтобы привести признаки в выборке к одному масштабу — а именно, из каждого столбца вычесть среднее его значений и поделить на их стандартное отклонение. Напишите функцию, нормализующую входящую матрицу (по столбцам). Например, если на вход подается матрица\n",
        "$$\n",
        "\\begin{pmatrix}\n",
        "1 & 4 & 4200\\\\\n",
        "0 & 10 & 5000\\\\\n",
        "1 & 2 & 1000\\\\\n",
        "\\end{pmatrix},\n",
        "$$\n",
        "то результатом с точностью до сотых будет матрица\n",
        "$$\n",
        "\\begin{pmatrix}\n",
        "0.71 & -0.39 & 0.46\\\\\n",
        "-1.41 & 1.37 & 0.93\\\\\n",
        "0.71 & -0.98 & -1.39\\\\\n",
        "\\end{pmatrix}\n",
        "$$\n",
        "\n",
        "_Подсказка. Учтите, что в вашей матрице не должно получаться никаких nan. Подумайте, в каком случае они могут возникнуть и как обойти эту проблему._\n"
      ]
    },
    {
      "cell_type": "code",
      "execution_count": null,
      "metadata": {
        "collapsed": true,
        "id": "8-1UM3LqFLx8"
      },
      "outputs": [],
      "source": [
        "def normalize(matrix):\n",
        "    result = (matrix - (np.mean(matrix, axis = 0))) / (np.where(np.std(matrix, axis=0) == 0, 1, np.std(matrix, axis=0)))\n",
        "    return np.round(result,2)"
      ]
    },
    {
      "cell_type": "code",
      "execution_count": null,
      "metadata": {
        "collapsed": true,
        "id": "5s0nCZJNFLx8",
        "colab": {
          "base_uri": "https://localhost:8080/"
        },
        "outputId": "c087f9dd-ad01-4aee-96f3-17f36e24e420"
      },
      "outputs": [
        {
          "output_type": "execute_result",
          "data": {
            "text/plain": [
              "array([[ 0.71, -0.39,  0.46],\n",
              "       [-1.41,  1.37,  0.93],\n",
              "       [ 0.71, -0.98, -1.39]])"
            ]
          },
          "metadata": {},
          "execution_count": 20
        }
      ],
      "source": [
        "matrix = np.array([[1, 4, 4200], [0, 10, 5000], [1, 2, 1000]])\n",
        "normalize(matrix)"
      ]
    },
    {
      "cell_type": "markdown",
      "metadata": {
        "id": "GGezY0NEFLx9"
      },
      "source": [
        "### 7"
      ]
    },
    {
      "cell_type": "markdown",
      "metadata": {
        "id": "yBWZF7a5FLx9"
      },
      "source": [
        "Напишите функцию, вычисляющую какую-нибудь первообразную данного полинома (в качестве константы возьмите ваше любимое число). Например, если на вход поступает массив коэффициентов `array([4, 6, 0, 1])`, что соответствует полиному $4x^3 + 6x^2 + 1$, на выходе получается массив коэффициентов `array([1, 2, 0, 1, -2])`, соответствующий полиному $x^4 + 2x^3 + x - 2$."
      ]
    },
    {
      "cell_type": "code",
      "execution_count": null,
      "metadata": {
        "collapsed": true,
        "id": "IWU9ISN_FLx9"
      },
      "outputs": [],
      "source": [
        "def antiderivative(coefs):\n",
        "    result = coefs / (np.arange(len(coefs), 0, -1))\n",
        "    return np.append(result, -2)"
      ]
    },
    {
      "cell_type": "code",
      "execution_count": null,
      "metadata": {
        "collapsed": true,
        "id": "9G2gNNZxFLx9",
        "colab": {
          "base_uri": "https://localhost:8080/"
        },
        "outputId": "a7efb175-3bd4-49e5-9d9d-ae044dd7d746"
      },
      "outputs": [
        {
          "output_type": "execute_result",
          "data": {
            "text/plain": [
              "array([ 1.,  2.,  0.,  1., -2.])"
            ]
          },
          "metadata": {},
          "execution_count": 22
        }
      ],
      "source": [
        "coefs = np.array([4, 6, 0, 1])\n",
        "antiderivative(coefs)"
      ]
    },
    {
      "cell_type": "markdown",
      "metadata": {
        "id": "6LtnZ4T1FLx9"
      },
      "source": [
        "### 8"
      ]
    },
    {
      "cell_type": "markdown",
      "metadata": {
        "id": "vGq8Aao0FLx-"
      },
      "source": [
        "Напишите функцию, делающую данную [треугольную матрицу](https://ru.wikipedia.org/wiki/%D0%A2%D1%80%D0%B5%D1%83%D0%B3%D0%BE%D0%BB%D1%8C%D0%BD%D0%B0%D1%8F_%D0%BC%D0%B0%D1%82%D1%80%D0%B8%D1%86%D0%B0) симметричной. Например, если на вход поступает матрица\n",
        "$$\n",
        "\\begin{pmatrix}\n",
        "1 & 2 & 3 & 4\\\\\n",
        "0 & 5 & 6 & 7\\\\\n",
        "0 & 0 & 8 & 9\\\\\n",
        "0 & 0 & 0 & 10\\\\\n",
        "\\end{pmatrix},\n",
        "$$\n",
        "то на выходе должна быть матрица\n",
        "$$\n",
        "\\begin{pmatrix}\n",
        "1 & 2 & 3 & 4\\\\\n",
        "2 & 5 & 6 & 7\\\\\n",
        "3 & 6 & 8 & 9\\\\\n",
        "4 & 7 & 9 & 10\\\\\n",
        "\\end{pmatrix}.\n",
        "$$"
      ]
    },
    {
      "cell_type": "code",
      "execution_count": null,
      "metadata": {
        "collapsed": true,
        "id": "X9YCwhUxFLx-"
      },
      "outputs": [],
      "source": [
        "def make_symmetric(matrix):\n",
        "    return np.maximum(matrix, matrix.T)"
      ]
    },
    {
      "cell_type": "code",
      "execution_count": null,
      "metadata": {
        "collapsed": true,
        "id": "ShNVSsM-FLx-",
        "colab": {
          "base_uri": "https://localhost:8080/"
        },
        "outputId": "63346e19-1905-43d6-c353-e525e6b64638"
      },
      "outputs": [
        {
          "output_type": "execute_result",
          "data": {
            "text/plain": [
              "array([[ 1,  2,  3,  4],\n",
              "       [ 2,  5,  6,  7],\n",
              "       [ 3,  6,  8,  9],\n",
              "       [ 4,  7,  9, 10]])"
            ]
          },
          "metadata": {},
          "execution_count": 24
        }
      ],
      "source": [
        "matrix = np.array([[1, 2, 3, 4], [0, 5, 6, 7], [0, 0, 8, 9], [0, 0, 0, 10]])\n",
        "make_symmetric(matrix)"
      ]
    },
    {
      "cell_type": "markdown",
      "metadata": {
        "id": "JV_y8k8rFLx-"
      },
      "source": [
        "### 9"
      ]
    },
    {
      "cell_type": "markdown",
      "metadata": {
        "id": "7pX12jtoFLx_"
      },
      "source": [
        "Напишите функцию, создающую прямоугольную матрицу из m одинаковых строк, заполненных последовательными натуральными числами от a до b включительно в возрастающем порядке. Например, если m = 5, a = 3, b = 10, то на выходе будет матрица\n",
        "$$\n",
        "\\begin{pmatrix}\n",
        "3 & 4 & 5 & 6 & 7 & 8 & 9 & 10\\\\\n",
        "3 & 4 & 5 & 6 & 7 & 8 & 9 & 10\\\\\n",
        "3 & 4 & 5 & 6 & 7 & 8 & 9 & 10\\\\\n",
        "3 & 4 & 5 & 6 & 7 & 8 & 9 & 10\\\\\n",
        "3 & 4 & 5 & 6 & 7 & 8 & 9 & 10\\\\\n",
        "\\end{pmatrix}\n",
        "$$"
      ]
    },
    {
      "cell_type": "code",
      "execution_count": null,
      "metadata": {
        "collapsed": true,
        "id": "g2yZmQ4gFLx_"
      },
      "outputs": [],
      "source": [
        "def construct_matrix(m, a, b):\n",
        "    return np.tile(np.arange(a,b+1), (m,1))"
      ]
    },
    {
      "cell_type": "code",
      "execution_count": null,
      "metadata": {
        "collapsed": true,
        "id": "bsaKjkvOFLx_",
        "colab": {
          "base_uri": "https://localhost:8080/"
        },
        "outputId": "1c39b60c-8ca5-4d88-de43-c00c414975c6"
      },
      "outputs": [
        {
          "output_type": "execute_result",
          "data": {
            "text/plain": [
              "array([[ 3,  4,  5,  6,  7,  8,  9, 10],\n",
              "       [ 3,  4,  5,  6,  7,  8,  9, 10],\n",
              "       [ 3,  4,  5,  6,  7,  8,  9, 10],\n",
              "       [ 3,  4,  5,  6,  7,  8,  9, 10],\n",
              "       [ 3,  4,  5,  6,  7,  8,  9, 10]])"
            ]
          },
          "metadata": {},
          "execution_count": 26
        }
      ],
      "source": [
        "m = 5\n",
        "a = 3\n",
        "b = 10\n",
        "construct_matrix(m, a, b)"
      ]
    },
    {
      "cell_type": "markdown",
      "metadata": {
        "id": "G9vWLQZWFLx_"
      },
      "source": [
        "### 10"
      ]
    },
    {
      "cell_type": "markdown",
      "metadata": {
        "id": "USWqm0x7FLx_"
      },
      "source": [
        "Напишите функцию, вычисляющую [косинусную близость](https://en.wikipedia.org/wiki/Cosine_similarity) двух векторов. Например, если на вход поступают вектора `array([-2, 1, 0, -5, 4, 3, -3])` и `array([0, 2, -2, 10, 6, 0, 0])`, ответом будет -0.25."
      ]
    },
    {
      "cell_type": "code",
      "execution_count": null,
      "metadata": {
        "collapsed": true,
        "id": "48XiDQTBFLyA"
      },
      "outputs": [],
      "source": [
        "def cosine_similarity(vec1, vec2):\n",
        "    if (np.linalg.norm(vec1)) == 0 or (np.linalg.norm(vec2)==0):\n",
        "      return 0.0\n",
        "    return (np.dot(vec1,vec2))/((np.linalg.norm(vec1))*(np.linalg.norm(vec2)))"
      ]
    },
    {
      "cell_type": "code",
      "execution_count": null,
      "metadata": {
        "collapsed": true,
        "id": "YmEsEYHrFLyA",
        "colab": {
          "base_uri": "https://localhost:8080/"
        },
        "outputId": "b9ba6082-5af1-4625-9723-ebf14b68e343"
      },
      "outputs": [
        {
          "output_type": "execute_result",
          "data": {
            "text/plain": [
              "-0.25"
            ]
          },
          "metadata": {},
          "execution_count": 28
        }
      ],
      "source": [
        "vec1 = np.array([-2, 1, 0, -5, 4, 3, -3])\n",
        "vec2 = np.array([0, 2, -2, 10, 6, 0, 0])\n",
        "cosine_similarity(vec1, vec2)"
      ]
    },
    {
      "cell_type": "markdown",
      "source": [
        "## Раздел 2. Pandas"
      ],
      "metadata": {
        "id": "ahfJyTsDuaD6"
      }
    },
    {
      "cell_type": "markdown",
      "metadata": {
        "id": "9y0Eqft-ugr_"
      },
      "source": [
        "### О задании"
      ]
    },
    {
      "cell_type": "markdown",
      "metadata": {
        "id": "55u9lnUtugr_"
      },
      "source": [
        "В данном разделе вы попрактикуетесь в работе с библиотекой pandas!"
      ]
    },
    {
      "cell_type": "code",
      "execution_count": null,
      "metadata": {
        "collapsed": true,
        "id": "DFu7UczHugr_"
      },
      "outputs": [],
      "source": [
        "import pandas as pd"
      ]
    },
    {
      "cell_type": "markdown",
      "metadata": {
        "id": "XJrwOn9mugsA"
      },
      "source": [
        "Обратите внимание, что практически во всех заданиях вам потребуется написать какой-то текст в виде вывода/результата/итога/какого-то резюме. Пожалуйста, не ленитесь, и пишите выводы ***подробно***, существенная часть баллов будет выставляться именно за выводы, так как в анализе данных они имеют большое значение. Таким образом, на любое задание, сформулированное в виде вопроса, отвечайте текстом, подкрепляя ваши слова написанным и выполненным кодом. Текст выводов/комментариев пишите в отдельных ячейках, используя средства текстового редактора Jupyter Notebook/Google Colab, при необходимости используйте средства *выделения*.\n",
        "\n",
        "При решении задач, когда вам необходимо сделать какой-то фильтр, срез, выборку, или иное действие с данными, запрещается использовать циклы (`for`, `while`) и оператор `if`.\n"
      ]
    },
    {
      "cell_type": "markdown",
      "metadata": {
        "id": "dGrzCZkIZKge"
      },
      "source": [
        "### 1"
      ]
    },
    {
      "cell_type": "markdown",
      "source": [
        "В этом разделе домашнего задания вы поработаете с данными исследования зависимости средней продолжительности жизни по странам от количества употребляемого в стране алкоголя.\n",
        "\n",
        "Вашему вниманию представлено два датасета: drinks.csv и lifeexpectancy-verbose.csv\n",
        "\n",
        "Первая таблица содержит в себе сводные данные по количеству употребляемого алкоголя в каждой стране.\n",
        "\n",
        "Описание датасета:\n",
        "- country -\tName of the country (String)\n",
        "- beer_servings\t- Number of beer servings per person in the country (Integer)\n",
        "- spirit_servings\t- Number of spirit servings per person in the country (Integer)\n",
        "- wine_servings\t- Number of wine servings per person in the country(Integer)\n",
        "- total_litres_of_pure_alcohol -\tTotal litres of pure alcohol consumed per person in the country (Float)\n",
        "\n",
        "Вторая таблица содержит в себе информацию о научных статьях и исследованиях о продолжительности жизни (в разных категориях и для разных групп) по той или иной стране."
      ],
      "metadata": {
        "id": "zGH53krziiVU"
      }
    },
    {
      "cell_type": "markdown",
      "metadata": {
        "id": "rQyUvNgkZKge"
      },
      "source": [
        "Откройте в ноутбуке оба файла с данными. Какой размер имеют таблицы? Выведите первые 5 и последние 5 строк для обеих таблиц. Сколько уникальных стран представлено в каждой из таблиц? Сделайте выводы."
      ]
    },
    {
      "cell_type": "code",
      "execution_count": null,
      "metadata": {
        "collapsed": true,
        "id": "nUpM5eHoZKgf",
        "colab": {
          "base_uri": "https://localhost:8080/",
          "height": 35
        },
        "outputId": "1208f1c1-b064-433f-cc5e-0e185cc20941"
      },
      "outputs": [
        {
          "output_type": "display_data",
          "data": {
            "text/plain": [
              "<IPython.core.display.HTML object>"
            ],
            "text/html": [
              "\n",
              "     <input type=\"file\" id=\"files-479eaa8e-ad73-46c7-8aa1-d77abe6b72eb\" name=\"files[]\" multiple disabled\n",
              "        style=\"border:none\" />\n",
              "     <output id=\"result-479eaa8e-ad73-46c7-8aa1-d77abe6b72eb\">\n",
              "      Upload widget is only available when the cell has been executed in the\n",
              "      current browser session. Please rerun this cell to enable.\n",
              "      </output>\n",
              "      <script>// Copyright 2017 Google LLC\n",
              "//\n",
              "// Licensed under the Apache License, Version 2.0 (the \"License\");\n",
              "// you may not use this file except in compliance with the License.\n",
              "// You may obtain a copy of the License at\n",
              "//\n",
              "//      http://www.apache.org/licenses/LICENSE-2.0\n",
              "//\n",
              "// Unless required by applicable law or agreed to in writing, software\n",
              "// distributed under the License is distributed on an \"AS IS\" BASIS,\n",
              "// WITHOUT WARRANTIES OR CONDITIONS OF ANY KIND, either express or implied.\n",
              "// See the License for the specific language governing permissions and\n",
              "// limitations under the License.\n",
              "\n",
              "/**\n",
              " * @fileoverview Helpers for google.colab Python module.\n",
              " */\n",
              "(function(scope) {\n",
              "function span(text, styleAttributes = {}) {\n",
              "  const element = document.createElement('span');\n",
              "  element.textContent = text;\n",
              "  for (const key of Object.keys(styleAttributes)) {\n",
              "    element.style[key] = styleAttributes[key];\n",
              "  }\n",
              "  return element;\n",
              "}\n",
              "\n",
              "// Max number of bytes which will be uploaded at a time.\n",
              "const MAX_PAYLOAD_SIZE = 100 * 1024;\n",
              "\n",
              "function _uploadFiles(inputId, outputId) {\n",
              "  const steps = uploadFilesStep(inputId, outputId);\n",
              "  const outputElement = document.getElementById(outputId);\n",
              "  // Cache steps on the outputElement to make it available for the next call\n",
              "  // to uploadFilesContinue from Python.\n",
              "  outputElement.steps = steps;\n",
              "\n",
              "  return _uploadFilesContinue(outputId);\n",
              "}\n",
              "\n",
              "// This is roughly an async generator (not supported in the browser yet),\n",
              "// where there are multiple asynchronous steps and the Python side is going\n",
              "// to poll for completion of each step.\n",
              "// This uses a Promise to block the python side on completion of each step,\n",
              "// then passes the result of the previous step as the input to the next step.\n",
              "function _uploadFilesContinue(outputId) {\n",
              "  const outputElement = document.getElementById(outputId);\n",
              "  const steps = outputElement.steps;\n",
              "\n",
              "  const next = steps.next(outputElement.lastPromiseValue);\n",
              "  return Promise.resolve(next.value.promise).then((value) => {\n",
              "    // Cache the last promise value to make it available to the next\n",
              "    // step of the generator.\n",
              "    outputElement.lastPromiseValue = value;\n",
              "    return next.value.response;\n",
              "  });\n",
              "}\n",
              "\n",
              "/**\n",
              " * Generator function which is called between each async step of the upload\n",
              " * process.\n",
              " * @param {string} inputId Element ID of the input file picker element.\n",
              " * @param {string} outputId Element ID of the output display.\n",
              " * @return {!Iterable<!Object>} Iterable of next steps.\n",
              " */\n",
              "function* uploadFilesStep(inputId, outputId) {\n",
              "  const inputElement = document.getElementById(inputId);\n",
              "  inputElement.disabled = false;\n",
              "\n",
              "  const outputElement = document.getElementById(outputId);\n",
              "  outputElement.innerHTML = '';\n",
              "\n",
              "  const pickedPromise = new Promise((resolve) => {\n",
              "    inputElement.addEventListener('change', (e) => {\n",
              "      resolve(e.target.files);\n",
              "    });\n",
              "  });\n",
              "\n",
              "  const cancel = document.createElement('button');\n",
              "  inputElement.parentElement.appendChild(cancel);\n",
              "  cancel.textContent = 'Cancel upload';\n",
              "  const cancelPromise = new Promise((resolve) => {\n",
              "    cancel.onclick = () => {\n",
              "      resolve(null);\n",
              "    };\n",
              "  });\n",
              "\n",
              "  // Wait for the user to pick the files.\n",
              "  const files = yield {\n",
              "    promise: Promise.race([pickedPromise, cancelPromise]),\n",
              "    response: {\n",
              "      action: 'starting',\n",
              "    }\n",
              "  };\n",
              "\n",
              "  cancel.remove();\n",
              "\n",
              "  // Disable the input element since further picks are not allowed.\n",
              "  inputElement.disabled = true;\n",
              "\n",
              "  if (!files) {\n",
              "    return {\n",
              "      response: {\n",
              "        action: 'complete',\n",
              "      }\n",
              "    };\n",
              "  }\n",
              "\n",
              "  for (const file of files) {\n",
              "    const li = document.createElement('li');\n",
              "    li.append(span(file.name, {fontWeight: 'bold'}));\n",
              "    li.append(span(\n",
              "        `(${file.type || 'n/a'}) - ${file.size} bytes, ` +\n",
              "        `last modified: ${\n",
              "            file.lastModifiedDate ? file.lastModifiedDate.toLocaleDateString() :\n",
              "                                    'n/a'} - `));\n",
              "    const percent = span('0% done');\n",
              "    li.appendChild(percent);\n",
              "\n",
              "    outputElement.appendChild(li);\n",
              "\n",
              "    const fileDataPromise = new Promise((resolve) => {\n",
              "      const reader = new FileReader();\n",
              "      reader.onload = (e) => {\n",
              "        resolve(e.target.result);\n",
              "      };\n",
              "      reader.readAsArrayBuffer(file);\n",
              "    });\n",
              "    // Wait for the data to be ready.\n",
              "    let fileData = yield {\n",
              "      promise: fileDataPromise,\n",
              "      response: {\n",
              "        action: 'continue',\n",
              "      }\n",
              "    };\n",
              "\n",
              "    // Use a chunked sending to avoid message size limits. See b/62115660.\n",
              "    let position = 0;\n",
              "    do {\n",
              "      const length = Math.min(fileData.byteLength - position, MAX_PAYLOAD_SIZE);\n",
              "      const chunk = new Uint8Array(fileData, position, length);\n",
              "      position += length;\n",
              "\n",
              "      const base64 = btoa(String.fromCharCode.apply(null, chunk));\n",
              "      yield {\n",
              "        response: {\n",
              "          action: 'append',\n",
              "          file: file.name,\n",
              "          data: base64,\n",
              "        },\n",
              "      };\n",
              "\n",
              "      let percentDone = fileData.byteLength === 0 ?\n",
              "          100 :\n",
              "          Math.round((position / fileData.byteLength) * 100);\n",
              "      percent.textContent = `${percentDone}% done`;\n",
              "\n",
              "    } while (position < fileData.byteLength);\n",
              "  }\n",
              "\n",
              "  // All done.\n",
              "  yield {\n",
              "    response: {\n",
              "      action: 'complete',\n",
              "    }\n",
              "  };\n",
              "}\n",
              "\n",
              "scope.google = scope.google || {};\n",
              "scope.google.colab = scope.google.colab || {};\n",
              "scope.google.colab._files = {\n",
              "  _uploadFiles,\n",
              "  _uploadFilesContinue,\n",
              "};\n",
              "})(self);\n",
              "</script> "
            ]
          },
          "metadata": {}
        }
      ],
      "source": [
        "from google.colab import files\n",
        "uploaded = files.upload()"
      ]
    },
    {
      "cell_type": "code",
      "source": [
        "drinks = pd.read_csv('drinks.csv')\n",
        "lifeexpectancy = pd.read_csv('lifeexpectancy-verbose.csv')"
      ],
      "metadata": {
        "id": "Xab0946wI52U"
      },
      "execution_count": null,
      "outputs": []
    },
    {
      "cell_type": "code",
      "source": [
        "print ('Размер таблицы drinks ', drinks.shape)\n",
        "print ('Размер таблицы lifeexpectancy', lifeexpectancy.shape)"
      ],
      "metadata": {
        "colab": {
          "base_uri": "https://localhost:8080/"
        },
        "id": "lSTdM8zRTR1f",
        "outputId": "c43ed508-d3fe-4087-c44f-f4104709dacb"
      },
      "execution_count": null,
      "outputs": [
        {
          "output_type": "stream",
          "name": "stdout",
          "text": [
            "Размер таблицы drinks  (193, 6)\n",
            "Размер таблицы lifeexpectancy (6408, 17)\n"
          ]
        }
      ]
    },
    {
      "cell_type": "code",
      "source": [
        "#drinks.columns ('country', 'beer_servings', 'spirit_servings', 'wine_servings', 'total_litres_of_pure_alcohol')\n",
        "print(drinks.head()) #первые 5 строк таблицы drinks\n",
        "print (drinks.tail()) #последние 5 строк таблицы drinks"
      ],
      "metadata": {
        "colab": {
          "base_uri": "https://localhost:8080/"
        },
        "id": "1D8XWrnRSgFp",
        "outputId": "1a9543ab-34fc-4274-9090-4314a74494d9"
      },
      "execution_count": null,
      "outputs": [
        {
          "output_type": "stream",
          "name": "stdout",
          "text": [
            "   index      country  beer_servings  spirit_servings  wine_servings  \\\n",
            "0      0  Afghanistan              0                0              0   \n",
            "1      1      Albania             89              132             54   \n",
            "2      2      Algeria             25                0             14   \n",
            "3      3      Andorra            245              138            312   \n",
            "4      4       Angola            217               57             45   \n",
            "\n",
            "   total_litres_of_pure_alcohol  \n",
            "0                           0.0  \n",
            "1                           4.9  \n",
            "2                           0.7  \n",
            "3                          12.4  \n",
            "4                           5.9  \n",
            "     index    country  beer_servings  spirit_servings  wine_servings  \\\n",
            "188    188  Venezuela            333              100              3   \n",
            "189    189    Vietnam            111                2              1   \n",
            "190    190      Yemen              6                0              0   \n",
            "191    191     Zambia             32               19              4   \n",
            "192    192   Zimbabwe             64               18              4   \n",
            "\n",
            "     total_litres_of_pure_alcohol  \n",
            "188                           7.7  \n",
            "189                           2.0  \n",
            "190                           0.1  \n",
            "191                           2.5  \n",
            "192                           4.7  \n"
          ]
        }
      ]
    },
    {
      "cell_type": "code",
      "source": [
        "print (lifeexpectancy.head()) #первые 5 строк таблицы lifeexpectancy\n",
        "print (lifeexpectancy.tail()) #последние 5 строк таблицы lifeexpectancy"
      ],
      "metadata": {
        "colab": {
          "base_uri": "https://localhost:8080/"
        },
        "id": "vVppO7ckS1DJ",
        "outputId": "b20ecfc6-b394-42cf-d2d0-304031998d4e"
      },
      "execution_count": null,
      "outputs": [
        {
          "output_type": "stream",
          "name": "stdout",
          "text": [
            "   index        GhoCode                                       GhoDisplay  \\\n",
            "0      0  WHOSIS_000001                 Life expectancy at birth (years)   \n",
            "1      1  WHOSIS_000002  Healthy life expectancy (HALE) at birth (years)   \n",
            "2      2  WHOSIS_000001                 Life expectancy at birth (years)   \n",
            "3      3  WHOSIS_000001                 Life expectancy at birth (years)   \n",
            "4      4  WHOSIS_000015                Life expectancy at age 60 (years)   \n",
            "\n",
            "  PublishStateCode PublishStateDisplay  YearCode  YearDisplay RegionCode  \\\n",
            "0        PUBLISHED           Published      1990         1990        AMR   \n",
            "1        PUBLISHED           Published      2012         2012        EUR   \n",
            "2        PUBLISHED           Published      2000         2000        EMR   \n",
            "3        PUBLISHED           Published      2000         2000        AFR   \n",
            "4        PUBLISHED           Published      1990         1990       SEAR   \n",
            "\n",
            "           RegionDisplay WorldBankIncomeGroupGroupCode  \\\n",
            "0               Americas                        WB_LMI   \n",
            "1                 Europe                         WB_HI   \n",
            "2  Eastern Mediterranean                         WB_LI   \n",
            "3                 Africa                        WB_LMI   \n",
            "4        South_East Asia                        WB_LMI   \n",
            "\n",
            "  WorldBankIncomeGroupDisplay CountryCode CountryDisplay SexCode  SexDisplay  \\\n",
            "0         Lower_middle_income         NIC      Nicaragua     MLE        Male   \n",
            "1                 High_income         IRL        Ireland     MLE        Male   \n",
            "2                  Low_income         YEM          Yemen    BTSX  Both sexes   \n",
            "3         Lower_middle_income         NGA        Nigeria    FMLE      Female   \n",
            "4         Lower_middle_income         THA       Thailand    FMLE      Female   \n",
            "\n",
            "   DisplayValue  Numeric  \n",
            "0            68     68.0  \n",
            "1            69     69.3  \n",
            "2            61     61.0  \n",
            "3            48     48.0  \n",
            "4            19     19.0  \n",
            "      index        GhoCode                                       GhoDisplay  \\\n",
            "6403   6403  WHOSIS_000001                 Life expectancy at birth (years)   \n",
            "6404   6404  WHOSIS_000015                Life expectancy at age 60 (years)   \n",
            "6405   6405  WHOSIS_000001                 Life expectancy at birth (years)   \n",
            "6406   6406  WHOSIS_000002  Healthy life expectancy (HALE) at birth (years)   \n",
            "6407   6407  WHOSIS_000001                 Life expectancy at birth (years)   \n",
            "\n",
            "     PublishStateCode PublishStateDisplay  YearCode  YearDisplay RegionCode  \\\n",
            "6403        PUBLISHED           Published      2000         2000        EMR   \n",
            "6404        PUBLISHED           Published      1990         1990        WPR   \n",
            "6405        PUBLISHED           Published      1990         1990        AFR   \n",
            "6406        PUBLISHED           Published      2012         2012        EUR   \n",
            "6407        PUBLISHED           Published      2013         2013        EUR   \n",
            "\n",
            "              RegionDisplay WorldBankIncomeGroupGroupCode  \\\n",
            "6403  Eastern Mediterranean                        WB_LMI   \n",
            "6404        Western Pacific                        WB_UMI   \n",
            "6405                 Africa                         WB_LI   \n",
            "6406                 Europe                        WB_LMI   \n",
            "6407                 Europe                           NaN   \n",
            "\n",
            "     WorldBankIncomeGroupDisplay CountryCode CountryDisplay SexCode  \\\n",
            "6403         Lower_middle_income         MAR        Morocco    BTSX   \n",
            "6404         Upper_middle_income         PLW          Palau    BTSX   \n",
            "6405                  Low_income         BFA   Burkina Faso    FMLE   \n",
            "6406         Lower_middle_income         ALB        Albania     MLE   \n",
            "6407                         NaN         ARM        Armenia    BTSX   \n",
            "\n",
            "      SexDisplay  DisplayValue   Numeric  \n",
            "6403  Both sexes            68  68.00000  \n",
            "6404  Both sexes            16  16.00000  \n",
            "6405      Female            51  51.00000  \n",
            "6406        Male            64  63.50000  \n",
            "6407  Both sexes            71  71.02699  \n"
          ]
        }
      ]
    },
    {
      "cell_type": "code",
      "source": [
        "print('Уникальных стран в drinks', drinks['country'].nunique())\n",
        "print('Уникальных стран в lifeexpectancy', lifeexpectancy['CountryDisplay'].nunique())\n",
        "# в drinks на одну уникальную страну меньше, значит, в будущем, при объединение\n",
        "# таблиц у нас может получится только одно несовпадение."
      ],
      "metadata": {
        "colab": {
          "base_uri": "https://localhost:8080/"
        },
        "id": "mJlQOnnEmkd3",
        "outputId": "25b693b3-56fd-42c3-dcee-017117f53ee6"
      },
      "execution_count": null,
      "outputs": [
        {
          "output_type": "stream",
          "name": "stdout",
          "text": [
            "Уникальных стран в drinks 193\n",
            "Уникальных стран в lifeexpectancy 194\n"
          ]
        }
      ]
    },
    {
      "cell_type": "markdown",
      "source": [
        "### 2"
      ],
      "metadata": {
        "id": "8f1_cl1Ojg9r"
      }
    },
    {
      "cell_type": "markdown",
      "source": [
        "Для каждого признака в рассматриваемых данных укажите вид этого признака и кратко обоснуйте, почему вид именно такой."
      ],
      "metadata": {
        "id": "hOXMwdDGlAaa"
      }
    },
    {
      "cell_type": "code",
      "source": [
        "print('drinks', drinks.dtypes) #узнаем вид каждого из атрибутов\n",
        "print ('lifeexpectancy', lifeexpectancy.dtypes)"
      ],
      "metadata": {
        "colab": {
          "base_uri": "https://localhost:8080/"
        },
        "id": "VinzeXZvoqrU",
        "outputId": "16b8ef05-4e27-49ce-e6e6-94d2d2685597"
      },
      "execution_count": null,
      "outputs": [
        {
          "output_type": "stream",
          "name": "stdout",
          "text": [
            "drinks index                             int64\n",
            "country                          object\n",
            "beer_servings                     int64\n",
            "spirit_servings                   int64\n",
            "wine_servings                     int64\n",
            "total_litres_of_pure_alcohol    float64\n",
            "dtype: object\n",
            "lifeexpectancy index                              int64\n",
            "GhoCode                           object\n",
            "GhoDisplay                        object\n",
            "PublishStateCode                  object\n",
            "PublishStateDisplay               object\n",
            "YearCode                           int64\n",
            "YearDisplay                        int64\n",
            "RegionCode                        object\n",
            "RegionDisplay                     object\n",
            "WorldBankIncomeGroupGroupCode     object\n",
            "WorldBankIncomeGroupDisplay       object\n",
            "CountryCode                       object\n",
            "CountryDisplay                    object\n",
            "SexCode                           object\n",
            "SexDisplay                        object\n",
            "DisplayValue                       int64\n",
            "Numeric                          float64\n",
            "dtype: object\n"
          ]
        }
      ]
    },
    {
      "cell_type": "markdown",
      "source": [
        "**index** - числовой индетификатор, так как индекс представляет собой обычной порядковый номер (int64)\n",
        "**country** - название, которое не имеет числового значения (поэтому просто object)\n",
        "**beer_servings, spirit_servings, wine_servings** - int64 так как отражается количество литров в целых числах\n",
        "**total_litres_of_pure_alcohol** - float64, допускается дробные значения\n",
        "**GhoCode, GhoDisplay, PublishStateCode, PublishStateDisplay, RegionCode, RegionDisplay, WorldBankIncomeGroupGroupCode, WorldBankIncomeGroupDisplay, CountryCode, SexCode, SexDisplay** - object так как описываются страны, статус публикации, города, (что-то связанное с банками) и пол. все это можно описать с помощью букв без использования чисел.\n",
        "**YearCode, YearDisplay** - год рождения, описывается цифрами, поэтому int64\n",
        "**DisplayValue** - отражает средную продолжительность жизни, поэтому целыми числами int64\n",
        "**Numeric** - float64 так как отражает то же самое, что и DisplayValue, только с точностью до тысячных\n"
      ],
      "metadata": {
        "id": "2einwDe8lVry"
      }
    },
    {
      "cell_type": "markdown",
      "source": [
        "### 3"
      ],
      "metadata": {
        "id": "FxJDNYhMljdc"
      }
    },
    {
      "cell_type": "markdown",
      "source": [
        "Внимательно изучите признаки обеих таблиц. Как вы считаете, какая из таблиц является главной (а какая сопутствующей)? Почему вы так думаете?\n",
        "\n",
        "Какой признак может представлять существенный интерес для исследования и являться целевой переменной в рамках представленного датасета? Ответ обоснуйте.\n",
        "\n",
        "***Бонус (1 бон. балл):*** Попробуйте описать задачу машинного обучения, которую вы могли бы решать для данного датасета с учетом выбранной вами раннее целевой переменной и проблематики исследования. Подробнее про постановку и формализацию задач машинного обучения, а также про различные типы таких задач — вы можете прочитать, например, вот в этой [статье](https://habr.com/ru/company/simbirsoft/blog/565396/) (в начале)"
      ],
      "metadata": {
        "id": "UVDua9fQllw6"
      }
    },
    {
      "cell_type": "markdown",
      "source": [
        "как мне кажется, lifeexpectancy-verbose является главной таблицей. так как в этой таблице содержаться данные, которые более весомы для анализа (например, продолжительность жизни, наименования научных статей и упоминания гендера). в то время, как drinks содержит данные про потребление алкоголя в соответствие с городами (то есть в заивисимости от города, который указан в таблице drinks, можно найти всю остальную информацию в другой таблице lifeexpetancy)\n",
        "\n",
        "целевой переменной можно считать Numeric из таблицы lifeexpectancy, которая отражает числовое значение показателя продолжительности жизни. так как наш анализ подразумевает исследование зависимости продолжительности жизни от количества выпитого алкоголя (среднего количество выпитого алкоголя), то данную переменную можно считать ключевым показателем.\n",
        "\n",
        "**ПРИМЕР ЗАДАЧИ**\n",
        "попытаемся рассмотреть модель задачи, которая будет предсказывать ожидаемую продолжительности жизни в зависимости от региона (тип задачи:регрессия, так как мы прогнозируем числово значение (то есть продолжительность жизни Numeric)). данная задача позволит оценить влияние региона на продолжительность жизни. также можно полученные результаты можно использовать для анализа здоровья населения в разных регионах мира."
      ],
      "metadata": {
        "id": "2hrANQDyFYAK"
      }
    },
    {
      "cell_type": "markdown",
      "metadata": {
        "id": "w4CScFwLZKgg"
      },
      "source": [
        "### 4"
      ]
    },
    {
      "cell_type": "markdown",
      "metadata": {
        "id": "eQLEQXd-ZKgg"
      },
      "source": [
        "Какова доля статей о продолжительности жизни в Африке? Какова доля статей о продолжительности жизни мужчин и доля статей о продолжительности жизни женщин среди всех статей по Африке?\n",
        "\n",
        "***Бонус (2 бон. балла):*** Сравните эти доли с аналогичными долями по другим регионам. Как вы можете объяснить возникающие сходства и различия? Прокомментируйте полученные результаты."
      ]
    },
    {
      "cell_type": "code",
      "execution_count": null,
      "metadata": {
        "id": "-uzVP9fTZKgg",
        "colab": {
          "base_uri": "https://localhost:8080/"
        },
        "outputId": "e2e89d80-5555-42d1-e01a-9ac3265ddbef"
      },
      "outputs": [
        {
          "output_type": "stream",
          "name": "stdout",
          "text": [
            "Доля статей о продолжительности жизни в Африке  0.23782771535580524\n",
            "Доля статей о продолжительности жизни мужчин среди всех статей по Африке 0.3333333333333333\n",
            "Доля статей о продолжительности жизни женщин среди всех статей по Африке 0.3333333333333333\n",
            "Доля статей о продолжительности жизни в Америке  0.1802434456928839\n",
            "Доля статей о продолжительности жизни мужчин среди всех статей по Америке 0.3333333333333333\n",
            "Доля статей о продолжительности жизни женщин среди всех статей по Америке 0.3333333333333333\n",
            "Доля статей о продолжительности жизни в Европейских странах  0.272940074906367\n",
            "Доля статей о продолжительности жизни мужчин среди всех статей по Европейским странам 0.3333333333333333\n",
            "Доля статей о продолжительности жизни женщин среди всех статей по Европейским странам 0.3333333333333333\n"
          ]
        }
      ],
      "source": [
        "afrika = lifeexpectancy[lifeexpectancy['RegionDisplay']=='Africa']\n",
        "count = afrika.shape[0] #всего статей Африки\n",
        "share = count/(lifeexpectancy.shape[0])\n",
        "print('Доля статей о продолжительности жизни в Африке ',share) #доля статей о продолжительности жизни в Африке\n",
        "men = afrika[afrika['SexCode']=='MLE'].shape[0]\n",
        "notmen = afrika[afrika['SexCode']=='FMLE'].shape[0]\n",
        "#print (men)\n",
        "#print(notmen)\n",
        "print ('Доля статей о продолжительности жизни мужчин среди всех статей по Африке', (men/count))\n",
        "print ('Доля статей о продолжительности жизни женщин среди всех статей по Африке', notmen/count)\n",
        "#-----\n",
        "america = lifeexpectancy[lifeexpectancy['RegionDisplay']=='Americas']\n",
        "count1 = america.shape[0] #всего статей Америке\n",
        "share1 = count1/(lifeexpectancy.shape[0])\n",
        "print('Доля статей о продолжительности жизни в Америке ',share1) #доля статей о продолжительности жизни в Америке\n",
        "men1 = america[america['SexCode']=='MLE'].shape[0]\n",
        "notmen1 = america[america['SexCode']=='FMLE'].shape[0]\n",
        "print('Доля статей о продолжительности жизни мужчин среди всех статей по Америке', (men1/count1))\n",
        "print ('Доля статей о продолжительности жизни женщин среди всех статей по Америке', (notmen1/count1))\n",
        "#------\n",
        "gayrope = lifeexpectancy[lifeexpectancy['RegionDisplay']=='Europe']\n",
        "count2 = gayrope.shape[0] #всего статей Европейских стран\n",
        "share2 = count2/(lifeexpectancy.shape[0])\n",
        "print('Доля статей о продолжительности жизни в Европейских странах ',share2)\n",
        "men3 = gayrope[gayrope['SexCode']=='MLE'].shape[0]\n",
        "notmen3 = gayrope[gayrope['SexCode']=='FMLE'].shape[0]\n",
        "print('Доля статей о продолжительности жизни мужчин среди всех статей по Европейским странам', (men3/count2))\n",
        "print ('Доля статей о продолжительности жизни женщин среди всех статей по Европейским странам', (notmen3/count2))"
      ]
    },
    {
      "cell_type": "markdown",
      "source": [
        "**ВЫВОД**\n",
        "\n",
        "каждая доля статей о продолжительности жизни в зависимости от континента имеет примерно одинаковую долю в соотношение с другими. самая большая доля (из рассматриваемых) имеют Европейские страны(возможно, из-за большего количества рассматриваемых стран в соотношение со странами Африки и Америкой)\n",
        "\n",
        "что касается пола: можно обратить внимание на то, что разделение написанных статей не отличаются в зависимости от пола. то есть количество статей по каждому из полу равны в каждом (рассматриваемом) континенте."
      ],
      "metadata": {
        "id": "qBJSV2VFt2YW"
      }
    },
    {
      "cell_type": "markdown",
      "metadata": {
        "id": "3Y8ILyzlZKgg"
      },
      "source": [
        "### 5"
      ]
    },
    {
      "cell_type": "markdown",
      "metadata": {
        "id": "nEfsxhQUZKgg"
      },
      "source": [
        "Сколько всего существует видов статей с точки зрения оцениваемого параметра продолжительности жизни? Какой из этих видов статей самый популярный (написано наибольшее количество научных работ)? В рамках найденного вами самого популярного вида статей проведите сравнение, относительно какой из половых групп: мужчины, женщины или же оба пола — статей в нем было больше всего?"
      ]
    },
    {
      "cell_type": "code",
      "execution_count": null,
      "metadata": {
        "collapsed": true,
        "id": "kQVTfRKFZKgg",
        "colab": {
          "base_uri": "https://localhost:8080/"
        },
        "outputId": "cfd6ba2a-0d25-4877-e3c3-0dcd32c95258"
      },
      "outputs": [
        {
          "output_type": "stream",
          "name": "stdout",
          "text": [
            "Существует  3 видов статей\n",
            "Самый популярный вид статей  Life expectancy at birth (years) ; количество:  2328\n",
            "SexDisplay\n",
            "Male          776\n",
            "Both sexes    776\n",
            "Female        776\n",
            "Name: count, dtype: int64\n"
          ]
        }
      ],
      "source": [
        "types = lifeexpectancy['GhoDisplay'].nunique()\n",
        "print('Существует ', types, 'видов статей')\n",
        "popular = lifeexpectancy['GhoDisplay'].value_counts().idxmax()\n",
        "count = lifeexpectancy['GhoDisplay'].value_counts().max()\n",
        "print('Самый популярный вид статей ', popular, '; количество: ',count)\n",
        "a = lifeexpectancy[lifeexpectancy['GhoDisplay']==popular]\n",
        "sex = a['SexDisplay'].value_counts()\n",
        "print (sex)\n",
        "\n",
        "#по данным результатам можно сказать, что количество статей по самому популярному виду (Ожидаемая продолжительность жизни от рождения)\n",
        "#равное вне зависимости от пола(гендера). все исследования проводились равномерно для каждой из половых групп"
      ]
    },
    {
      "cell_type": "markdown",
      "metadata": {
        "id": "d9G-K_H0ZKgh"
      },
      "source": [
        "### 6"
      ]
    },
    {
      "cell_type": "markdown",
      "metadata": {
        "id": "gM69Tv9sZKgh"
      },
      "source": [
        "Выведите минимальную, среднюю, медианную и максимальную оцененную продолжительность жизни людей от рождения (life expectancy at birth). Выберите любые три страны на ваш вкус и проделайте то же самое только для статей по этим странам. Что можно сказать на основе результатов, которые вы получили?"
      ]
    },
    {
      "cell_type": "code",
      "execution_count": null,
      "metadata": {
        "collapsed": true,
        "id": "JNyWyX1pZKgh",
        "colab": {
          "base_uri": "https://localhost:8080/"
        },
        "outputId": "c16b5018-bab4-4cd8-ebe7-0ee7f20c4102"
      },
      "outputs": [
        {
          "output_type": "stream",
          "name": "stdout",
          "text": [
            "Минимальное значение  38.0\n",
            "Максимальное значение  87.15457\n",
            "Среднее значение  68.44137943298968\n",
            "Медианное значение  70.857895\n",
            "Страна  Azerbaijan\n",
            "Минимальное значение  60.0\n",
            "Максимальное значение  75.14409\n",
            "Среднее значение  68.43248583333333\n",
            "Медианное значение  69.0\n",
            "Страна  Rwanda\n",
            "Минимальное значение  46.0\n",
            "Максимальное значение  67.11962\n",
            "Среднее значение  56.113660833333334\n",
            "Медианное значение  56.5\n",
            "Страна  Saint Lucia\n",
            "Минимальное значение  70.0\n",
            "Максимальное значение  79.12785\n",
            "Среднее значение  74.07309166666667\n",
            "Медианное значение  74.0\n"
          ]
        }
      ],
      "source": [
        "a = lifeexpectancy[lifeexpectancy['GhoDisplay']=='Life expectancy at birth (years)']\n",
        "min = a['Numeric'].min()\n",
        "max = a['Numeric'].max()\n",
        "mean = a['Numeric'].mean()\n",
        "median = a['Numeric'].median()\n",
        "print('Минимальное значение ', min)\n",
        "print('Максимальное значение ', max)\n",
        "print('Среднее значение ', mean)\n",
        "print('Медианное значение ', median)\n",
        "\n",
        "array = ['Azerbaijan', 'Rwanda', 'Saint Lucia']\n",
        "for c in array:\n",
        "  data = lifeexpectancy[(lifeexpectancy['CountryDisplay']==c) & (lifeexpectancy['GhoDisplay']=='Life expectancy at birth (years)')]['Numeric']\n",
        "  min = data.min()\n",
        "  max = data.max()\n",
        "  mean = data.mean()\n",
        "  median = data.median()\n",
        "  print('Страна ', c)\n",
        "  print('Минимальное значение ', min)\n",
        "  print('Максимальное значение ', max)\n",
        "  print('Среднее значение ', mean)\n",
        "  print('Медианное значение ', median)"
      ]
    },
    {
      "cell_type": "markdown",
      "source": [
        "**ВЫВОД**\n",
        "\n",
        "минимальное значение - 38.00 - и максимальное значение - 87.15 - может говорит о большом разборсе продолжительности жизни между выбранными страннами.\n",
        "среднее и медианное значение почти равны друг другу (очень близки) - 68.44 и 70.86, это в свою очередь, наоборот, может показывать равномерное распределение данных (это в некоторой степени противоречит предыдущему высказыванию о том, что между странами большой разборс, однако подобные случаи могут быть в виде исключения)\n",
        "\n",
        "у выбранной страны Rwanda самое низкое среднее значение и самая большая разница между максимальным и минимальным значением. возможно, это в некоторой стпени может указывать на проблемы с продолжительностью жизни и качестовм жизни.\n",
        "\n",
        "самое высокое среднее значение у Saint Lucia. это в свою очередь может свидетельствовать о высоком уровне и качестве жизни.\n",
        "\n",
        "Azerbaijan демонстрирует относительно стабильные показатели.\n",
        "\n",
        "таким образом, можно сделать вывод, что в зависимости от выбранной для анализа страны данные могут значительно варьироваться."
      ],
      "metadata": {
        "id": "3Ge3UwnV7kh8"
      }
    },
    {
      "cell_type": "markdown",
      "source": [
        "### 7\n",
        "\n",
        "Сформируйте результирующий датафрейм на основе проделанных вами действий в предыдущем номере. У датафрейма должно быть 4 столбца, в соответствии с заданными агреггирующими функциями: минимум, среднее, медиана, максимум, — а также 4 строки: статистика по всему датасету; статистика по трем выбранным вами странам. Сохраните программно созданный вами датафрейм в виде csv файла.\n",
        "\n",
        "*Примечание. Датафрейм необходимо создавать автоматизированным образом. Не допускается ручной перенос значений из полученных в предыдущем задании ячеек в пустой датафрейм и/или прописывание конкретных значений (чисел) в коде программы. Представьте, что у нас не 3 страны, а 100 и не 4 агреггирующих метрики, а 100!*"
      ],
      "metadata": {
        "id": "ZhzV-ygY0NI0"
      }
    },
    {
      "cell_type": "code",
      "source": [
        "u = lifeexpectancy[lifeexpectancy['GhoDisplay']=='Life expectancy at birth (years)']['Numeric']\n",
        "array1 = {\n",
        "    'Страна': 'Общее',\n",
        "    'Минимальное': u.min(),\n",
        "    'Среднее': u.mean(),\n",
        "    'Медиана': u.median(),\n",
        "    'Максимальное': u.max()\n",
        "}\n",
        "array = ['Azerbaijan', 'Rwanda', 'Saint Lucia']\n",
        "s = []\n",
        "for c in array:\n",
        "  data = lifeexpectancy[(lifeexpectancy['CountryDisplay']==c) & (lifeexpectancy['GhoDisplay']=='Life expectancy at birth (years)')]['Numeric']\n",
        "  s.append({\n",
        "      'Страна': c,\n",
        "      'Минимальное': data.min(),\n",
        "      'Среднее': data.mean(),\n",
        "      'Медиана': data.median(),\n",
        "      'Максимальное': data.max()\n",
        "  })\n",
        "\n",
        "table = [array1]+s\n",
        "table_df = pd.DataFrame(table, columns = ['Страна', 'Минимальное', 'Среднее', 'Медиана', 'Максимальное'])\n",
        "print(table_df)\n",
        "\n",
        "table_df.to_csv('dz7.csv', index=False)"
      ],
      "metadata": {
        "id": "kdVvSBfq0oUn",
        "colab": {
          "base_uri": "https://localhost:8080/"
        },
        "outputId": "914b1eaa-0abb-4dd8-f997-2d59a5842bb5"
      },
      "execution_count": null,
      "outputs": [
        {
          "output_type": "stream",
          "name": "stdout",
          "text": [
            "        Страна  Минимальное    Среднее    Медиана  Максимальное\n",
            "0        Общее         38.0  68.441379  70.857895      87.15457\n",
            "1   Azerbaijan         60.0  68.432486  69.000000      75.14409\n",
            "2       Rwanda         46.0  56.113661  56.500000      67.11962\n",
            "3  Saint Lucia         70.0  74.073092  74.000000      79.12785\n"
          ]
        }
      ]
    },
    {
      "cell_type": "markdown",
      "metadata": {
        "id": "L5KAIFPBZKgi"
      },
      "source": [
        "### 8"
      ]
    },
    {
      "cell_type": "markdown",
      "metadata": {
        "id": "Tv3QepvHZKgi"
      },
      "source": [
        "Есть ли в наших датасетах пропуски? Если да, то в каких столбцах? Сколько пропусков в каждом из них?\n",
        "\n",
        "Подумайте, как стоит избавиться от пропусков в каждом из столбцов, и сделайте это. Аргументируйте ваши действия.\n",
        "\n",
        "Проверьте, что пропусков нигде не осталось.\n",
        "\n",
        "*Примечание. Не забудьте сохранить все изменения! В последующих заданиях вы должны работать с уже обновленными датасетами.*"
      ]
    },
    {
      "cell_type": "code",
      "execution_count": 37,
      "metadata": {
        "collapsed": true,
        "id": "wgP23TD3ZKgi",
        "colab": {
          "base_uri": "https://localhost:8080/"
        },
        "outputId": "74cd3e4b-b4c9-47c7-82a1-2137b6e69f29"
      },
      "outputs": [
        {
          "output_type": "stream",
          "name": "stdout",
          "text": [
            "пропуски в таблице drinks country                         0\n",
            "beer_servings                   0\n",
            "spirit_servings                 0\n",
            "wine_servings                   0\n",
            "total_litres_of_pure_alcohol    0\n",
            "dtype: int64\n",
            "пропуски в таблице lifeexpectancy  index                            0\n",
            "GhoCode                          0\n",
            "GhoDisplay                       0\n",
            "PublishStateCode                 0\n",
            "PublishStateDisplay              0\n",
            "YearCode                         0\n",
            "YearDisplay                      0\n",
            "RegionCode                       0\n",
            "RegionDisplay                    0\n",
            "WorldBankIncomeGroupGroupCode    0\n",
            "WorldBankIncomeGroupDisplay      0\n",
            "CountryCode                      0\n",
            "CountryDisplay                   0\n",
            "SexCode                          0\n",
            "SexDisplay                       0\n",
            "DisplayValue                     0\n",
            "Numeric                          0\n",
            "dtype: int64\n",
            "пропуски в таблице lifeexpectancy после заполнения пропусков  index                            0\n",
            "GhoCode                          0\n",
            "GhoDisplay                       0\n",
            "PublishStateCode                 0\n",
            "PublishStateDisplay              0\n",
            "YearCode                         0\n",
            "YearDisplay                      0\n",
            "RegionCode                       0\n",
            "RegionDisplay                    0\n",
            "WorldBankIncomeGroupGroupCode    0\n",
            "WorldBankIncomeGroupDisplay      0\n",
            "CountryCode                      0\n",
            "CountryDisplay                   0\n",
            "SexCode                          0\n",
            "SexDisplay                       0\n",
            "DisplayValue                     0\n",
            "Numeric                          0\n",
            "dtype: int64\n"
          ]
        }
      ],
      "source": [
        "print ('пропуски в таблице drinks', drinks.isnull().sum()) #пропуски в таблице drinks\n",
        "print ('пропуски в таблице lifeexpectancy ', lifeexpectancy.isnull().sum()) #пропуски в таблице lifeexpectancy\n",
        "# в drinks нет пропусков, то есть заполнить нужно только lifeexpctancy\n",
        "\n",
        "def gho(df,x): # делаем функцию, которая заполнит таблицу рандомными значениями из возможных значений данной колонки\n",
        "  unique = df[x].dropna().unique() #находим уникальные значения\n",
        "  df[x]=df[x].apply(lambda x: np.random.choice(unique) if pd.isnull(x) else x)\n",
        "\n",
        "for x in lifeexpectancy.columns: # заполняем\n",
        "  if lifeexpectancy[x].isnull().any():\n",
        "    gho(lifeexpectancy,x)\n",
        "\n",
        "print ('пропуски в таблице lifeexpectancy после заполнения пропусков ', lifeexpectancy.isnull().sum()) # проверка, что не осталось нулей\n",
        "lifeexpectancy.to_csv('lifeexpectancy_filled.csv', index=False) # сохраняем\n"
      ]
    },
    {
      "cell_type": "markdown",
      "metadata": {
        "id": "VQ_ocDkOZKgh"
      },
      "source": [
        "### 9"
      ]
    },
    {
      "cell_type": "markdown",
      "metadata": {
        "id": "Z92wE5uJZKgh"
      },
      "source": [
        "Все ли признаки несут в себе полезную информацию? Почему вы так считаете? Избавьтесь от ненужных столбцов. Свой выбор аргументируйте\n",
        "\n",
        "*Примечание. Не забудьте сохранить все изменения! В последующих заданиях вы должны работать с уже обновленными датасетами.*"
      ]
    },
    {
      "cell_type": "code",
      "execution_count": 38,
      "metadata": {
        "collapsed": true,
        "id": "f79iiwhuZKgh"
      },
      "outputs": [],
      "source": [
        "lifeexpectancy_new = pd.read_csv('lifeexpectancy_filled.csv')"
      ]
    },
    {
      "cell_type": "code",
      "source": [
        "#в таблице lifeexpectancy есть несколько колонок, которые дублируют\n",
        "# информацию. например, PublishStateCode/PublishStateDisplay\n",
        "# и также YearCode/YearDisplay, поэтому можно их убрать (в Publish одна и та же информация\n",
        "# просто разным регистром). так же колонки с Code дублируют информацию, с Display (возможно, их удалять не нужно, но так как они содержат ту же\n",
        "#информацию, что и их \"соседи\" с наличием Display в названии, для анализа важную информацию они не содержат)\n",
        "\n",
        "lifeexpectancy_new.drop(['PublishStateCode', 'PublishStateDisplay', 'YearDisplay', 'RegionCode', 'WorldBankIncomeGroupGroupCode', 'CountryCode', 'SexCode'], axis=1, inplace=True)"
      ],
      "metadata": {
        "id": "md8ZY5Kk-A3O"
      },
      "execution_count": 39,
      "outputs": []
    },
    {
      "cell_type": "code",
      "source": [
        "print(lifeexpectancy_new)\n",
        "lifeexpectancy_new.to_csv('lifeexpectancy_new1.csv', index=False)"
      ],
      "metadata": {
        "colab": {
          "base_uri": "https://localhost:8080/"
        },
        "id": "3hY3qb_tJJRO",
        "outputId": "147b370b-ed39-45cf-deee-7798a5f4f811"
      },
      "execution_count": 40,
      "outputs": [
        {
          "output_type": "stream",
          "name": "stdout",
          "text": [
            "      index        GhoCode                                       GhoDisplay  \\\n",
            "0         0  WHOSIS_000001                 Life expectancy at birth (years)   \n",
            "1         1  WHOSIS_000002  Healthy life expectancy (HALE) at birth (years)   \n",
            "2         2  WHOSIS_000001                 Life expectancy at birth (years)   \n",
            "3         3  WHOSIS_000001                 Life expectancy at birth (years)   \n",
            "4         4  WHOSIS_000015                Life expectancy at age 60 (years)   \n",
            "...     ...            ...                                              ...   \n",
            "6403   6403  WHOSIS_000001                 Life expectancy at birth (years)   \n",
            "6404   6404  WHOSIS_000015                Life expectancy at age 60 (years)   \n",
            "6405   6405  WHOSIS_000001                 Life expectancy at birth (years)   \n",
            "6406   6406  WHOSIS_000002  Healthy life expectancy (HALE) at birth (years)   \n",
            "6407   6407  WHOSIS_000001                 Life expectancy at birth (years)   \n",
            "\n",
            "      YearCode          RegionDisplay WorldBankIncomeGroupDisplay  \\\n",
            "0         1990               Americas         Lower_middle_income   \n",
            "1         2012                 Europe                 High_income   \n",
            "2         2000  Eastern Mediterranean                  Low_income   \n",
            "3         2000                 Africa         Lower_middle_income   \n",
            "4         1990        South_East Asia         Lower_middle_income   \n",
            "...        ...                    ...                         ...   \n",
            "6403      2000  Eastern Mediterranean         Lower_middle_income   \n",
            "6404      1990        Western Pacific         Upper_middle_income   \n",
            "6405      1990                 Africa                  Low_income   \n",
            "6406      2012                 Europe         Lower_middle_income   \n",
            "6407      2013                 Europe                  Low_income   \n",
            "\n",
            "     CountryDisplay  SexDisplay  DisplayValue   Numeric  \n",
            "0         Nicaragua        Male            68  68.00000  \n",
            "1           Ireland        Male            69  69.30000  \n",
            "2             Yemen  Both sexes            61  61.00000  \n",
            "3           Nigeria      Female            48  48.00000  \n",
            "4          Thailand      Female            19  19.00000  \n",
            "...             ...         ...           ...       ...  \n",
            "6403        Morocco  Both sexes            68  68.00000  \n",
            "6404          Palau  Both sexes            16  16.00000  \n",
            "6405   Burkina Faso      Female            51  51.00000  \n",
            "6406        Albania        Male            64  63.50000  \n",
            "6407        Armenia  Both sexes            71  71.02699  \n",
            "\n",
            "[6408 rows x 10 columns]\n"
          ]
        }
      ]
    },
    {
      "cell_type": "markdown",
      "metadata": {
        "id": "sTOh2jQ2ZKgj"
      },
      "source": [
        "### 10"
      ]
    },
    {
      "cell_type": "markdown",
      "metadata": {
        "id": "961UOK2CZKgj"
      },
      "source": [
        "Посчитайте, насколько сильно коррелируют друг с другом потребления разных видов алкоголя (beer_servings,\tspirit_servings и\twine_servings). Создайте датафрейм с попарными корреляциями этих столбцов друг с другом. Какие выводы можно сделать?"
      ]
    },
    {
      "cell_type": "code",
      "execution_count": 41,
      "metadata": {
        "collapsed": true,
        "id": "9T42qGrkZKgj",
        "colab": {
          "base_uri": "https://localhost:8080/"
        },
        "outputId": "556d6e99-58a7-4abd-a061-cb24c32d4be6"
      },
      "outputs": [
        {
          "output_type": "stream",
          "name": "stdout",
          "text": [
            "                 beer_servings  spirit_servings  wine_servings\n",
            "beer_servings         1.000000         0.458819       0.527172\n",
            "spirit_servings       0.458819         1.000000       0.194797\n",
            "wine_servings         0.527172         0.194797       1.000000\n"
          ]
        }
      ],
      "source": [
        "columns = ['beer_servings', 'spirit_servings', 'wine_servings']\n",
        "corr = drinks[columns].corr()\n",
        "print(corr)\n",
        "\n",
        "#наибольшая корреляция (самая сильная связь) между потреблением пива\n",
        "#и вина - 0.527(то есть в странах, где любят пиво, в такой же степени любят вино\n",
        "#Самая слабая связь между потреблением спирта(крепкие напитки) и вина - 0.195(то есть любовь к крепким напиткам не зависят от вина).\n",
        "#Средняя корреляция между пивом и спиртом(крепкие напитки) - 0.459"
      ]
    },
    {
      "cell_type": "markdown",
      "metadata": {
        "id": "APDi6QkS8yWo"
      },
      "source": [
        "### 11"
      ]
    },
    {
      "cell_type": "markdown",
      "metadata": {
        "id": "ewdm3OQ98yWx"
      },
      "source": [
        "Каким образом следует осуществить соединение двух имеющихся у нас таблиц? Почему? Соедините таблицы!\n",
        "\n",
        "Получилось ли у вас задействовать все строки, и если нет, то почему? Что делать с теми строками, которые не удается задействовать, если таковые есть? Ответ обоснуйте.\n",
        "\n",
        "*Подсказка. В ответе на первый вопрос задания, а также в обосновании способа соединения таблиц вам может помочь задание 3 данного раздела ДЗ и соответствующий семинарский ноутбук!*\n",
        "\n",
        "*Примечание. Не забудьте сохранить все изменения! В последующих заданиях вы должны работать с одним объединенным датасетом.*"
      ]
    },
    {
      "cell_type": "code",
      "source": [
        "lifeexpectancy_new1 = pd.read_csv('lifeexpectancy_new1.csv')"
      ],
      "metadata": {
        "id": "c_t5SJqURvX-"
      },
      "execution_count": 42,
      "outputs": []
    },
    {
      "cell_type": "markdown",
      "source": [
        "соединить таблицы можно с помощью колонки стран. в таблице drinks это Country, в таблице lifeexpectancy это CountryDisplay (есть еще Country Code, которые также описывают страну, однако данные в этой колонке написаны не в том формате, в котором они отображаются в таблице drinks)"
      ],
      "metadata": {
        "id": "sDJA-nXZ-SUL"
      }
    },
    {
      "cell_type": "code",
      "source": [
        "lifecountry = set(lifeexpectancy_new1['CountryDisplay'].str.lower())\n",
        "drinkscountry = set(drinks['country'].str.lower())\n",
        "print(lifecountry - drinkscountry)\n",
        "print(drinkscountry - lifecountry)\n",
        "print (lifecountry&drinkscountry) #совпали 167 стран из 193\n",
        "print (len(lifecountry&drinkscountry)) #то есть в таблице напитков нет совпадений 26 странам\n",
        "print (len(drinkscountry- lifecountry)) # а в таблице lifeexpetancy соответственно 27\n",
        "#также представлены примеры стран, которые не совпали. можно предположить, что\n",
        "#это из-за разного формата написания стран. то есть, в одной таблице могут использоваться\n",
        "# символы аперсанта (&)- trinidad & tobago, сокращений (') и точки (.)\n",
        "#можно попробовать удалить эти символы (вдруг, поможет)\n",
        "\n",
        "def deleted (n):\n",
        "  n = n.replace (\"'\", \"\").replace(\"&\", \"\").replace(\".\", \"\")\n",
        "  return n\n",
        "\n",
        "drinks['country'] = drinks['country'].apply(deleted)\n",
        "lifeexpectancy_new1['CountryDisplay'] = lifeexpectancy_new1['CountryDisplay'].apply(deleted)\n",
        "lifecountry = set(lifeexpectancy_new1['CountryDisplay'].str.lower())\n",
        "drinkscountry = set(drinks['country'].str.lower())\n",
        "drinks = drinks.drop(columns=['index'])\n",
        "inner = pd.merge(drinks, lifeexpectancy_new1, left_on='country', right_on='CountryDisplay', how='inner')\n",
        "inner.to_csv('inner.csv', index=False)\n",
        "\n",
        "inner.tail()"
      ],
      "metadata": {
        "colab": {
          "base_uri": "https://localhost:8080/",
          "height": 564
        },
        "id": "6TKIxc12wBRa",
        "outputId": "926667db-0821-42b5-a036-3e33843ec664"
      },
      "execution_count": 44,
      "outputs": [
        {
          "output_type": "stream",
          "name": "stdout",
          "text": [
            "{'democratic peoples republic of korea', 'bosnia and herzegovina', 'the former yugoslav republic of macedonia', 'syrian arab republic', 'republic of korea', 'viet nam', 'united states of america', 'south sudan', 'united republic of tanzania', 'trinidad and tobago', 'saint kitts and nevis', 'iran (islamic republic of)', 'micronesia (federated states of)', 'bolivia (plurinational state of)', 'guinea_bissau', 'lao peoples democratic republic', 'côte divoire', 'antigua and barbuda', 'saint lucia', 'brunei darussalam', 'republic of moldova', 'timor_leste', 'saint vincent and the grenadines', 'united kingdom of great britain and northern ireland', 'sao tome and principe', 'democratic republic of the congo', 'venezuela (bolivarian republic of)'}\n",
            "{'st kitts  nevis', 'tanzania', 'bosnia-herzegovina', 'laos', 'st vincent  the grenadines', 'moldova', 'south korea', 'iran', 'north korea', 'brunei', 'timor-leste', 'sao tome  principe', 'united kingdom', 'macedonia', 'bolivia', 'antigua  barbuda', 'trinidad  tobago', 'micronesia', 'dr congo', 'venezuela', 'st lucia', 'syria', 'usa', 'guinea-bissau', 'cote divoire', 'vietnam'}\n",
            "{'djibouti', 'lebanon', 'new zealand', 'pakistan', 'thailand', 'papua new guinea', 'kenya', 'cameroon', 'seychelles', 'angola', 'netherlands', 'israel', 'iraq', 'bulgaria', 'colombia', 'barbados', 'madagascar', 'samoa', 'sri lanka', 'latvia', 'congo', 'belize', 'benin', 'spain', 'myanmar', 'ireland', 'argentina', 'cambodia', 'luxembourg', 'mozambique', 'costa rica', 'mexico', 'austria', 'kyrgyzstan', 'algeria', 'peru', 'kiribati', 'hungary', 'burkina faso', 'togo', 'honduras', 'malawi', 'kazakhstan', 'kuwait', 'jordan', 'brazil', 'china', 'equatorial guinea', 'armenia', 'poland', 'canada', 'georgia', 'vanuatu', 'mali', 'nauru', 'australia', 'cook islands', 'afghanistan', 'andorra', 'tunisia', 'mauritius', 'uganda', 'turkey', 'saudi arabia', 'belarus', 'botswana', 'serbia', 'tonga', 'guyana', 'burundi', 'uzbekistan', 'bangladesh', 'san marino', 'central african republic', 'morocco', 'ethiopia', 'marshall islands', 'tuvalu', 'chad', 'monaco', 'finland', 'guatemala', 'namibia', 'italy', 'panama', 'maldives', 'oman', 'senegal', 'lithuania', 'turkmenistan', 'greece', 'ukraine', 'mauritania', 'gambia', 'czech republic', 'eritrea', 'mongolia', 'ghana', 'romania', 'sierra leone', 'haiti', 'denmark', 'yemen', 'south africa', 'qatar', 'suriname', 'philippines', 'nicaragua', 'malaysia', 'estonia', 'nepal', 'singapore', 'cabo verde', 'zambia', 'cuba', 'croatia', 'dominican republic', 'palau', 'cyprus', 'egypt', 'nigeria', 'comoros', 'lesotho', 'tajikistan', 'chile', 'guinea', 'dominica', 'liberia', 'slovenia', 'solomon islands', 'somalia', 'niger', 'india', 'azerbaijan', 'montenegro', 'rwanda', 'bhutan', 'belgium', 'russian federation', 'albania', 'sudan', 'indonesia', 'japan', 'jamaica', 'uruguay', 'france', 'slovakia', 'libya', 'bahamas', 'el salvador', 'grenada', 'united arab emirates', 'zimbabwe', 'iceland', 'niue', 'paraguay', 'bahrain', 'switzerland', 'norway', 'sweden', 'gabon', 'portugal', 'ecuador', 'germany', 'fiji', 'swaziland', 'malta'}\n",
            "167\n",
            "26\n"
          ]
        },
        {
          "output_type": "execute_result",
          "data": {
            "text/plain": [
              "       country  beer_servings  spirit_servings  wine_servings  \\\n",
              "5506  Zimbabwe             64               18              4   \n",
              "5507  Zimbabwe             64               18              4   \n",
              "5508  Zimbabwe             64               18              4   \n",
              "5509  Zimbabwe             64               18              4   \n",
              "5510  Zimbabwe             64               18              4   \n",
              "\n",
              "      total_litres_of_pure_alcohol  index        GhoCode  \\\n",
              "5506                           4.7   5747  WHOSIS_000002   \n",
              "5507                           4.7   5786  WHOSIS_000001   \n",
              "5508                           4.7   5985  WHOSIS_000002   \n",
              "5509                           4.7   6013  WHOSIS_000001   \n",
              "5510                           4.7   6175  WHOSIS_000001   \n",
              "\n",
              "                                           GhoDisplay  YearCode RegionDisplay  \\\n",
              "5506  Healthy life expectancy (HALE) at birth (years)      2000        Africa   \n",
              "5507                 Life expectancy at birth (years)      2012        Africa   \n",
              "5508  Healthy life expectancy (HALE) at birth (years)      2013        Africa   \n",
              "5509                 Life expectancy at birth (years)      1990        Africa   \n",
              "5510                 Life expectancy at birth (years)      2000        Africa   \n",
              "\n",
              "     WorldBankIncomeGroupDisplay CountryDisplay  SexDisplay  DisplayValue  \\\n",
              "5506                  Low_income       Zimbabwe        Male            37   \n",
              "5507                  Low_income       Zimbabwe  Both sexes            58   \n",
              "5508                  Low_income       Zimbabwe      Female            52   \n",
              "5509                  Low_income       Zimbabwe        Male            60   \n",
              "5510                  Low_income       Zimbabwe  Both sexes            42   \n",
              "\n",
              "      Numeric  \n",
              "5506     37.0  \n",
              "5507     58.0  \n",
              "5508     51.8  \n",
              "5509     60.0  \n",
              "5510     42.0  "
            ],
            "text/html": [
              "\n",
              "  <div id=\"df-0eba706d-c656-430e-b243-9f0f2038161d\" class=\"colab-df-container\">\n",
              "    <div>\n",
              "<style scoped>\n",
              "    .dataframe tbody tr th:only-of-type {\n",
              "        vertical-align: middle;\n",
              "    }\n",
              "\n",
              "    .dataframe tbody tr th {\n",
              "        vertical-align: top;\n",
              "    }\n",
              "\n",
              "    .dataframe thead th {\n",
              "        text-align: right;\n",
              "    }\n",
              "</style>\n",
              "<table border=\"1\" class=\"dataframe\">\n",
              "  <thead>\n",
              "    <tr style=\"text-align: right;\">\n",
              "      <th></th>\n",
              "      <th>country</th>\n",
              "      <th>beer_servings</th>\n",
              "      <th>spirit_servings</th>\n",
              "      <th>wine_servings</th>\n",
              "      <th>total_litres_of_pure_alcohol</th>\n",
              "      <th>index</th>\n",
              "      <th>GhoCode</th>\n",
              "      <th>GhoDisplay</th>\n",
              "      <th>YearCode</th>\n",
              "      <th>RegionDisplay</th>\n",
              "      <th>WorldBankIncomeGroupDisplay</th>\n",
              "      <th>CountryDisplay</th>\n",
              "      <th>SexDisplay</th>\n",
              "      <th>DisplayValue</th>\n",
              "      <th>Numeric</th>\n",
              "    </tr>\n",
              "  </thead>\n",
              "  <tbody>\n",
              "    <tr>\n",
              "      <th>5506</th>\n",
              "      <td>Zimbabwe</td>\n",
              "      <td>64</td>\n",
              "      <td>18</td>\n",
              "      <td>4</td>\n",
              "      <td>4.7</td>\n",
              "      <td>5747</td>\n",
              "      <td>WHOSIS_000002</td>\n",
              "      <td>Healthy life expectancy (HALE) at birth (years)</td>\n",
              "      <td>2000</td>\n",
              "      <td>Africa</td>\n",
              "      <td>Low_income</td>\n",
              "      <td>Zimbabwe</td>\n",
              "      <td>Male</td>\n",
              "      <td>37</td>\n",
              "      <td>37.0</td>\n",
              "    </tr>\n",
              "    <tr>\n",
              "      <th>5507</th>\n",
              "      <td>Zimbabwe</td>\n",
              "      <td>64</td>\n",
              "      <td>18</td>\n",
              "      <td>4</td>\n",
              "      <td>4.7</td>\n",
              "      <td>5786</td>\n",
              "      <td>WHOSIS_000001</td>\n",
              "      <td>Life expectancy at birth (years)</td>\n",
              "      <td>2012</td>\n",
              "      <td>Africa</td>\n",
              "      <td>Low_income</td>\n",
              "      <td>Zimbabwe</td>\n",
              "      <td>Both sexes</td>\n",
              "      <td>58</td>\n",
              "      <td>58.0</td>\n",
              "    </tr>\n",
              "    <tr>\n",
              "      <th>5508</th>\n",
              "      <td>Zimbabwe</td>\n",
              "      <td>64</td>\n",
              "      <td>18</td>\n",
              "      <td>4</td>\n",
              "      <td>4.7</td>\n",
              "      <td>5985</td>\n",
              "      <td>WHOSIS_000002</td>\n",
              "      <td>Healthy life expectancy (HALE) at birth (years)</td>\n",
              "      <td>2013</td>\n",
              "      <td>Africa</td>\n",
              "      <td>Low_income</td>\n",
              "      <td>Zimbabwe</td>\n",
              "      <td>Female</td>\n",
              "      <td>52</td>\n",
              "      <td>51.8</td>\n",
              "    </tr>\n",
              "    <tr>\n",
              "      <th>5509</th>\n",
              "      <td>Zimbabwe</td>\n",
              "      <td>64</td>\n",
              "      <td>18</td>\n",
              "      <td>4</td>\n",
              "      <td>4.7</td>\n",
              "      <td>6013</td>\n",
              "      <td>WHOSIS_000001</td>\n",
              "      <td>Life expectancy at birth (years)</td>\n",
              "      <td>1990</td>\n",
              "      <td>Africa</td>\n",
              "      <td>Low_income</td>\n",
              "      <td>Zimbabwe</td>\n",
              "      <td>Male</td>\n",
              "      <td>60</td>\n",
              "      <td>60.0</td>\n",
              "    </tr>\n",
              "    <tr>\n",
              "      <th>5510</th>\n",
              "      <td>Zimbabwe</td>\n",
              "      <td>64</td>\n",
              "      <td>18</td>\n",
              "      <td>4</td>\n",
              "      <td>4.7</td>\n",
              "      <td>6175</td>\n",
              "      <td>WHOSIS_000001</td>\n",
              "      <td>Life expectancy at birth (years)</td>\n",
              "      <td>2000</td>\n",
              "      <td>Africa</td>\n",
              "      <td>Low_income</td>\n",
              "      <td>Zimbabwe</td>\n",
              "      <td>Both sexes</td>\n",
              "      <td>42</td>\n",
              "      <td>42.0</td>\n",
              "    </tr>\n",
              "  </tbody>\n",
              "</table>\n",
              "</div>\n",
              "    <div class=\"colab-df-buttons\">\n",
              "\n",
              "  <div class=\"colab-df-container\">\n",
              "    <button class=\"colab-df-convert\" onclick=\"convertToInteractive('df-0eba706d-c656-430e-b243-9f0f2038161d')\"\n",
              "            title=\"Convert this dataframe to an interactive table.\"\n",
              "            style=\"display:none;\">\n",
              "\n",
              "  <svg xmlns=\"http://www.w3.org/2000/svg\" height=\"24px\" viewBox=\"0 -960 960 960\">\n",
              "    <path d=\"M120-120v-720h720v720H120Zm60-500h600v-160H180v160Zm220 220h160v-160H400v160Zm0 220h160v-160H400v160ZM180-400h160v-160H180v160Zm440 0h160v-160H620v160ZM180-180h160v-160H180v160Zm440 0h160v-160H620v160Z\"/>\n",
              "  </svg>\n",
              "    </button>\n",
              "\n",
              "  <style>\n",
              "    .colab-df-container {\n",
              "      display:flex;\n",
              "      gap: 12px;\n",
              "    }\n",
              "\n",
              "    .colab-df-convert {\n",
              "      background-color: #E8F0FE;\n",
              "      border: none;\n",
              "      border-radius: 50%;\n",
              "      cursor: pointer;\n",
              "      display: none;\n",
              "      fill: #1967D2;\n",
              "      height: 32px;\n",
              "      padding: 0 0 0 0;\n",
              "      width: 32px;\n",
              "    }\n",
              "\n",
              "    .colab-df-convert:hover {\n",
              "      background-color: #E2EBFA;\n",
              "      box-shadow: 0px 1px 2px rgba(60, 64, 67, 0.3), 0px 1px 3px 1px rgba(60, 64, 67, 0.15);\n",
              "      fill: #174EA6;\n",
              "    }\n",
              "\n",
              "    .colab-df-buttons div {\n",
              "      margin-bottom: 4px;\n",
              "    }\n",
              "\n",
              "    [theme=dark] .colab-df-convert {\n",
              "      background-color: #3B4455;\n",
              "      fill: #D2E3FC;\n",
              "    }\n",
              "\n",
              "    [theme=dark] .colab-df-convert:hover {\n",
              "      background-color: #434B5C;\n",
              "      box-shadow: 0px 1px 3px 1px rgba(0, 0, 0, 0.15);\n",
              "      filter: drop-shadow(0px 1px 2px rgba(0, 0, 0, 0.3));\n",
              "      fill: #FFFFFF;\n",
              "    }\n",
              "  </style>\n",
              "\n",
              "    <script>\n",
              "      const buttonEl =\n",
              "        document.querySelector('#df-0eba706d-c656-430e-b243-9f0f2038161d button.colab-df-convert');\n",
              "      buttonEl.style.display =\n",
              "        google.colab.kernel.accessAllowed ? 'block' : 'none';\n",
              "\n",
              "      async function convertToInteractive(key) {\n",
              "        const element = document.querySelector('#df-0eba706d-c656-430e-b243-9f0f2038161d');\n",
              "        const dataTable =\n",
              "          await google.colab.kernel.invokeFunction('convertToInteractive',\n",
              "                                                    [key], {});\n",
              "        if (!dataTable) return;\n",
              "\n",
              "        const docLinkHtml = 'Like what you see? Visit the ' +\n",
              "          '<a target=\"_blank\" href=https://colab.research.google.com/notebooks/data_table.ipynb>data table notebook</a>'\n",
              "          + ' to learn more about interactive tables.';\n",
              "        element.innerHTML = '';\n",
              "        dataTable['output_type'] = 'display_data';\n",
              "        await google.colab.output.renderOutput(dataTable, element);\n",
              "        const docLink = document.createElement('div');\n",
              "        docLink.innerHTML = docLinkHtml;\n",
              "        element.appendChild(docLink);\n",
              "      }\n",
              "    </script>\n",
              "  </div>\n",
              "\n",
              "\n",
              "<div id=\"df-4c2a3316-4a9b-44c7-9b48-4993e1e57057\">\n",
              "  <button class=\"colab-df-quickchart\" onclick=\"quickchart('df-4c2a3316-4a9b-44c7-9b48-4993e1e57057')\"\n",
              "            title=\"Suggest charts\"\n",
              "            style=\"display:none;\">\n",
              "\n",
              "<svg xmlns=\"http://www.w3.org/2000/svg\" height=\"24px\"viewBox=\"0 0 24 24\"\n",
              "     width=\"24px\">\n",
              "    <g>\n",
              "        <path d=\"M19 3H5c-1.1 0-2 .9-2 2v14c0 1.1.9 2 2 2h14c1.1 0 2-.9 2-2V5c0-1.1-.9-2-2-2zM9 17H7v-7h2v7zm4 0h-2V7h2v10zm4 0h-2v-4h2v4z\"/>\n",
              "    </g>\n",
              "</svg>\n",
              "  </button>\n",
              "\n",
              "<style>\n",
              "  .colab-df-quickchart {\n",
              "      --bg-color: #E8F0FE;\n",
              "      --fill-color: #1967D2;\n",
              "      --hover-bg-color: #E2EBFA;\n",
              "      --hover-fill-color: #174EA6;\n",
              "      --disabled-fill-color: #AAA;\n",
              "      --disabled-bg-color: #DDD;\n",
              "  }\n",
              "\n",
              "  [theme=dark] .colab-df-quickchart {\n",
              "      --bg-color: #3B4455;\n",
              "      --fill-color: #D2E3FC;\n",
              "      --hover-bg-color: #434B5C;\n",
              "      --hover-fill-color: #FFFFFF;\n",
              "      --disabled-bg-color: #3B4455;\n",
              "      --disabled-fill-color: #666;\n",
              "  }\n",
              "\n",
              "  .colab-df-quickchart {\n",
              "    background-color: var(--bg-color);\n",
              "    border: none;\n",
              "    border-radius: 50%;\n",
              "    cursor: pointer;\n",
              "    display: none;\n",
              "    fill: var(--fill-color);\n",
              "    height: 32px;\n",
              "    padding: 0;\n",
              "    width: 32px;\n",
              "  }\n",
              "\n",
              "  .colab-df-quickchart:hover {\n",
              "    background-color: var(--hover-bg-color);\n",
              "    box-shadow: 0 1px 2px rgba(60, 64, 67, 0.3), 0 1px 3px 1px rgba(60, 64, 67, 0.15);\n",
              "    fill: var(--button-hover-fill-color);\n",
              "  }\n",
              "\n",
              "  .colab-df-quickchart-complete:disabled,\n",
              "  .colab-df-quickchart-complete:disabled:hover {\n",
              "    background-color: var(--disabled-bg-color);\n",
              "    fill: var(--disabled-fill-color);\n",
              "    box-shadow: none;\n",
              "  }\n",
              "\n",
              "  .colab-df-spinner {\n",
              "    border: 2px solid var(--fill-color);\n",
              "    border-color: transparent;\n",
              "    border-bottom-color: var(--fill-color);\n",
              "    animation:\n",
              "      spin 1s steps(1) infinite;\n",
              "  }\n",
              "\n",
              "  @keyframes spin {\n",
              "    0% {\n",
              "      border-color: transparent;\n",
              "      border-bottom-color: var(--fill-color);\n",
              "      border-left-color: var(--fill-color);\n",
              "    }\n",
              "    20% {\n",
              "      border-color: transparent;\n",
              "      border-left-color: var(--fill-color);\n",
              "      border-top-color: var(--fill-color);\n",
              "    }\n",
              "    30% {\n",
              "      border-color: transparent;\n",
              "      border-left-color: var(--fill-color);\n",
              "      border-top-color: var(--fill-color);\n",
              "      border-right-color: var(--fill-color);\n",
              "    }\n",
              "    40% {\n",
              "      border-color: transparent;\n",
              "      border-right-color: var(--fill-color);\n",
              "      border-top-color: var(--fill-color);\n",
              "    }\n",
              "    60% {\n",
              "      border-color: transparent;\n",
              "      border-right-color: var(--fill-color);\n",
              "    }\n",
              "    80% {\n",
              "      border-color: transparent;\n",
              "      border-right-color: var(--fill-color);\n",
              "      border-bottom-color: var(--fill-color);\n",
              "    }\n",
              "    90% {\n",
              "      border-color: transparent;\n",
              "      border-bottom-color: var(--fill-color);\n",
              "    }\n",
              "  }\n",
              "</style>\n",
              "\n",
              "  <script>\n",
              "    async function quickchart(key) {\n",
              "      const quickchartButtonEl =\n",
              "        document.querySelector('#' + key + ' button');\n",
              "      quickchartButtonEl.disabled = true;  // To prevent multiple clicks.\n",
              "      quickchartButtonEl.classList.add('colab-df-spinner');\n",
              "      try {\n",
              "        const charts = await google.colab.kernel.invokeFunction(\n",
              "            'suggestCharts', [key], {});\n",
              "      } catch (error) {\n",
              "        console.error('Error during call to suggestCharts:', error);\n",
              "      }\n",
              "      quickchartButtonEl.classList.remove('colab-df-spinner');\n",
              "      quickchartButtonEl.classList.add('colab-df-quickchart-complete');\n",
              "    }\n",
              "    (() => {\n",
              "      let quickchartButtonEl =\n",
              "        document.querySelector('#df-4c2a3316-4a9b-44c7-9b48-4993e1e57057 button');\n",
              "      quickchartButtonEl.style.display =\n",
              "        google.colab.kernel.accessAllowed ? 'block' : 'none';\n",
              "    })();\n",
              "  </script>\n",
              "</div>\n",
              "\n",
              "    </div>\n",
              "  </div>\n"
            ],
            "application/vnd.google.colaboratory.intrinsic+json": {
              "type": "dataframe",
              "summary": "{\n  \"name\": \"inner\",\n  \"rows\": 5,\n  \"fields\": [\n    {\n      \"column\": \"country\",\n      \"properties\": {\n        \"dtype\": \"category\",\n        \"num_unique_values\": 1,\n        \"samples\": [\n          \"Zimbabwe\"\n        ],\n        \"semantic_type\": \"\",\n        \"description\": \"\"\n      }\n    },\n    {\n      \"column\": \"beer_servings\",\n      \"properties\": {\n        \"dtype\": \"number\",\n        \"std\": 0,\n        \"min\": 64,\n        \"max\": 64,\n        \"num_unique_values\": 1,\n        \"samples\": [\n          64\n        ],\n        \"semantic_type\": \"\",\n        \"description\": \"\"\n      }\n    },\n    {\n      \"column\": \"spirit_servings\",\n      \"properties\": {\n        \"dtype\": \"number\",\n        \"std\": 0,\n        \"min\": 18,\n        \"max\": 18,\n        \"num_unique_values\": 1,\n        \"samples\": [\n          18\n        ],\n        \"semantic_type\": \"\",\n        \"description\": \"\"\n      }\n    },\n    {\n      \"column\": \"wine_servings\",\n      \"properties\": {\n        \"dtype\": \"number\",\n        \"std\": 0,\n        \"min\": 4,\n        \"max\": 4,\n        \"num_unique_values\": 1,\n        \"samples\": [\n          4\n        ],\n        \"semantic_type\": \"\",\n        \"description\": \"\"\n      }\n    },\n    {\n      \"column\": \"total_litres_of_pure_alcohol\",\n      \"properties\": {\n        \"dtype\": \"number\",\n        \"std\": 0.0,\n        \"min\": 4.7,\n        \"max\": 4.7,\n        \"num_unique_values\": 1,\n        \"samples\": [\n          4.7\n        ],\n        \"semantic_type\": \"\",\n        \"description\": \"\"\n      }\n    },\n    {\n      \"column\": \"index\",\n      \"properties\": {\n        \"dtype\": \"number\",\n        \"std\": 175,\n        \"min\": 5747,\n        \"max\": 6175,\n        \"num_unique_values\": 5,\n        \"samples\": [\n          5786\n        ],\n        \"semantic_type\": \"\",\n        \"description\": \"\"\n      }\n    },\n    {\n      \"column\": \"GhoCode\",\n      \"properties\": {\n        \"dtype\": \"category\",\n        \"num_unique_values\": 2,\n        \"samples\": [\n          \"WHOSIS_000001\"\n        ],\n        \"semantic_type\": \"\",\n        \"description\": \"\"\n      }\n    },\n    {\n      \"column\": \"GhoDisplay\",\n      \"properties\": {\n        \"dtype\": \"category\",\n        \"num_unique_values\": 2,\n        \"samples\": [\n          \"Life expectancy at birth (years)\"\n        ],\n        \"semantic_type\": \"\",\n        \"description\": \"\"\n      }\n    },\n    {\n      \"column\": \"YearCode\",\n      \"properties\": {\n        \"dtype\": \"number\",\n        \"std\": 9,\n        \"min\": 1990,\n        \"max\": 2013,\n        \"num_unique_values\": 4,\n        \"samples\": [\n          2012\n        ],\n        \"semantic_type\": \"\",\n        \"description\": \"\"\n      }\n    },\n    {\n      \"column\": \"RegionDisplay\",\n      \"properties\": {\n        \"dtype\": \"category\",\n        \"num_unique_values\": 1,\n        \"samples\": [\n          \"Africa\"\n        ],\n        \"semantic_type\": \"\",\n        \"description\": \"\"\n      }\n    },\n    {\n      \"column\": \"WorldBankIncomeGroupDisplay\",\n      \"properties\": {\n        \"dtype\": \"category\",\n        \"num_unique_values\": 1,\n        \"samples\": [\n          \"Low_income\"\n        ],\n        \"semantic_type\": \"\",\n        \"description\": \"\"\n      }\n    },\n    {\n      \"column\": \"CountryDisplay\",\n      \"properties\": {\n        \"dtype\": \"category\",\n        \"num_unique_values\": 1,\n        \"samples\": [\n          \"Zimbabwe\"\n        ],\n        \"semantic_type\": \"\",\n        \"description\": \"\"\n      }\n    },\n    {\n      \"column\": \"SexDisplay\",\n      \"properties\": {\n        \"dtype\": \"string\",\n        \"num_unique_values\": 3,\n        \"samples\": [\n          \"Male\"\n        ],\n        \"semantic_type\": \"\",\n        \"description\": \"\"\n      }\n    },\n    {\n      \"column\": \"DisplayValue\",\n      \"properties\": {\n        \"dtype\": \"number\",\n        \"std\": 10,\n        \"min\": 37,\n        \"max\": 60,\n        \"num_unique_values\": 5,\n        \"samples\": [\n          58\n        ],\n        \"semantic_type\": \"\",\n        \"description\": \"\"\n      }\n    },\n    {\n      \"column\": \"Numeric\",\n      \"properties\": {\n        \"dtype\": \"number\",\n        \"std\": 9.99939998199892,\n        \"min\": 37.0,\n        \"max\": 60.0,\n        \"num_unique_values\": 5,\n        \"samples\": [\n          58.0\n        ],\n        \"semantic_type\": \"\",\n        \"description\": \"\"\n      }\n    }\n  ]\n}"
            }
          },
          "metadata": {},
          "execution_count": 44
        }
      ]
    },
    {
      "cell_type": "markdown",
      "metadata": {
        "id": "mwGBdBzhZKgj"
      },
      "source": [
        "### 12"
      ]
    },
    {
      "cell_type": "markdown",
      "metadata": {
        "id": "AmYX1S_HZKgj"
      },
      "source": [
        "Осуществите группировку данных по странам и типу научной статьи (многомерная группировка). В качестве столбцов значений для группировки возьмите оцененную продолжительность жизни и общее потребление алкоголя в литрах. В качестве агреггирующих функций для продолжительности жизни возьмите среднее, медиану, минимум и максимум, а для потребления алкоголя — агреггирующую функцию/функции выберите самостоятельно. Как вы можете прокомментировать свой выбор и что вы наблюдаете?"
      ]
    },
    {
      "cell_type": "code",
      "execution_count": 45,
      "metadata": {
        "collapsed": true,
        "id": "xjWnCLgpZKgj"
      },
      "outputs": [],
      "source": [
        "inner = pd.read_csv('inner.csv')"
      ]
    },
    {
      "cell_type": "code",
      "source": [
        "inner['total_litres_of_pure_alcohol']=pd.to_numeric(inner['total_litres_of_pure_alcohol'])\n",
        "inner2= inner.groupby(['country', 'GhoDisplay']).agg({\n",
        "    'DisplayValue': ['mean', 'median', 'min', 'max'],\n",
        "    'total_litres_of_pure_alcohol': ['mean', 'max']\n",
        "}).reset_index()\n",
        "inner2.columns = ['country', 'GhoDisplay', 'LifeExp_Mean', 'LifeExp_Median',\n",
        "                  'LifeExp_Min', 'LifeExp_Max', 'Alcohol_Mean', 'Alcohol_Max']\n",
        "inner2.head()\n",
        "inner2.tail()"
      ],
      "metadata": {
        "id": "aWnbLhOKhEkp",
        "colab": {
          "base_uri": "https://localhost:8080/",
          "height": 204
        },
        "outputId": "043df59a-0da1-4b11-d880-35713668f278"
      },
      "execution_count": 46,
      "outputs": [
        {
          "output_type": "execute_result",
          "data": {
            "text/plain": [
              "      country                                       GhoDisplay  LifeExp_Mean  \\\n",
              "496    Zambia                Life expectancy at age 60 (years)     16.000000   \n",
              "497    Zambia                 Life expectancy at birth (years)     49.916667   \n",
              "498  Zimbabwe  Healthy life expectancy (HALE) at birth (years)     45.222222   \n",
              "499  Zimbabwe                Life expectancy at age 60 (years)     17.333333   \n",
              "500  Zimbabwe                 Life expectancy at birth (years)     55.166667   \n",
              "\n",
              "     LifeExp_Median  LifeExp_Min  LifeExp_Max  Alcohol_Mean  Alcohol_Max  \n",
              "496            16.0           14           18           2.5          2.5  \n",
              "497            51.0           40           60           2.5          2.5  \n",
              "498            48.0           36           52           4.7          4.7  \n",
              "499            17.5           15           19           4.7          4.7  \n",
              "500            58.5           42           64           4.7          4.7  "
            ],
            "text/html": [
              "\n",
              "  <div id=\"df-8e6f8312-9f1b-4630-aa62-4a15fde10dd4\" class=\"colab-df-container\">\n",
              "    <div>\n",
              "<style scoped>\n",
              "    .dataframe tbody tr th:only-of-type {\n",
              "        vertical-align: middle;\n",
              "    }\n",
              "\n",
              "    .dataframe tbody tr th {\n",
              "        vertical-align: top;\n",
              "    }\n",
              "\n",
              "    .dataframe thead th {\n",
              "        text-align: right;\n",
              "    }\n",
              "</style>\n",
              "<table border=\"1\" class=\"dataframe\">\n",
              "  <thead>\n",
              "    <tr style=\"text-align: right;\">\n",
              "      <th></th>\n",
              "      <th>country</th>\n",
              "      <th>GhoDisplay</th>\n",
              "      <th>LifeExp_Mean</th>\n",
              "      <th>LifeExp_Median</th>\n",
              "      <th>LifeExp_Min</th>\n",
              "      <th>LifeExp_Max</th>\n",
              "      <th>Alcohol_Mean</th>\n",
              "      <th>Alcohol_Max</th>\n",
              "    </tr>\n",
              "  </thead>\n",
              "  <tbody>\n",
              "    <tr>\n",
              "      <th>496</th>\n",
              "      <td>Zambia</td>\n",
              "      <td>Life expectancy at age 60 (years)</td>\n",
              "      <td>16.000000</td>\n",
              "      <td>16.0</td>\n",
              "      <td>14</td>\n",
              "      <td>18</td>\n",
              "      <td>2.5</td>\n",
              "      <td>2.5</td>\n",
              "    </tr>\n",
              "    <tr>\n",
              "      <th>497</th>\n",
              "      <td>Zambia</td>\n",
              "      <td>Life expectancy at birth (years)</td>\n",
              "      <td>49.916667</td>\n",
              "      <td>51.0</td>\n",
              "      <td>40</td>\n",
              "      <td>60</td>\n",
              "      <td>2.5</td>\n",
              "      <td>2.5</td>\n",
              "    </tr>\n",
              "    <tr>\n",
              "      <th>498</th>\n",
              "      <td>Zimbabwe</td>\n",
              "      <td>Healthy life expectancy (HALE) at birth (years)</td>\n",
              "      <td>45.222222</td>\n",
              "      <td>48.0</td>\n",
              "      <td>36</td>\n",
              "      <td>52</td>\n",
              "      <td>4.7</td>\n",
              "      <td>4.7</td>\n",
              "    </tr>\n",
              "    <tr>\n",
              "      <th>499</th>\n",
              "      <td>Zimbabwe</td>\n",
              "      <td>Life expectancy at age 60 (years)</td>\n",
              "      <td>17.333333</td>\n",
              "      <td>17.5</td>\n",
              "      <td>15</td>\n",
              "      <td>19</td>\n",
              "      <td>4.7</td>\n",
              "      <td>4.7</td>\n",
              "    </tr>\n",
              "    <tr>\n",
              "      <th>500</th>\n",
              "      <td>Zimbabwe</td>\n",
              "      <td>Life expectancy at birth (years)</td>\n",
              "      <td>55.166667</td>\n",
              "      <td>58.5</td>\n",
              "      <td>42</td>\n",
              "      <td>64</td>\n",
              "      <td>4.7</td>\n",
              "      <td>4.7</td>\n",
              "    </tr>\n",
              "  </tbody>\n",
              "</table>\n",
              "</div>\n",
              "    <div class=\"colab-df-buttons\">\n",
              "\n",
              "  <div class=\"colab-df-container\">\n",
              "    <button class=\"colab-df-convert\" onclick=\"convertToInteractive('df-8e6f8312-9f1b-4630-aa62-4a15fde10dd4')\"\n",
              "            title=\"Convert this dataframe to an interactive table.\"\n",
              "            style=\"display:none;\">\n",
              "\n",
              "  <svg xmlns=\"http://www.w3.org/2000/svg\" height=\"24px\" viewBox=\"0 -960 960 960\">\n",
              "    <path d=\"M120-120v-720h720v720H120Zm60-500h600v-160H180v160Zm220 220h160v-160H400v160Zm0 220h160v-160H400v160ZM180-400h160v-160H180v160Zm440 0h160v-160H620v160ZM180-180h160v-160H180v160Zm440 0h160v-160H620v160Z\"/>\n",
              "  </svg>\n",
              "    </button>\n",
              "\n",
              "  <style>\n",
              "    .colab-df-container {\n",
              "      display:flex;\n",
              "      gap: 12px;\n",
              "    }\n",
              "\n",
              "    .colab-df-convert {\n",
              "      background-color: #E8F0FE;\n",
              "      border: none;\n",
              "      border-radius: 50%;\n",
              "      cursor: pointer;\n",
              "      display: none;\n",
              "      fill: #1967D2;\n",
              "      height: 32px;\n",
              "      padding: 0 0 0 0;\n",
              "      width: 32px;\n",
              "    }\n",
              "\n",
              "    .colab-df-convert:hover {\n",
              "      background-color: #E2EBFA;\n",
              "      box-shadow: 0px 1px 2px rgba(60, 64, 67, 0.3), 0px 1px 3px 1px rgba(60, 64, 67, 0.15);\n",
              "      fill: #174EA6;\n",
              "    }\n",
              "\n",
              "    .colab-df-buttons div {\n",
              "      margin-bottom: 4px;\n",
              "    }\n",
              "\n",
              "    [theme=dark] .colab-df-convert {\n",
              "      background-color: #3B4455;\n",
              "      fill: #D2E3FC;\n",
              "    }\n",
              "\n",
              "    [theme=dark] .colab-df-convert:hover {\n",
              "      background-color: #434B5C;\n",
              "      box-shadow: 0px 1px 3px 1px rgba(0, 0, 0, 0.15);\n",
              "      filter: drop-shadow(0px 1px 2px rgba(0, 0, 0, 0.3));\n",
              "      fill: #FFFFFF;\n",
              "    }\n",
              "  </style>\n",
              "\n",
              "    <script>\n",
              "      const buttonEl =\n",
              "        document.querySelector('#df-8e6f8312-9f1b-4630-aa62-4a15fde10dd4 button.colab-df-convert');\n",
              "      buttonEl.style.display =\n",
              "        google.colab.kernel.accessAllowed ? 'block' : 'none';\n",
              "\n",
              "      async function convertToInteractive(key) {\n",
              "        const element = document.querySelector('#df-8e6f8312-9f1b-4630-aa62-4a15fde10dd4');\n",
              "        const dataTable =\n",
              "          await google.colab.kernel.invokeFunction('convertToInteractive',\n",
              "                                                    [key], {});\n",
              "        if (!dataTable) return;\n",
              "\n",
              "        const docLinkHtml = 'Like what you see? Visit the ' +\n",
              "          '<a target=\"_blank\" href=https://colab.research.google.com/notebooks/data_table.ipynb>data table notebook</a>'\n",
              "          + ' to learn more about interactive tables.';\n",
              "        element.innerHTML = '';\n",
              "        dataTable['output_type'] = 'display_data';\n",
              "        await google.colab.output.renderOutput(dataTable, element);\n",
              "        const docLink = document.createElement('div');\n",
              "        docLink.innerHTML = docLinkHtml;\n",
              "        element.appendChild(docLink);\n",
              "      }\n",
              "    </script>\n",
              "  </div>\n",
              "\n",
              "\n",
              "<div id=\"df-6c861922-aac8-4065-bd20-84b4aa8f7bb0\">\n",
              "  <button class=\"colab-df-quickchart\" onclick=\"quickchart('df-6c861922-aac8-4065-bd20-84b4aa8f7bb0')\"\n",
              "            title=\"Suggest charts\"\n",
              "            style=\"display:none;\">\n",
              "\n",
              "<svg xmlns=\"http://www.w3.org/2000/svg\" height=\"24px\"viewBox=\"0 0 24 24\"\n",
              "     width=\"24px\">\n",
              "    <g>\n",
              "        <path d=\"M19 3H5c-1.1 0-2 .9-2 2v14c0 1.1.9 2 2 2h14c1.1 0 2-.9 2-2V5c0-1.1-.9-2-2-2zM9 17H7v-7h2v7zm4 0h-2V7h2v10zm4 0h-2v-4h2v4z\"/>\n",
              "    </g>\n",
              "</svg>\n",
              "  </button>\n",
              "\n",
              "<style>\n",
              "  .colab-df-quickchart {\n",
              "      --bg-color: #E8F0FE;\n",
              "      --fill-color: #1967D2;\n",
              "      --hover-bg-color: #E2EBFA;\n",
              "      --hover-fill-color: #174EA6;\n",
              "      --disabled-fill-color: #AAA;\n",
              "      --disabled-bg-color: #DDD;\n",
              "  }\n",
              "\n",
              "  [theme=dark] .colab-df-quickchart {\n",
              "      --bg-color: #3B4455;\n",
              "      --fill-color: #D2E3FC;\n",
              "      --hover-bg-color: #434B5C;\n",
              "      --hover-fill-color: #FFFFFF;\n",
              "      --disabled-bg-color: #3B4455;\n",
              "      --disabled-fill-color: #666;\n",
              "  }\n",
              "\n",
              "  .colab-df-quickchart {\n",
              "    background-color: var(--bg-color);\n",
              "    border: none;\n",
              "    border-radius: 50%;\n",
              "    cursor: pointer;\n",
              "    display: none;\n",
              "    fill: var(--fill-color);\n",
              "    height: 32px;\n",
              "    padding: 0;\n",
              "    width: 32px;\n",
              "  }\n",
              "\n",
              "  .colab-df-quickchart:hover {\n",
              "    background-color: var(--hover-bg-color);\n",
              "    box-shadow: 0 1px 2px rgba(60, 64, 67, 0.3), 0 1px 3px 1px rgba(60, 64, 67, 0.15);\n",
              "    fill: var(--button-hover-fill-color);\n",
              "  }\n",
              "\n",
              "  .colab-df-quickchart-complete:disabled,\n",
              "  .colab-df-quickchart-complete:disabled:hover {\n",
              "    background-color: var(--disabled-bg-color);\n",
              "    fill: var(--disabled-fill-color);\n",
              "    box-shadow: none;\n",
              "  }\n",
              "\n",
              "  .colab-df-spinner {\n",
              "    border: 2px solid var(--fill-color);\n",
              "    border-color: transparent;\n",
              "    border-bottom-color: var(--fill-color);\n",
              "    animation:\n",
              "      spin 1s steps(1) infinite;\n",
              "  }\n",
              "\n",
              "  @keyframes spin {\n",
              "    0% {\n",
              "      border-color: transparent;\n",
              "      border-bottom-color: var(--fill-color);\n",
              "      border-left-color: var(--fill-color);\n",
              "    }\n",
              "    20% {\n",
              "      border-color: transparent;\n",
              "      border-left-color: var(--fill-color);\n",
              "      border-top-color: var(--fill-color);\n",
              "    }\n",
              "    30% {\n",
              "      border-color: transparent;\n",
              "      border-left-color: var(--fill-color);\n",
              "      border-top-color: var(--fill-color);\n",
              "      border-right-color: var(--fill-color);\n",
              "    }\n",
              "    40% {\n",
              "      border-color: transparent;\n",
              "      border-right-color: var(--fill-color);\n",
              "      border-top-color: var(--fill-color);\n",
              "    }\n",
              "    60% {\n",
              "      border-color: transparent;\n",
              "      border-right-color: var(--fill-color);\n",
              "    }\n",
              "    80% {\n",
              "      border-color: transparent;\n",
              "      border-right-color: var(--fill-color);\n",
              "      border-bottom-color: var(--fill-color);\n",
              "    }\n",
              "    90% {\n",
              "      border-color: transparent;\n",
              "      border-bottom-color: var(--fill-color);\n",
              "    }\n",
              "  }\n",
              "</style>\n",
              "\n",
              "  <script>\n",
              "    async function quickchart(key) {\n",
              "      const quickchartButtonEl =\n",
              "        document.querySelector('#' + key + ' button');\n",
              "      quickchartButtonEl.disabled = true;  // To prevent multiple clicks.\n",
              "      quickchartButtonEl.classList.add('colab-df-spinner');\n",
              "      try {\n",
              "        const charts = await google.colab.kernel.invokeFunction(\n",
              "            'suggestCharts', [key], {});\n",
              "      } catch (error) {\n",
              "        console.error('Error during call to suggestCharts:', error);\n",
              "      }\n",
              "      quickchartButtonEl.classList.remove('colab-df-spinner');\n",
              "      quickchartButtonEl.classList.add('colab-df-quickchart-complete');\n",
              "    }\n",
              "    (() => {\n",
              "      let quickchartButtonEl =\n",
              "        document.querySelector('#df-6c861922-aac8-4065-bd20-84b4aa8f7bb0 button');\n",
              "      quickchartButtonEl.style.display =\n",
              "        google.colab.kernel.accessAllowed ? 'block' : 'none';\n",
              "    })();\n",
              "  </script>\n",
              "</div>\n",
              "\n",
              "    </div>\n",
              "  </div>\n"
            ],
            "application/vnd.google.colaboratory.intrinsic+json": {
              "type": "dataframe",
              "summary": "{\n  \"name\": \"inner2\",\n  \"rows\": 5,\n  \"fields\": [\n    {\n      \"column\": \"country\",\n      \"properties\": {\n        \"dtype\": \"category\",\n        \"num_unique_values\": 2,\n        \"samples\": [\n          \"Zimbabwe\",\n          \"Zambia\"\n        ],\n        \"semantic_type\": \"\",\n        \"description\": \"\"\n      }\n    },\n    {\n      \"column\": \"GhoDisplay\",\n      \"properties\": {\n        \"dtype\": \"string\",\n        \"num_unique_values\": 3,\n        \"samples\": [\n          \"Life expectancy at age 60 (years)\",\n          \"Life expectancy at birth (years)\"\n        ],\n        \"semantic_type\": \"\",\n        \"description\": \"\"\n      }\n    },\n    {\n      \"column\": \"LifeExp_Mean\",\n      \"properties\": {\n        \"dtype\": \"number\",\n        \"std\": 18.653955659012247,\n        \"min\": 16.0,\n        \"max\": 55.166666666666664,\n        \"num_unique_values\": 5,\n        \"samples\": [\n          49.916666666666664,\n          55.166666666666664\n        ],\n        \"semantic_type\": \"\",\n        \"description\": \"\"\n      }\n    },\n    {\n      \"column\": \"LifeExp_Median\",\n      \"properties\": {\n        \"dtype\": \"number\",\n        \"std\": 19.958081070082866,\n        \"min\": 16.0,\n        \"max\": 58.5,\n        \"num_unique_values\": 5,\n        \"samples\": [\n          51.0,\n          58.5\n        ],\n        \"semantic_type\": \"\",\n        \"description\": \"\"\n      }\n    },\n    {\n      \"column\": \"LifeExp_Min\",\n      \"properties\": {\n        \"dtype\": \"number\",\n        \"std\": 13,\n        \"min\": 14,\n        \"max\": 42,\n        \"num_unique_values\": 5,\n        \"samples\": [\n          40,\n          42\n        ],\n        \"semantic_type\": \"\",\n        \"description\": \"\"\n      }\n    },\n    {\n      \"column\": \"LifeExp_Max\",\n      \"properties\": {\n        \"dtype\": \"number\",\n        \"std\": 22,\n        \"min\": 18,\n        \"max\": 64,\n        \"num_unique_values\": 5,\n        \"samples\": [\n          60,\n          64\n        ],\n        \"semantic_type\": \"\",\n        \"description\": \"\"\n      }\n    },\n    {\n      \"column\": \"Alcohol_Mean\",\n      \"properties\": {\n        \"dtype\": \"number\",\n        \"std\": 1.2049896265113655,\n        \"min\": 2.5,\n        \"max\": 4.7,\n        \"num_unique_values\": 2,\n        \"samples\": [\n          4.7,\n          2.5\n        ],\n        \"semantic_type\": \"\",\n        \"description\": \"\"\n      }\n    },\n    {\n      \"column\": \"Alcohol_Max\",\n      \"properties\": {\n        \"dtype\": \"number\",\n        \"std\": 1.2049896265113655,\n        \"min\": 2.5,\n        \"max\": 4.7,\n        \"num_unique_values\": 2,\n        \"samples\": [\n          4.7,\n          2.5\n        ],\n        \"semantic_type\": \"\",\n        \"description\": \"\"\n      }\n    }\n  ]\n}"
            }
          },
          "metadata": {},
          "execution_count": 46
        }
      ]
    },
    {
      "cell_type": "markdown",
      "source": [
        "для анализа я выбрала функцию, которая отражает среднее потребление алкоголя и максимальное количество выпитых литров. с помощью этих данных можно проанализировать влияет ли большое количество алкоголя на оценку средней продолжительности жизни в определенной стране.\n",
        "\n",
        "например, в Замбии продолжительность жизни при рождение (lfe at birth) оценивается в 50 лет, в то время, как потребелние алкоголя очень низкое - 2.5 литра (среднее потребление). это может натолкнуть на мысль о том, что данные функции частично связаны друг с другом\n"
      ],
      "metadata": {
        "id": "Ziy6wo_jIHlA"
      }
    },
    {
      "cell_type": "markdown",
      "metadata": {
        "id": "WDURfWMQZxno"
      },
      "source": [
        "### 13"
      ]
    },
    {
      "cell_type": "markdown",
      "metadata": {
        "id": "yXkPGyZDZxnv"
      },
      "source": [
        "Вставьте любые два столбца из предыдущего задания, которые вы получили путем группировки, в исходную таблицу в качестве двух новых столбцов (назвать вы их можете как хотите). Разумеется, значения этих столбцов должны соответствовать значениям исходной таблицы по указанным в прошлом задании категориям.\n",
        "\n",
        "*Примечание. Не забудьте сохранить все изменения! В последующих заданиях вы должны работать с обновленным датасетом.*"
      ]
    },
    {
      "cell_type": "code",
      "execution_count": 47,
      "metadata": {
        "collapsed": true,
        "id": "c5Lw4DLiZxnw"
      },
      "outputs": [],
      "source": [
        "inner3 = inner.merge(\n",
        "    inner2 [['country', 'GhoDisplay', 'LifeExp_Mean', 'Alcohol_Mean']],\n",
        "    left_on = ['country', 'GhoDisplay'],\n",
        "    right_on = ['country', 'GhoDisplay'],\n",
        "    how = 'inner'\n",
        ")\n",
        "inner3 = inner3.drop(columns=['country'])\n",
        "inner3.tail()\n",
        "\n",
        "inner3.to_csv('inner3.csv', index = False)"
      ]
    },
    {
      "cell_type": "markdown",
      "metadata": {
        "id": "zDE9degBY1sf"
      },
      "source": [
        "### 14"
      ]
    },
    {
      "cell_type": "markdown",
      "metadata": {
        "id": "V7gt5vzbY1so"
      },
      "source": [
        "Используя группировки, аргументированно ответьте на вопрос: на каких континентах средняя ожидаемая продолжительность жизни выше у мужчин, а на каких у женщин?\n",
        "\n",
        "А медианная ожидаемая продолжительность?\n",
        "\n",
        "А минимальная ожидаемая продолжительность?\n",
        "\n",
        "Сделайте выводы!\n",
        "\n",
        "*Подсказка. Казалось бы, при чем здесь тип научной статьи?*"
      ]
    },
    {
      "cell_type": "code",
      "execution_count": 48,
      "metadata": {
        "collapsed": true,
        "id": "Wo2cmk4hY1so",
        "colab": {
          "base_uri": "https://localhost:8080/",
          "height": 607
        },
        "outputId": "65ab4b10-d36a-4e9a-a444-a3ddb0fa3204"
      },
      "outputs": [
        {
          "output_type": "execute_result",
          "data": {
            "text/plain": [
              "            RegionDisplay  SexDisplay  LifeExp_Mean_Mean  LifeExp_Mean_Median  \\\n",
              "0                  Africa  Both sexes          39.820399            47.833333   \n",
              "1                  Africa      Female          39.820399            47.833333   \n",
              "2                  Africa        Male          39.820399            47.833333   \n",
              "3                Americas  Both sexes          51.739618            63.666667   \n",
              "4                Americas      Female          51.739618            63.666667   \n",
              "5                Americas        Male          51.739618            63.666667   \n",
              "6   Eastern Mediterranean  Both sexes          47.885167            59.250000   \n",
              "7   Eastern Mediterranean      Female          47.885167            59.250000   \n",
              "8   Eastern Mediterranean        Male          47.885167            59.250000   \n",
              "9                  Europe  Both sexes          53.034632            66.083333   \n",
              "10                 Europe      Female          53.034632            66.083333   \n",
              "11                 Europe        Male          53.034632            66.083333   \n",
              "12        South_East Asia  Both sexes          46.983165            58.777778   \n",
              "13        South_East Asia      Female          46.983165            58.777778   \n",
              "14        South_East Asia        Male          46.983165            58.777778   \n",
              "15        Western Pacific  Both sexes          49.730028            61.111111   \n",
              "16        Western Pacific      Female          49.730028            61.111111   \n",
              "17        Western Pacific        Male          49.730028            61.111111   \n",
              "\n",
              "    LifeExp_Mean_Min  \n",
              "0          11.833333  \n",
              "1          11.833333  \n",
              "2          11.833333  \n",
              "3          15.750000  \n",
              "4          15.750000  \n",
              "5          15.750000  \n",
              "6          15.250000  \n",
              "7          15.250000  \n",
              "8          15.250000  \n",
              "9          15.666667  \n",
              "10         15.666667  \n",
              "11         15.666667  \n",
              "12         16.250000  \n",
              "13         16.250000  \n",
              "14         16.250000  \n",
              "15         14.250000  \n",
              "16         14.250000  \n",
              "17         14.250000  "
            ],
            "text/html": [
              "\n",
              "  <div id=\"df-65764f40-9dc8-4157-85b8-b41985fb17f2\" class=\"colab-df-container\">\n",
              "    <div>\n",
              "<style scoped>\n",
              "    .dataframe tbody tr th:only-of-type {\n",
              "        vertical-align: middle;\n",
              "    }\n",
              "\n",
              "    .dataframe tbody tr th {\n",
              "        vertical-align: top;\n",
              "    }\n",
              "\n",
              "    .dataframe thead th {\n",
              "        text-align: right;\n",
              "    }\n",
              "</style>\n",
              "<table border=\"1\" class=\"dataframe\">\n",
              "  <thead>\n",
              "    <tr style=\"text-align: right;\">\n",
              "      <th></th>\n",
              "      <th>RegionDisplay</th>\n",
              "      <th>SexDisplay</th>\n",
              "      <th>LifeExp_Mean_Mean</th>\n",
              "      <th>LifeExp_Mean_Median</th>\n",
              "      <th>LifeExp_Mean_Min</th>\n",
              "    </tr>\n",
              "  </thead>\n",
              "  <tbody>\n",
              "    <tr>\n",
              "      <th>0</th>\n",
              "      <td>Africa</td>\n",
              "      <td>Both sexes</td>\n",
              "      <td>39.820399</td>\n",
              "      <td>47.833333</td>\n",
              "      <td>11.833333</td>\n",
              "    </tr>\n",
              "    <tr>\n",
              "      <th>1</th>\n",
              "      <td>Africa</td>\n",
              "      <td>Female</td>\n",
              "      <td>39.820399</td>\n",
              "      <td>47.833333</td>\n",
              "      <td>11.833333</td>\n",
              "    </tr>\n",
              "    <tr>\n",
              "      <th>2</th>\n",
              "      <td>Africa</td>\n",
              "      <td>Male</td>\n",
              "      <td>39.820399</td>\n",
              "      <td>47.833333</td>\n",
              "      <td>11.833333</td>\n",
              "    </tr>\n",
              "    <tr>\n",
              "      <th>3</th>\n",
              "      <td>Americas</td>\n",
              "      <td>Both sexes</td>\n",
              "      <td>51.739618</td>\n",
              "      <td>63.666667</td>\n",
              "      <td>15.750000</td>\n",
              "    </tr>\n",
              "    <tr>\n",
              "      <th>4</th>\n",
              "      <td>Americas</td>\n",
              "      <td>Female</td>\n",
              "      <td>51.739618</td>\n",
              "      <td>63.666667</td>\n",
              "      <td>15.750000</td>\n",
              "    </tr>\n",
              "    <tr>\n",
              "      <th>5</th>\n",
              "      <td>Americas</td>\n",
              "      <td>Male</td>\n",
              "      <td>51.739618</td>\n",
              "      <td>63.666667</td>\n",
              "      <td>15.750000</td>\n",
              "    </tr>\n",
              "    <tr>\n",
              "      <th>6</th>\n",
              "      <td>Eastern Mediterranean</td>\n",
              "      <td>Both sexes</td>\n",
              "      <td>47.885167</td>\n",
              "      <td>59.250000</td>\n",
              "      <td>15.250000</td>\n",
              "    </tr>\n",
              "    <tr>\n",
              "      <th>7</th>\n",
              "      <td>Eastern Mediterranean</td>\n",
              "      <td>Female</td>\n",
              "      <td>47.885167</td>\n",
              "      <td>59.250000</td>\n",
              "      <td>15.250000</td>\n",
              "    </tr>\n",
              "    <tr>\n",
              "      <th>8</th>\n",
              "      <td>Eastern Mediterranean</td>\n",
              "      <td>Male</td>\n",
              "      <td>47.885167</td>\n",
              "      <td>59.250000</td>\n",
              "      <td>15.250000</td>\n",
              "    </tr>\n",
              "    <tr>\n",
              "      <th>9</th>\n",
              "      <td>Europe</td>\n",
              "      <td>Both sexes</td>\n",
              "      <td>53.034632</td>\n",
              "      <td>66.083333</td>\n",
              "      <td>15.666667</td>\n",
              "    </tr>\n",
              "    <tr>\n",
              "      <th>10</th>\n",
              "      <td>Europe</td>\n",
              "      <td>Female</td>\n",
              "      <td>53.034632</td>\n",
              "      <td>66.083333</td>\n",
              "      <td>15.666667</td>\n",
              "    </tr>\n",
              "    <tr>\n",
              "      <th>11</th>\n",
              "      <td>Europe</td>\n",
              "      <td>Male</td>\n",
              "      <td>53.034632</td>\n",
              "      <td>66.083333</td>\n",
              "      <td>15.666667</td>\n",
              "    </tr>\n",
              "    <tr>\n",
              "      <th>12</th>\n",
              "      <td>South_East Asia</td>\n",
              "      <td>Both sexes</td>\n",
              "      <td>46.983165</td>\n",
              "      <td>58.777778</td>\n",
              "      <td>16.250000</td>\n",
              "    </tr>\n",
              "    <tr>\n",
              "      <th>13</th>\n",
              "      <td>South_East Asia</td>\n",
              "      <td>Female</td>\n",
              "      <td>46.983165</td>\n",
              "      <td>58.777778</td>\n",
              "      <td>16.250000</td>\n",
              "    </tr>\n",
              "    <tr>\n",
              "      <th>14</th>\n",
              "      <td>South_East Asia</td>\n",
              "      <td>Male</td>\n",
              "      <td>46.983165</td>\n",
              "      <td>58.777778</td>\n",
              "      <td>16.250000</td>\n",
              "    </tr>\n",
              "    <tr>\n",
              "      <th>15</th>\n",
              "      <td>Western Pacific</td>\n",
              "      <td>Both sexes</td>\n",
              "      <td>49.730028</td>\n",
              "      <td>61.111111</td>\n",
              "      <td>14.250000</td>\n",
              "    </tr>\n",
              "    <tr>\n",
              "      <th>16</th>\n",
              "      <td>Western Pacific</td>\n",
              "      <td>Female</td>\n",
              "      <td>49.730028</td>\n",
              "      <td>61.111111</td>\n",
              "      <td>14.250000</td>\n",
              "    </tr>\n",
              "    <tr>\n",
              "      <th>17</th>\n",
              "      <td>Western Pacific</td>\n",
              "      <td>Male</td>\n",
              "      <td>49.730028</td>\n",
              "      <td>61.111111</td>\n",
              "      <td>14.250000</td>\n",
              "    </tr>\n",
              "  </tbody>\n",
              "</table>\n",
              "</div>\n",
              "    <div class=\"colab-df-buttons\">\n",
              "\n",
              "  <div class=\"colab-df-container\">\n",
              "    <button class=\"colab-df-convert\" onclick=\"convertToInteractive('df-65764f40-9dc8-4157-85b8-b41985fb17f2')\"\n",
              "            title=\"Convert this dataframe to an interactive table.\"\n",
              "            style=\"display:none;\">\n",
              "\n",
              "  <svg xmlns=\"http://www.w3.org/2000/svg\" height=\"24px\" viewBox=\"0 -960 960 960\">\n",
              "    <path d=\"M120-120v-720h720v720H120Zm60-500h600v-160H180v160Zm220 220h160v-160H400v160Zm0 220h160v-160H400v160ZM180-400h160v-160H180v160Zm440 0h160v-160H620v160ZM180-180h160v-160H180v160Zm440 0h160v-160H620v160Z\"/>\n",
              "  </svg>\n",
              "    </button>\n",
              "\n",
              "  <style>\n",
              "    .colab-df-container {\n",
              "      display:flex;\n",
              "      gap: 12px;\n",
              "    }\n",
              "\n",
              "    .colab-df-convert {\n",
              "      background-color: #E8F0FE;\n",
              "      border: none;\n",
              "      border-radius: 50%;\n",
              "      cursor: pointer;\n",
              "      display: none;\n",
              "      fill: #1967D2;\n",
              "      height: 32px;\n",
              "      padding: 0 0 0 0;\n",
              "      width: 32px;\n",
              "    }\n",
              "\n",
              "    .colab-df-convert:hover {\n",
              "      background-color: #E2EBFA;\n",
              "      box-shadow: 0px 1px 2px rgba(60, 64, 67, 0.3), 0px 1px 3px 1px rgba(60, 64, 67, 0.15);\n",
              "      fill: #174EA6;\n",
              "    }\n",
              "\n",
              "    .colab-df-buttons div {\n",
              "      margin-bottom: 4px;\n",
              "    }\n",
              "\n",
              "    [theme=dark] .colab-df-convert {\n",
              "      background-color: #3B4455;\n",
              "      fill: #D2E3FC;\n",
              "    }\n",
              "\n",
              "    [theme=dark] .colab-df-convert:hover {\n",
              "      background-color: #434B5C;\n",
              "      box-shadow: 0px 1px 3px 1px rgba(0, 0, 0, 0.15);\n",
              "      filter: drop-shadow(0px 1px 2px rgba(0, 0, 0, 0.3));\n",
              "      fill: #FFFFFF;\n",
              "    }\n",
              "  </style>\n",
              "\n",
              "    <script>\n",
              "      const buttonEl =\n",
              "        document.querySelector('#df-65764f40-9dc8-4157-85b8-b41985fb17f2 button.colab-df-convert');\n",
              "      buttonEl.style.display =\n",
              "        google.colab.kernel.accessAllowed ? 'block' : 'none';\n",
              "\n",
              "      async function convertToInteractive(key) {\n",
              "        const element = document.querySelector('#df-65764f40-9dc8-4157-85b8-b41985fb17f2');\n",
              "        const dataTable =\n",
              "          await google.colab.kernel.invokeFunction('convertToInteractive',\n",
              "                                                    [key], {});\n",
              "        if (!dataTable) return;\n",
              "\n",
              "        const docLinkHtml = 'Like what you see? Visit the ' +\n",
              "          '<a target=\"_blank\" href=https://colab.research.google.com/notebooks/data_table.ipynb>data table notebook</a>'\n",
              "          + ' to learn more about interactive tables.';\n",
              "        element.innerHTML = '';\n",
              "        dataTable['output_type'] = 'display_data';\n",
              "        await google.colab.output.renderOutput(dataTable, element);\n",
              "        const docLink = document.createElement('div');\n",
              "        docLink.innerHTML = docLinkHtml;\n",
              "        element.appendChild(docLink);\n",
              "      }\n",
              "    </script>\n",
              "  </div>\n",
              "\n",
              "\n",
              "<div id=\"df-a36309a6-e6ec-4ecb-b34b-e4de085d5a84\">\n",
              "  <button class=\"colab-df-quickchart\" onclick=\"quickchart('df-a36309a6-e6ec-4ecb-b34b-e4de085d5a84')\"\n",
              "            title=\"Suggest charts\"\n",
              "            style=\"display:none;\">\n",
              "\n",
              "<svg xmlns=\"http://www.w3.org/2000/svg\" height=\"24px\"viewBox=\"0 0 24 24\"\n",
              "     width=\"24px\">\n",
              "    <g>\n",
              "        <path d=\"M19 3H5c-1.1 0-2 .9-2 2v14c0 1.1.9 2 2 2h14c1.1 0 2-.9 2-2V5c0-1.1-.9-2-2-2zM9 17H7v-7h2v7zm4 0h-2V7h2v10zm4 0h-2v-4h2v4z\"/>\n",
              "    </g>\n",
              "</svg>\n",
              "  </button>\n",
              "\n",
              "<style>\n",
              "  .colab-df-quickchart {\n",
              "      --bg-color: #E8F0FE;\n",
              "      --fill-color: #1967D2;\n",
              "      --hover-bg-color: #E2EBFA;\n",
              "      --hover-fill-color: #174EA6;\n",
              "      --disabled-fill-color: #AAA;\n",
              "      --disabled-bg-color: #DDD;\n",
              "  }\n",
              "\n",
              "  [theme=dark] .colab-df-quickchart {\n",
              "      --bg-color: #3B4455;\n",
              "      --fill-color: #D2E3FC;\n",
              "      --hover-bg-color: #434B5C;\n",
              "      --hover-fill-color: #FFFFFF;\n",
              "      --disabled-bg-color: #3B4455;\n",
              "      --disabled-fill-color: #666;\n",
              "  }\n",
              "\n",
              "  .colab-df-quickchart {\n",
              "    background-color: var(--bg-color);\n",
              "    border: none;\n",
              "    border-radius: 50%;\n",
              "    cursor: pointer;\n",
              "    display: none;\n",
              "    fill: var(--fill-color);\n",
              "    height: 32px;\n",
              "    padding: 0;\n",
              "    width: 32px;\n",
              "  }\n",
              "\n",
              "  .colab-df-quickchart:hover {\n",
              "    background-color: var(--hover-bg-color);\n",
              "    box-shadow: 0 1px 2px rgba(60, 64, 67, 0.3), 0 1px 3px 1px rgba(60, 64, 67, 0.15);\n",
              "    fill: var(--button-hover-fill-color);\n",
              "  }\n",
              "\n",
              "  .colab-df-quickchart-complete:disabled,\n",
              "  .colab-df-quickchart-complete:disabled:hover {\n",
              "    background-color: var(--disabled-bg-color);\n",
              "    fill: var(--disabled-fill-color);\n",
              "    box-shadow: none;\n",
              "  }\n",
              "\n",
              "  .colab-df-spinner {\n",
              "    border: 2px solid var(--fill-color);\n",
              "    border-color: transparent;\n",
              "    border-bottom-color: var(--fill-color);\n",
              "    animation:\n",
              "      spin 1s steps(1) infinite;\n",
              "  }\n",
              "\n",
              "  @keyframes spin {\n",
              "    0% {\n",
              "      border-color: transparent;\n",
              "      border-bottom-color: var(--fill-color);\n",
              "      border-left-color: var(--fill-color);\n",
              "    }\n",
              "    20% {\n",
              "      border-color: transparent;\n",
              "      border-left-color: var(--fill-color);\n",
              "      border-top-color: var(--fill-color);\n",
              "    }\n",
              "    30% {\n",
              "      border-color: transparent;\n",
              "      border-left-color: var(--fill-color);\n",
              "      border-top-color: var(--fill-color);\n",
              "      border-right-color: var(--fill-color);\n",
              "    }\n",
              "    40% {\n",
              "      border-color: transparent;\n",
              "      border-right-color: var(--fill-color);\n",
              "      border-top-color: var(--fill-color);\n",
              "    }\n",
              "    60% {\n",
              "      border-color: transparent;\n",
              "      border-right-color: var(--fill-color);\n",
              "    }\n",
              "    80% {\n",
              "      border-color: transparent;\n",
              "      border-right-color: var(--fill-color);\n",
              "      border-bottom-color: var(--fill-color);\n",
              "    }\n",
              "    90% {\n",
              "      border-color: transparent;\n",
              "      border-bottom-color: var(--fill-color);\n",
              "    }\n",
              "  }\n",
              "</style>\n",
              "\n",
              "  <script>\n",
              "    async function quickchart(key) {\n",
              "      const quickchartButtonEl =\n",
              "        document.querySelector('#' + key + ' button');\n",
              "      quickchartButtonEl.disabled = true;  // To prevent multiple clicks.\n",
              "      quickchartButtonEl.classList.add('colab-df-spinner');\n",
              "      try {\n",
              "        const charts = await google.colab.kernel.invokeFunction(\n",
              "            'suggestCharts', [key], {});\n",
              "      } catch (error) {\n",
              "        console.error('Error during call to suggestCharts:', error);\n",
              "      }\n",
              "      quickchartButtonEl.classList.remove('colab-df-spinner');\n",
              "      quickchartButtonEl.classList.add('colab-df-quickchart-complete');\n",
              "    }\n",
              "    (() => {\n",
              "      let quickchartButtonEl =\n",
              "        document.querySelector('#df-a36309a6-e6ec-4ecb-b34b-e4de085d5a84 button');\n",
              "      quickchartButtonEl.style.display =\n",
              "        google.colab.kernel.accessAllowed ? 'block' : 'none';\n",
              "    })();\n",
              "  </script>\n",
              "</div>\n",
              "\n",
              "  <div id=\"id_0f1079f3-45c8-4d51-8f9d-5f653ecdcbba\">\n",
              "    <style>\n",
              "      .colab-df-generate {\n",
              "        background-color: #E8F0FE;\n",
              "        border: none;\n",
              "        border-radius: 50%;\n",
              "        cursor: pointer;\n",
              "        display: none;\n",
              "        fill: #1967D2;\n",
              "        height: 32px;\n",
              "        padding: 0 0 0 0;\n",
              "        width: 32px;\n",
              "      }\n",
              "\n",
              "      .colab-df-generate:hover {\n",
              "        background-color: #E2EBFA;\n",
              "        box-shadow: 0px 1px 2px rgba(60, 64, 67, 0.3), 0px 1px 3px 1px rgba(60, 64, 67, 0.15);\n",
              "        fill: #174EA6;\n",
              "      }\n",
              "\n",
              "      [theme=dark] .colab-df-generate {\n",
              "        background-color: #3B4455;\n",
              "        fill: #D2E3FC;\n",
              "      }\n",
              "\n",
              "      [theme=dark] .colab-df-generate:hover {\n",
              "        background-color: #434B5C;\n",
              "        box-shadow: 0px 1px 3px 1px rgba(0, 0, 0, 0.15);\n",
              "        filter: drop-shadow(0px 1px 2px rgba(0, 0, 0, 0.3));\n",
              "        fill: #FFFFFF;\n",
              "      }\n",
              "    </style>\n",
              "    <button class=\"colab-df-generate\" onclick=\"generateWithVariable('data')\"\n",
              "            title=\"Generate code using this dataframe.\"\n",
              "            style=\"display:none;\">\n",
              "\n",
              "  <svg xmlns=\"http://www.w3.org/2000/svg\" height=\"24px\"viewBox=\"0 0 24 24\"\n",
              "       width=\"24px\">\n",
              "    <path d=\"M7,19H8.4L18.45,9,17,7.55,7,17.6ZM5,21V16.75L18.45,3.32a2,2,0,0,1,2.83,0l1.4,1.43a1.91,1.91,0,0,1,.58,1.4,1.91,1.91,0,0,1-.58,1.4L9.25,21ZM18.45,9,17,7.55Zm-12,3A5.31,5.31,0,0,0,4.9,8.1,5.31,5.31,0,0,0,1,6.5,5.31,5.31,0,0,0,4.9,4.9,5.31,5.31,0,0,0,6.5,1,5.31,5.31,0,0,0,8.1,4.9,5.31,5.31,0,0,0,12,6.5,5.46,5.46,0,0,0,6.5,12Z\"/>\n",
              "  </svg>\n",
              "    </button>\n",
              "    <script>\n",
              "      (() => {\n",
              "      const buttonEl =\n",
              "        document.querySelector('#id_0f1079f3-45c8-4d51-8f9d-5f653ecdcbba button.colab-df-generate');\n",
              "      buttonEl.style.display =\n",
              "        google.colab.kernel.accessAllowed ? 'block' : 'none';\n",
              "\n",
              "      buttonEl.onclick = () => {\n",
              "        google.colab.notebook.generateWithVariable('data');\n",
              "      }\n",
              "      })();\n",
              "    </script>\n",
              "  </div>\n",
              "\n",
              "    </div>\n",
              "  </div>\n"
            ],
            "application/vnd.google.colaboratory.intrinsic+json": {
              "type": "dataframe",
              "variable_name": "data",
              "summary": "{\n  \"name\": \"data\",\n  \"rows\": 18,\n  \"fields\": [\n    {\n      \"column\": \"RegionDisplay\",\n      \"properties\": {\n        \"dtype\": \"category\",\n        \"num_unique_values\": 6,\n        \"samples\": [\n          \"Africa\",\n          \"Americas\",\n          \"Western Pacific\"\n        ],\n        \"semantic_type\": \"\",\n        \"description\": \"\"\n      }\n    },\n    {\n      \"column\": \"SexDisplay\",\n      \"properties\": {\n        \"dtype\": \"category\",\n        \"num_unique_values\": 3,\n        \"samples\": [\n          \"Both sexes\",\n          \"Female\",\n          \"Male\"\n        ],\n        \"semantic_type\": \"\",\n        \"description\": \"\"\n      }\n    },\n    {\n      \"column\": \"LifeExp_Mean_Mean\",\n      \"properties\": {\n        \"dtype\": \"number\",\n        \"std\": 4.406700637214802,\n        \"min\": 39.82039911308204,\n        \"max\": 53.03463203463204,\n        \"num_unique_values\": 6,\n        \"samples\": [\n          39.82039911308204,\n          51.73961840628507,\n          49.730027548209364\n        ],\n        \"semantic_type\": \"\",\n        \"description\": \"\"\n      }\n    },\n    {\n      \"column\": \"LifeExp_Mean_Median\",\n      \"properties\": {\n        \"dtype\": \"number\",\n        \"std\": 5.940579648906017,\n        \"min\": 47.833333333333336,\n        \"max\": 66.08333333333333,\n        \"num_unique_values\": 6,\n        \"samples\": [\n          47.833333333333336,\n          63.66666666666666,\n          61.11111111111112\n        ],\n        \"semantic_type\": \"\",\n        \"description\": \"\"\n      }\n    },\n    {\n      \"column\": \"LifeExp_Mean_Min\",\n      \"properties\": {\n        \"dtype\": \"number\",\n        \"std\": 1.5178674410591493,\n        \"min\": 11.833333333333334,\n        \"max\": 16.25,\n        \"num_unique_values\": 6,\n        \"samples\": [\n          11.833333333333334,\n          15.75,\n          14.25\n        ],\n        \"semantic_type\": \"\",\n        \"description\": \"\"\n      }\n    }\n  ]\n}"
            }
          },
          "metadata": {},
          "execution_count": 48
        }
      ],
      "source": [
        "inner3 = pd.read_csv('inner3.csv')\n",
        "data = inner3.groupby(['RegionDisplay', 'SexDisplay']).agg({\n",
        "    'LifeExp_Mean': ['mean', 'median', 'min']\n",
        "}).reset_index()\n",
        "data.columns = ['RegionDisplay', 'SexDisplay', 'LifeExp_Mean_Mean', 'LifeExp_Mean_Median', 'LifeExp_Mean_Min']\n",
        "data = data.sort_values(['RegionDisplay', 'SexDisplay'])\n",
        "\n",
        "data"
      ]
    },
    {
      "cell_type": "markdown",
      "source": [
        "**ВЫВОДЫ**\n",
        "\n",
        "\n",
        "в Африке средние показатели продолжительности (39 лет) жизни намного ниже в сравнение с другими выведенными странами(регионами). возможно, это в некоторой степени связано с низким уровнем развития медицины и ограниченным доступам к новым научным технологиям (а также, в какой-то мере с низким уровнем жизни Африки в сравнение с другими странами(регионами))\n",
        "\n",
        "в это же время в Европе средние показатели выше (53 года). это может демонстрировать использование странами Европы современной медицины. также это может свидетельствовать о хорошем(высоком) качестве и уровне жизни.\n",
        "\n",
        "\n",
        "данный анализ опять подтверждает то, что исследования (научные статьи) в равном количестве для каждого из полов. так как для каждого пола показатели не имеют различий (или, если имеют, то очень незначительные)"
      ],
      "metadata": {
        "id": "pV6W9zxdwwAE"
      }
    },
    {
      "cell_type": "markdown",
      "metadata": {
        "id": "MOpl4qSimA0f"
      },
      "source": [
        "### 15"
      ]
    },
    {
      "cell_type": "markdown",
      "metadata": {
        "id": "LJw3l8htmA0o"
      },
      "source": [
        "Работая лишь с общим объединенным датасетом и не используя исходную таблицу drinks, подсчитайте среднее потребление каждого вида алкоголя и среднее общее количество литров потребляемого алкоголя на человека по всем континентам. Занесите ваши результаты в отдельный датафрейм!\n",
        "\n",
        "*Подсказка. Задача немного сложнее, чем может показаться на первый взгляд — в объединенном датасете страны встречаются разное количество раз, и из-за этого могут возникнуть определенные проблемы. Если так случится, надо подумать, как это обойти!*\n",
        "\n",
        "*Примечание. Разумеется, это необходимо сделать автоматизированно, а не перебирая каждый континент по отдельности.*"
      ]
    },
    {
      "cell_type": "code",
      "execution_count": 49,
      "metadata": {
        "collapsed": true,
        "id": "gPuwfFgdmA0p",
        "colab": {
          "base_uri": "https://localhost:8080/",
          "height": 235
        },
        "outputId": "69b2a0c3-9cf5-4762-f998-1666ce28fb85"
      },
      "outputs": [
        {
          "output_type": "execute_result",
          "data": {
            "text/plain": [
              "           RegionDisplay  beer_servings_mean  spirit_servings_mean  \\\n",
              "0                 Africa           72.609756             17.487805   \n",
              "1               Americas          144.925926            143.148148   \n",
              "2  Eastern Mediterranean           11.263158             21.578947   \n",
              "3                 Europe          179.020408            129.795918   \n",
              "4        South_East Asia           18.000000             53.777778   \n",
              "5        Western Pacific           82.136364             78.863636   \n",
              "\n",
              "   wine_servings_mean  total_litres_of_pure_alcohol_mean  \n",
              "0           16.048780                           3.314634  \n",
              "1           38.962963                           5.851852  \n",
              "2            4.526316                           0.736842  \n",
              "3          127.346939                           8.002041  \n",
              "4            0.111111                           1.288889  \n",
              "5           27.136364                           3.513636  "
            ],
            "text/html": [
              "\n",
              "  <div id=\"df-1ea093bc-6da9-4b32-bb22-7f3350240981\" class=\"colab-df-container\">\n",
              "    <div>\n",
              "<style scoped>\n",
              "    .dataframe tbody tr th:only-of-type {\n",
              "        vertical-align: middle;\n",
              "    }\n",
              "\n",
              "    .dataframe tbody tr th {\n",
              "        vertical-align: top;\n",
              "    }\n",
              "\n",
              "    .dataframe thead th {\n",
              "        text-align: right;\n",
              "    }\n",
              "</style>\n",
              "<table border=\"1\" class=\"dataframe\">\n",
              "  <thead>\n",
              "    <tr style=\"text-align: right;\">\n",
              "      <th></th>\n",
              "      <th>RegionDisplay</th>\n",
              "      <th>beer_servings_mean</th>\n",
              "      <th>spirit_servings_mean</th>\n",
              "      <th>wine_servings_mean</th>\n",
              "      <th>total_litres_of_pure_alcohol_mean</th>\n",
              "    </tr>\n",
              "  </thead>\n",
              "  <tbody>\n",
              "    <tr>\n",
              "      <th>0</th>\n",
              "      <td>Africa</td>\n",
              "      <td>72.609756</td>\n",
              "      <td>17.487805</td>\n",
              "      <td>16.048780</td>\n",
              "      <td>3.314634</td>\n",
              "    </tr>\n",
              "    <tr>\n",
              "      <th>1</th>\n",
              "      <td>Americas</td>\n",
              "      <td>144.925926</td>\n",
              "      <td>143.148148</td>\n",
              "      <td>38.962963</td>\n",
              "      <td>5.851852</td>\n",
              "    </tr>\n",
              "    <tr>\n",
              "      <th>2</th>\n",
              "      <td>Eastern Mediterranean</td>\n",
              "      <td>11.263158</td>\n",
              "      <td>21.578947</td>\n",
              "      <td>4.526316</td>\n",
              "      <td>0.736842</td>\n",
              "    </tr>\n",
              "    <tr>\n",
              "      <th>3</th>\n",
              "      <td>Europe</td>\n",
              "      <td>179.020408</td>\n",
              "      <td>129.795918</td>\n",
              "      <td>127.346939</td>\n",
              "      <td>8.002041</td>\n",
              "    </tr>\n",
              "    <tr>\n",
              "      <th>4</th>\n",
              "      <td>South_East Asia</td>\n",
              "      <td>18.000000</td>\n",
              "      <td>53.777778</td>\n",
              "      <td>0.111111</td>\n",
              "      <td>1.288889</td>\n",
              "    </tr>\n",
              "    <tr>\n",
              "      <th>5</th>\n",
              "      <td>Western Pacific</td>\n",
              "      <td>82.136364</td>\n",
              "      <td>78.863636</td>\n",
              "      <td>27.136364</td>\n",
              "      <td>3.513636</td>\n",
              "    </tr>\n",
              "  </tbody>\n",
              "</table>\n",
              "</div>\n",
              "    <div class=\"colab-df-buttons\">\n",
              "\n",
              "  <div class=\"colab-df-container\">\n",
              "    <button class=\"colab-df-convert\" onclick=\"convertToInteractive('df-1ea093bc-6da9-4b32-bb22-7f3350240981')\"\n",
              "            title=\"Convert this dataframe to an interactive table.\"\n",
              "            style=\"display:none;\">\n",
              "\n",
              "  <svg xmlns=\"http://www.w3.org/2000/svg\" height=\"24px\" viewBox=\"0 -960 960 960\">\n",
              "    <path d=\"M120-120v-720h720v720H120Zm60-500h600v-160H180v160Zm220 220h160v-160H400v160Zm0 220h160v-160H400v160ZM180-400h160v-160H180v160Zm440 0h160v-160H620v160ZM180-180h160v-160H180v160Zm440 0h160v-160H620v160Z\"/>\n",
              "  </svg>\n",
              "    </button>\n",
              "\n",
              "  <style>\n",
              "    .colab-df-container {\n",
              "      display:flex;\n",
              "      gap: 12px;\n",
              "    }\n",
              "\n",
              "    .colab-df-convert {\n",
              "      background-color: #E8F0FE;\n",
              "      border: none;\n",
              "      border-radius: 50%;\n",
              "      cursor: pointer;\n",
              "      display: none;\n",
              "      fill: #1967D2;\n",
              "      height: 32px;\n",
              "      padding: 0 0 0 0;\n",
              "      width: 32px;\n",
              "    }\n",
              "\n",
              "    .colab-df-convert:hover {\n",
              "      background-color: #E2EBFA;\n",
              "      box-shadow: 0px 1px 2px rgba(60, 64, 67, 0.3), 0px 1px 3px 1px rgba(60, 64, 67, 0.15);\n",
              "      fill: #174EA6;\n",
              "    }\n",
              "\n",
              "    .colab-df-buttons div {\n",
              "      margin-bottom: 4px;\n",
              "    }\n",
              "\n",
              "    [theme=dark] .colab-df-convert {\n",
              "      background-color: #3B4455;\n",
              "      fill: #D2E3FC;\n",
              "    }\n",
              "\n",
              "    [theme=dark] .colab-df-convert:hover {\n",
              "      background-color: #434B5C;\n",
              "      box-shadow: 0px 1px 3px 1px rgba(0, 0, 0, 0.15);\n",
              "      filter: drop-shadow(0px 1px 2px rgba(0, 0, 0, 0.3));\n",
              "      fill: #FFFFFF;\n",
              "    }\n",
              "  </style>\n",
              "\n",
              "    <script>\n",
              "      const buttonEl =\n",
              "        document.querySelector('#df-1ea093bc-6da9-4b32-bb22-7f3350240981 button.colab-df-convert');\n",
              "      buttonEl.style.display =\n",
              "        google.colab.kernel.accessAllowed ? 'block' : 'none';\n",
              "\n",
              "      async function convertToInteractive(key) {\n",
              "        const element = document.querySelector('#df-1ea093bc-6da9-4b32-bb22-7f3350240981');\n",
              "        const dataTable =\n",
              "          await google.colab.kernel.invokeFunction('convertToInteractive',\n",
              "                                                    [key], {});\n",
              "        if (!dataTable) return;\n",
              "\n",
              "        const docLinkHtml = 'Like what you see? Visit the ' +\n",
              "          '<a target=\"_blank\" href=https://colab.research.google.com/notebooks/data_table.ipynb>data table notebook</a>'\n",
              "          + ' to learn more about interactive tables.';\n",
              "        element.innerHTML = '';\n",
              "        dataTable['output_type'] = 'display_data';\n",
              "        await google.colab.output.renderOutput(dataTable, element);\n",
              "        const docLink = document.createElement('div');\n",
              "        docLink.innerHTML = docLinkHtml;\n",
              "        element.appendChild(docLink);\n",
              "      }\n",
              "    </script>\n",
              "  </div>\n",
              "\n",
              "\n",
              "<div id=\"df-f96040be-2527-45aa-9a1c-a6764d1ffe7b\">\n",
              "  <button class=\"colab-df-quickchart\" onclick=\"quickchart('df-f96040be-2527-45aa-9a1c-a6764d1ffe7b')\"\n",
              "            title=\"Suggest charts\"\n",
              "            style=\"display:none;\">\n",
              "\n",
              "<svg xmlns=\"http://www.w3.org/2000/svg\" height=\"24px\"viewBox=\"0 0 24 24\"\n",
              "     width=\"24px\">\n",
              "    <g>\n",
              "        <path d=\"M19 3H5c-1.1 0-2 .9-2 2v14c0 1.1.9 2 2 2h14c1.1 0 2-.9 2-2V5c0-1.1-.9-2-2-2zM9 17H7v-7h2v7zm4 0h-2V7h2v10zm4 0h-2v-4h2v4z\"/>\n",
              "    </g>\n",
              "</svg>\n",
              "  </button>\n",
              "\n",
              "<style>\n",
              "  .colab-df-quickchart {\n",
              "      --bg-color: #E8F0FE;\n",
              "      --fill-color: #1967D2;\n",
              "      --hover-bg-color: #E2EBFA;\n",
              "      --hover-fill-color: #174EA6;\n",
              "      --disabled-fill-color: #AAA;\n",
              "      --disabled-bg-color: #DDD;\n",
              "  }\n",
              "\n",
              "  [theme=dark] .colab-df-quickchart {\n",
              "      --bg-color: #3B4455;\n",
              "      --fill-color: #D2E3FC;\n",
              "      --hover-bg-color: #434B5C;\n",
              "      --hover-fill-color: #FFFFFF;\n",
              "      --disabled-bg-color: #3B4455;\n",
              "      --disabled-fill-color: #666;\n",
              "  }\n",
              "\n",
              "  .colab-df-quickchart {\n",
              "    background-color: var(--bg-color);\n",
              "    border: none;\n",
              "    border-radius: 50%;\n",
              "    cursor: pointer;\n",
              "    display: none;\n",
              "    fill: var(--fill-color);\n",
              "    height: 32px;\n",
              "    padding: 0;\n",
              "    width: 32px;\n",
              "  }\n",
              "\n",
              "  .colab-df-quickchart:hover {\n",
              "    background-color: var(--hover-bg-color);\n",
              "    box-shadow: 0 1px 2px rgba(60, 64, 67, 0.3), 0 1px 3px 1px rgba(60, 64, 67, 0.15);\n",
              "    fill: var(--button-hover-fill-color);\n",
              "  }\n",
              "\n",
              "  .colab-df-quickchart-complete:disabled,\n",
              "  .colab-df-quickchart-complete:disabled:hover {\n",
              "    background-color: var(--disabled-bg-color);\n",
              "    fill: var(--disabled-fill-color);\n",
              "    box-shadow: none;\n",
              "  }\n",
              "\n",
              "  .colab-df-spinner {\n",
              "    border: 2px solid var(--fill-color);\n",
              "    border-color: transparent;\n",
              "    border-bottom-color: var(--fill-color);\n",
              "    animation:\n",
              "      spin 1s steps(1) infinite;\n",
              "  }\n",
              "\n",
              "  @keyframes spin {\n",
              "    0% {\n",
              "      border-color: transparent;\n",
              "      border-bottom-color: var(--fill-color);\n",
              "      border-left-color: var(--fill-color);\n",
              "    }\n",
              "    20% {\n",
              "      border-color: transparent;\n",
              "      border-left-color: var(--fill-color);\n",
              "      border-top-color: var(--fill-color);\n",
              "    }\n",
              "    30% {\n",
              "      border-color: transparent;\n",
              "      border-left-color: var(--fill-color);\n",
              "      border-top-color: var(--fill-color);\n",
              "      border-right-color: var(--fill-color);\n",
              "    }\n",
              "    40% {\n",
              "      border-color: transparent;\n",
              "      border-right-color: var(--fill-color);\n",
              "      border-top-color: var(--fill-color);\n",
              "    }\n",
              "    60% {\n",
              "      border-color: transparent;\n",
              "      border-right-color: var(--fill-color);\n",
              "    }\n",
              "    80% {\n",
              "      border-color: transparent;\n",
              "      border-right-color: var(--fill-color);\n",
              "      border-bottom-color: var(--fill-color);\n",
              "    }\n",
              "    90% {\n",
              "      border-color: transparent;\n",
              "      border-bottom-color: var(--fill-color);\n",
              "    }\n",
              "  }\n",
              "</style>\n",
              "\n",
              "  <script>\n",
              "    async function quickchart(key) {\n",
              "      const quickchartButtonEl =\n",
              "        document.querySelector('#' + key + ' button');\n",
              "      quickchartButtonEl.disabled = true;  // To prevent multiple clicks.\n",
              "      quickchartButtonEl.classList.add('colab-df-spinner');\n",
              "      try {\n",
              "        const charts = await google.colab.kernel.invokeFunction(\n",
              "            'suggestCharts', [key], {});\n",
              "      } catch (error) {\n",
              "        console.error('Error during call to suggestCharts:', error);\n",
              "      }\n",
              "      quickchartButtonEl.classList.remove('colab-df-spinner');\n",
              "      quickchartButtonEl.classList.add('colab-df-quickchart-complete');\n",
              "    }\n",
              "    (() => {\n",
              "      let quickchartButtonEl =\n",
              "        document.querySelector('#df-f96040be-2527-45aa-9a1c-a6764d1ffe7b button');\n",
              "      quickchartButtonEl.style.display =\n",
              "        google.colab.kernel.accessAllowed ? 'block' : 'none';\n",
              "    })();\n",
              "  </script>\n",
              "</div>\n",
              "\n",
              "  <div id=\"id_4dad2ee8-c005-44b9-9896-16727de71617\">\n",
              "    <style>\n",
              "      .colab-df-generate {\n",
              "        background-color: #E8F0FE;\n",
              "        border: none;\n",
              "        border-radius: 50%;\n",
              "        cursor: pointer;\n",
              "        display: none;\n",
              "        fill: #1967D2;\n",
              "        height: 32px;\n",
              "        padding: 0 0 0 0;\n",
              "        width: 32px;\n",
              "      }\n",
              "\n",
              "      .colab-df-generate:hover {\n",
              "        background-color: #E2EBFA;\n",
              "        box-shadow: 0px 1px 2px rgba(60, 64, 67, 0.3), 0px 1px 3px 1px rgba(60, 64, 67, 0.15);\n",
              "        fill: #174EA6;\n",
              "      }\n",
              "\n",
              "      [theme=dark] .colab-df-generate {\n",
              "        background-color: #3B4455;\n",
              "        fill: #D2E3FC;\n",
              "      }\n",
              "\n",
              "      [theme=dark] .colab-df-generate:hover {\n",
              "        background-color: #434B5C;\n",
              "        box-shadow: 0px 1px 3px 1px rgba(0, 0, 0, 0.15);\n",
              "        filter: drop-shadow(0px 1px 2px rgba(0, 0, 0, 0.3));\n",
              "        fill: #FFFFFF;\n",
              "      }\n",
              "    </style>\n",
              "    <button class=\"colab-df-generate\" onclick=\"generateWithVariable('contin_mean')\"\n",
              "            title=\"Generate code using this dataframe.\"\n",
              "            style=\"display:none;\">\n",
              "\n",
              "  <svg xmlns=\"http://www.w3.org/2000/svg\" height=\"24px\"viewBox=\"0 0 24 24\"\n",
              "       width=\"24px\">\n",
              "    <path d=\"M7,19H8.4L18.45,9,17,7.55,7,17.6ZM5,21V16.75L18.45,3.32a2,2,0,0,1,2.83,0l1.4,1.43a1.91,1.91,0,0,1,.58,1.4,1.91,1.91,0,0,1-.58,1.4L9.25,21ZM18.45,9,17,7.55Zm-12,3A5.31,5.31,0,0,0,4.9,8.1,5.31,5.31,0,0,0,1,6.5,5.31,5.31,0,0,0,4.9,4.9,5.31,5.31,0,0,0,6.5,1,5.31,5.31,0,0,0,8.1,4.9,5.31,5.31,0,0,0,12,6.5,5.46,5.46,0,0,0,6.5,12Z\"/>\n",
              "  </svg>\n",
              "    </button>\n",
              "    <script>\n",
              "      (() => {\n",
              "      const buttonEl =\n",
              "        document.querySelector('#id_4dad2ee8-c005-44b9-9896-16727de71617 button.colab-df-generate');\n",
              "      buttonEl.style.display =\n",
              "        google.colab.kernel.accessAllowed ? 'block' : 'none';\n",
              "\n",
              "      buttonEl.onclick = () => {\n",
              "        google.colab.notebook.generateWithVariable('contin_mean');\n",
              "      }\n",
              "      })();\n",
              "    </script>\n",
              "  </div>\n",
              "\n",
              "    </div>\n",
              "  </div>\n"
            ],
            "application/vnd.google.colaboratory.intrinsic+json": {
              "type": "dataframe",
              "variable_name": "contin_mean",
              "summary": "{\n  \"name\": \"contin_mean\",\n  \"rows\": 6,\n  \"fields\": [\n    {\n      \"column\": \"RegionDisplay\",\n      \"properties\": {\n        \"dtype\": \"string\",\n        \"num_unique_values\": 6,\n        \"samples\": [\n          \"Africa\",\n          \"Americas\",\n          \"Western Pacific\"\n        ],\n        \"semantic_type\": \"\",\n        \"description\": \"\"\n      }\n    },\n    {\n      \"column\": \"beer_servings_mean\",\n      \"properties\": {\n        \"dtype\": \"number\",\n        \"std\": 67.10901221574757,\n        \"min\": 11.263157894736842,\n        \"max\": 179.0204081632653,\n        \"num_unique_values\": 6,\n        \"samples\": [\n          72.60975609756098,\n          144.92592592592592,\n          82.13636363636364\n        ],\n        \"semantic_type\": \"\",\n        \"description\": \"\"\n      }\n    },\n    {\n      \"column\": \"spirit_servings_mean\",\n      \"properties\": {\n        \"dtype\": \"number\",\n        \"std\": 53.42053572226208,\n        \"min\": 17.48780487804878,\n        \"max\": 143.14814814814815,\n        \"num_unique_values\": 6,\n        \"samples\": [\n          17.48780487804878,\n          143.14814814814815,\n          78.86363636363636\n        ],\n        \"semantic_type\": \"\",\n        \"description\": \"\"\n      }\n    },\n    {\n      \"column\": \"wine_servings_mean\",\n      \"properties\": {\n        \"dtype\": \"number\",\n        \"std\": 47.13317610753641,\n        \"min\": 0.1111111111111111,\n        \"max\": 127.34693877551021,\n        \"num_unique_values\": 6,\n        \"samples\": [\n          16.048780487804876,\n          38.96296296296296,\n          27.136363636363637\n        ],\n        \"semantic_type\": \"\",\n        \"description\": \"\"\n      }\n    },\n    {\n      \"column\": \"total_litres_of_pure_alcohol_mean\",\n      \"properties\": {\n        \"dtype\": \"number\",\n        \"std\": 2.7521638241452715,\n        \"min\": 0.7368421052631579,\n        \"max\": 8.00204081632653,\n        \"num_unique_values\": 6,\n        \"samples\": [\n          3.3146341463414632,\n          5.851851851851852,\n          3.5136363636363637\n        ],\n        \"semantic_type\": \"\",\n        \"description\": \"\"\n      }\n    }\n  ]\n}"
            }
          },
          "metadata": {},
          "execution_count": 49
        }
      ],
      "source": [
        "coun_mean = inner3.groupby(['RegionDisplay', 'CountryDisplay']).agg({\n",
        "    'beer_servings': 'mean',\n",
        "    'spirit_servings': 'mean',\n",
        "    'wine_servings': 'mean',\n",
        "    'total_litres_of_pure_alcohol': 'mean'\n",
        "    }).reset_index()\n",
        "contin_mean = inner3.groupby(['RegionDisplay']).agg({\n",
        "    'beer_servings': 'mean',\n",
        "    'spirit_servings': 'mean',\n",
        "    'wine_servings': 'mean',\n",
        "    'total_litres_of_pure_alcohol': 'mean'\n",
        "    }).reset_index()\n",
        "contin_mean.columns = ['RegionDisplay', 'beer_servings_mean', 'spirit_servings_mean', 'wine_servings_mean', 'total_litres_of_pure_alcohol_mean']\n",
        "contin_mean"
      ]
    },
    {
      "cell_type": "markdown",
      "metadata": {
        "id": "iQ3Q-4AMZKgk"
      },
      "source": [
        "### 16"
      ]
    },
    {
      "cell_type": "markdown",
      "metadata": {
        "id": "brZ1VUheZKgk"
      },
      "source": [
        "Создание новых признаков (feature engineering) является одним из основных средств улучшения качества работы алгоритмов машинного обучения на этапе обработки данных, а также отличный способ увеличить глубину ваших выводов из проделанного анализа в целом! Частично мы с вами уже осуществляли feature engineering, когда добавляли новые столбцы в задании 13 данного раздела.\n",
        "\n",
        "Теперь давайте добавим в таблицу столбец, который будет показывать, какое общее количество servings per person производится в среднем по стране, к которой относится научная статья. Столбец для этого признака назовите 'total_servings'.\n",
        "\n",
        "Чем может быть полезен такой признак?\n",
        "\n",
        "***Бонус (2 бон. балла):*** Придумайте еще какой-нибудь свой осмысленный признак, который может быть полезен для анализа (несет в себе какую-то информацию), и добавьте его в таблицу. Обязательно аргументируйте, чем полезен ваш признак."
      ]
    },
    {
      "cell_type": "code",
      "execution_count": 50,
      "metadata": {
        "collapsed": true,
        "id": "IUpwi7PmZKgk",
        "colab": {
          "base_uri": "https://localhost:8080/",
          "height": 204
        },
        "outputId": "8626e4fb-47e4-44ac-c0fe-52417b9c878c"
      },
      "outputs": [
        {
          "output_type": "execute_result",
          "data": {
            "text/plain": [
              "     CountryDisplay  total_servings  alcohol_to_servings\n",
              "5506       Zimbabwe              86             0.054651\n",
              "5507       Zimbabwe              86             0.054651\n",
              "5508       Zimbabwe              86             0.054651\n",
              "5509       Zimbabwe              86             0.054651\n",
              "5510       Zimbabwe              86             0.054651"
            ],
            "text/html": [
              "\n",
              "  <div id=\"df-f0d370cf-340b-456a-b013-362daddf0fbf\" class=\"colab-df-container\">\n",
              "    <div>\n",
              "<style scoped>\n",
              "    .dataframe tbody tr th:only-of-type {\n",
              "        vertical-align: middle;\n",
              "    }\n",
              "\n",
              "    .dataframe tbody tr th {\n",
              "        vertical-align: top;\n",
              "    }\n",
              "\n",
              "    .dataframe thead th {\n",
              "        text-align: right;\n",
              "    }\n",
              "</style>\n",
              "<table border=\"1\" class=\"dataframe\">\n",
              "  <thead>\n",
              "    <tr style=\"text-align: right;\">\n",
              "      <th></th>\n",
              "      <th>CountryDisplay</th>\n",
              "      <th>total_servings</th>\n",
              "      <th>alcohol_to_servings</th>\n",
              "    </tr>\n",
              "  </thead>\n",
              "  <tbody>\n",
              "    <tr>\n",
              "      <th>5506</th>\n",
              "      <td>Zimbabwe</td>\n",
              "      <td>86</td>\n",
              "      <td>0.054651</td>\n",
              "    </tr>\n",
              "    <tr>\n",
              "      <th>5507</th>\n",
              "      <td>Zimbabwe</td>\n",
              "      <td>86</td>\n",
              "      <td>0.054651</td>\n",
              "    </tr>\n",
              "    <tr>\n",
              "      <th>5508</th>\n",
              "      <td>Zimbabwe</td>\n",
              "      <td>86</td>\n",
              "      <td>0.054651</td>\n",
              "    </tr>\n",
              "    <tr>\n",
              "      <th>5509</th>\n",
              "      <td>Zimbabwe</td>\n",
              "      <td>86</td>\n",
              "      <td>0.054651</td>\n",
              "    </tr>\n",
              "    <tr>\n",
              "      <th>5510</th>\n",
              "      <td>Zimbabwe</td>\n",
              "      <td>86</td>\n",
              "      <td>0.054651</td>\n",
              "    </tr>\n",
              "  </tbody>\n",
              "</table>\n",
              "</div>\n",
              "    <div class=\"colab-df-buttons\">\n",
              "\n",
              "  <div class=\"colab-df-container\">\n",
              "    <button class=\"colab-df-convert\" onclick=\"convertToInteractive('df-f0d370cf-340b-456a-b013-362daddf0fbf')\"\n",
              "            title=\"Convert this dataframe to an interactive table.\"\n",
              "            style=\"display:none;\">\n",
              "\n",
              "  <svg xmlns=\"http://www.w3.org/2000/svg\" height=\"24px\" viewBox=\"0 -960 960 960\">\n",
              "    <path d=\"M120-120v-720h720v720H120Zm60-500h600v-160H180v160Zm220 220h160v-160H400v160Zm0 220h160v-160H400v160ZM180-400h160v-160H180v160Zm440 0h160v-160H620v160ZM180-180h160v-160H180v160Zm440 0h160v-160H620v160Z\"/>\n",
              "  </svg>\n",
              "    </button>\n",
              "\n",
              "  <style>\n",
              "    .colab-df-container {\n",
              "      display:flex;\n",
              "      gap: 12px;\n",
              "    }\n",
              "\n",
              "    .colab-df-convert {\n",
              "      background-color: #E8F0FE;\n",
              "      border: none;\n",
              "      border-radius: 50%;\n",
              "      cursor: pointer;\n",
              "      display: none;\n",
              "      fill: #1967D2;\n",
              "      height: 32px;\n",
              "      padding: 0 0 0 0;\n",
              "      width: 32px;\n",
              "    }\n",
              "\n",
              "    .colab-df-convert:hover {\n",
              "      background-color: #E2EBFA;\n",
              "      box-shadow: 0px 1px 2px rgba(60, 64, 67, 0.3), 0px 1px 3px 1px rgba(60, 64, 67, 0.15);\n",
              "      fill: #174EA6;\n",
              "    }\n",
              "\n",
              "    .colab-df-buttons div {\n",
              "      margin-bottom: 4px;\n",
              "    }\n",
              "\n",
              "    [theme=dark] .colab-df-convert {\n",
              "      background-color: #3B4455;\n",
              "      fill: #D2E3FC;\n",
              "    }\n",
              "\n",
              "    [theme=dark] .colab-df-convert:hover {\n",
              "      background-color: #434B5C;\n",
              "      box-shadow: 0px 1px 3px 1px rgba(0, 0, 0, 0.15);\n",
              "      filter: drop-shadow(0px 1px 2px rgba(0, 0, 0, 0.3));\n",
              "      fill: #FFFFFF;\n",
              "    }\n",
              "  </style>\n",
              "\n",
              "    <script>\n",
              "      const buttonEl =\n",
              "        document.querySelector('#df-f0d370cf-340b-456a-b013-362daddf0fbf button.colab-df-convert');\n",
              "      buttonEl.style.display =\n",
              "        google.colab.kernel.accessAllowed ? 'block' : 'none';\n",
              "\n",
              "      async function convertToInteractive(key) {\n",
              "        const element = document.querySelector('#df-f0d370cf-340b-456a-b013-362daddf0fbf');\n",
              "        const dataTable =\n",
              "          await google.colab.kernel.invokeFunction('convertToInteractive',\n",
              "                                                    [key], {});\n",
              "        if (!dataTable) return;\n",
              "\n",
              "        const docLinkHtml = 'Like what you see? Visit the ' +\n",
              "          '<a target=\"_blank\" href=https://colab.research.google.com/notebooks/data_table.ipynb>data table notebook</a>'\n",
              "          + ' to learn more about interactive tables.';\n",
              "        element.innerHTML = '';\n",
              "        dataTable['output_type'] = 'display_data';\n",
              "        await google.colab.output.renderOutput(dataTable, element);\n",
              "        const docLink = document.createElement('div');\n",
              "        docLink.innerHTML = docLinkHtml;\n",
              "        element.appendChild(docLink);\n",
              "      }\n",
              "    </script>\n",
              "  </div>\n",
              "\n",
              "\n",
              "<div id=\"df-72e471e5-e669-4dff-93d6-bbd0c9a75b85\">\n",
              "  <button class=\"colab-df-quickchart\" onclick=\"quickchart('df-72e471e5-e669-4dff-93d6-bbd0c9a75b85')\"\n",
              "            title=\"Suggest charts\"\n",
              "            style=\"display:none;\">\n",
              "\n",
              "<svg xmlns=\"http://www.w3.org/2000/svg\" height=\"24px\"viewBox=\"0 0 24 24\"\n",
              "     width=\"24px\">\n",
              "    <g>\n",
              "        <path d=\"M19 3H5c-1.1 0-2 .9-2 2v14c0 1.1.9 2 2 2h14c1.1 0 2-.9 2-2V5c0-1.1-.9-2-2-2zM9 17H7v-7h2v7zm4 0h-2V7h2v10zm4 0h-2v-4h2v4z\"/>\n",
              "    </g>\n",
              "</svg>\n",
              "  </button>\n",
              "\n",
              "<style>\n",
              "  .colab-df-quickchart {\n",
              "      --bg-color: #E8F0FE;\n",
              "      --fill-color: #1967D2;\n",
              "      --hover-bg-color: #E2EBFA;\n",
              "      --hover-fill-color: #174EA6;\n",
              "      --disabled-fill-color: #AAA;\n",
              "      --disabled-bg-color: #DDD;\n",
              "  }\n",
              "\n",
              "  [theme=dark] .colab-df-quickchart {\n",
              "      --bg-color: #3B4455;\n",
              "      --fill-color: #D2E3FC;\n",
              "      --hover-bg-color: #434B5C;\n",
              "      --hover-fill-color: #FFFFFF;\n",
              "      --disabled-bg-color: #3B4455;\n",
              "      --disabled-fill-color: #666;\n",
              "  }\n",
              "\n",
              "  .colab-df-quickchart {\n",
              "    background-color: var(--bg-color);\n",
              "    border: none;\n",
              "    border-radius: 50%;\n",
              "    cursor: pointer;\n",
              "    display: none;\n",
              "    fill: var(--fill-color);\n",
              "    height: 32px;\n",
              "    padding: 0;\n",
              "    width: 32px;\n",
              "  }\n",
              "\n",
              "  .colab-df-quickchart:hover {\n",
              "    background-color: var(--hover-bg-color);\n",
              "    box-shadow: 0 1px 2px rgba(60, 64, 67, 0.3), 0 1px 3px 1px rgba(60, 64, 67, 0.15);\n",
              "    fill: var(--button-hover-fill-color);\n",
              "  }\n",
              "\n",
              "  .colab-df-quickchart-complete:disabled,\n",
              "  .colab-df-quickchart-complete:disabled:hover {\n",
              "    background-color: var(--disabled-bg-color);\n",
              "    fill: var(--disabled-fill-color);\n",
              "    box-shadow: none;\n",
              "  }\n",
              "\n",
              "  .colab-df-spinner {\n",
              "    border: 2px solid var(--fill-color);\n",
              "    border-color: transparent;\n",
              "    border-bottom-color: var(--fill-color);\n",
              "    animation:\n",
              "      spin 1s steps(1) infinite;\n",
              "  }\n",
              "\n",
              "  @keyframes spin {\n",
              "    0% {\n",
              "      border-color: transparent;\n",
              "      border-bottom-color: var(--fill-color);\n",
              "      border-left-color: var(--fill-color);\n",
              "    }\n",
              "    20% {\n",
              "      border-color: transparent;\n",
              "      border-left-color: var(--fill-color);\n",
              "      border-top-color: var(--fill-color);\n",
              "    }\n",
              "    30% {\n",
              "      border-color: transparent;\n",
              "      border-left-color: var(--fill-color);\n",
              "      border-top-color: var(--fill-color);\n",
              "      border-right-color: var(--fill-color);\n",
              "    }\n",
              "    40% {\n",
              "      border-color: transparent;\n",
              "      border-right-color: var(--fill-color);\n",
              "      border-top-color: var(--fill-color);\n",
              "    }\n",
              "    60% {\n",
              "      border-color: transparent;\n",
              "      border-right-color: var(--fill-color);\n",
              "    }\n",
              "    80% {\n",
              "      border-color: transparent;\n",
              "      border-right-color: var(--fill-color);\n",
              "      border-bottom-color: var(--fill-color);\n",
              "    }\n",
              "    90% {\n",
              "      border-color: transparent;\n",
              "      border-bottom-color: var(--fill-color);\n",
              "    }\n",
              "  }\n",
              "</style>\n",
              "\n",
              "  <script>\n",
              "    async function quickchart(key) {\n",
              "      const quickchartButtonEl =\n",
              "        document.querySelector('#' + key + ' button');\n",
              "      quickchartButtonEl.disabled = true;  // To prevent multiple clicks.\n",
              "      quickchartButtonEl.classList.add('colab-df-spinner');\n",
              "      try {\n",
              "        const charts = await google.colab.kernel.invokeFunction(\n",
              "            'suggestCharts', [key], {});\n",
              "      } catch (error) {\n",
              "        console.error('Error during call to suggestCharts:', error);\n",
              "      }\n",
              "      quickchartButtonEl.classList.remove('colab-df-spinner');\n",
              "      quickchartButtonEl.classList.add('colab-df-quickchart-complete');\n",
              "    }\n",
              "    (() => {\n",
              "      let quickchartButtonEl =\n",
              "        document.querySelector('#df-72e471e5-e669-4dff-93d6-bbd0c9a75b85 button');\n",
              "      quickchartButtonEl.style.display =\n",
              "        google.colab.kernel.accessAllowed ? 'block' : 'none';\n",
              "    })();\n",
              "  </script>\n",
              "</div>\n",
              "\n",
              "    </div>\n",
              "  </div>\n"
            ],
            "application/vnd.google.colaboratory.intrinsic+json": {
              "type": "dataframe",
              "summary": "{\n  \"name\": \"#\\u043f\\u043e\\u0442\\u0440\\u0435\\u0431\\u043b\\u0435\\u043d\\u0438\\u044f \\u0430\\u043b\\u043a\\u043e\\u0433\\u043e\\u043b\\u044f \\u043d\\u0430 \\u0434\\u0440\\u0443\\u0433\\u0438\\u0435 \\u043f\\u043e\\u043a\\u0430\\u0437\\u0430\\u0442\\u0435\\u043b\\u0438, \\u043a\\u043e\\u0442\\u043e\\u0440\\u044b\\u0435 \\u043e\\u0442\\u0440\\u0430\\u0436\\u0435\\u043d\\u044b \\u0432 \\u0434\\u0430\\u043d\\u043d\\u043e\\u0439 \\u043e\\u0431\\u044a\\u0435\\u0434\\u0438\\u043d\\u0435\\u043d\\u043d\\u043e\\u0439 \\u0442\\u0430\\u0431\\u043b\\u0438\\u0446\\u0435\",\n  \"rows\": 5,\n  \"fields\": [\n    {\n      \"column\": \"CountryDisplay\",\n      \"properties\": {\n        \"dtype\": \"category\",\n        \"num_unique_values\": 1,\n        \"samples\": [\n          \"Zimbabwe\"\n        ],\n        \"semantic_type\": \"\",\n        \"description\": \"\"\n      }\n    },\n    {\n      \"column\": \"total_servings\",\n      \"properties\": {\n        \"dtype\": \"number\",\n        \"std\": 0,\n        \"min\": 86,\n        \"max\": 86,\n        \"num_unique_values\": 1,\n        \"samples\": [\n          86\n        ],\n        \"semantic_type\": \"\",\n        \"description\": \"\"\n      }\n    },\n    {\n      \"column\": \"alcohol_to_servings\",\n      \"properties\": {\n        \"dtype\": \"number\",\n        \"std\": 7.757919228897728e-18,\n        \"min\": 0.05465116279069768,\n        \"max\": 0.05465116279069768,\n        \"num_unique_values\": 1,\n        \"samples\": [\n          0.05465116279069768\n        ],\n        \"semantic_type\": \"\",\n        \"description\": \"\"\n      }\n    }\n  ]\n}"
            }
          },
          "metadata": {},
          "execution_count": 50
        }
      ],
      "source": [
        "inner3['total_servings'] = inner3[['beer_servings', 'spirit_servings' , 'wine_servings']].sum(axis=1)\n",
        "inner3['alcohol_to_servings'] = inner3['total_litres_of_pure_alcohol']/inner3['total_servings']\n",
        "inner3['alcohol_to_servings'] = inner3['alcohol_to_servings'].replace([float('inf'), - float('inf')], 0).fillna(0)\n",
        "inner3[['CountryDisplay', 'total_servings', 'alcohol_to_servings']].tail()\n",
        "\n",
        "#данный признак может быть полезен для анализа потребления алкоголя на уровне стран. и влияние\n",
        "#потребления алкоголя на другие показатели, которые отражены в данной объединенной таблице"
      ]
    },
    {
      "cell_type": "markdown",
      "metadata": {
        "id": "XlDxz7oNZKgl"
      },
      "source": [
        "### 17"
      ]
    },
    {
      "cell_type": "markdown",
      "metadata": {
        "id": "cWu51pYuZKgm"
      },
      "source": [
        "Есть ли в данных категориальные признаки, которые принимают значения строк, а не чисел? Если да, то для многих алгоритмов это может стать серьезным препятствием, поэтому закодируйте категориальные признаки так, чтобы к данным можно было применить любые алгоритмы. Аргументируйте выбор методов кодирования.\n",
        "\n",
        "*Подсказка. Вам могут помочь Label encoding и One-Hot Encoding. Но будьте внимательны! У каждого из этих методов есть свои сильные и слабые стороны, а также ограничения применимости.*"
      ]
    },
    {
      "cell_type": "markdown",
      "source": [],
      "metadata": {
        "id": "VFJuVRfvIGnL"
      }
    },
    {
      "cell_type": "code",
      "execution_count": 52,
      "metadata": {
        "collapsed": true,
        "id": "KlP_Pz31ZKgm",
        "colab": {
          "base_uri": "https://localhost:8080/",
          "height": 508
        },
        "outputId": "ffd52cb9-0d7e-4b47-a61f-f8a6d7384fcc"
      },
      "outputs": [
        {
          "output_type": "execute_result",
          "data": {
            "text/plain": [
              "      beer_servings  spirit_servings  wine_servings  \\\n",
              "5506             64               18              4   \n",
              "5507             64               18              4   \n",
              "5508             64               18              4   \n",
              "5509             64               18              4   \n",
              "5510             64               18              4   \n",
              "\n",
              "      total_litres_of_pure_alcohol  index        GhoCode  \\\n",
              "5506                           4.7   5747  WHOSIS_000002   \n",
              "5507                           4.7   5786  WHOSIS_000001   \n",
              "5508                           4.7   5985  WHOSIS_000002   \n",
              "5509                           4.7   6013  WHOSIS_000001   \n",
              "5510                           4.7   6175  WHOSIS_000001   \n",
              "\n",
              "                                           GhoDisplay  YearCode RegionDisplay  \\\n",
              "5506  Healthy life expectancy (HALE) at birth (years)      2000        Africa   \n",
              "5507                 Life expectancy at birth (years)      2012        Africa   \n",
              "5508  Healthy life expectancy (HALE) at birth (years)      2013        Africa   \n",
              "5509                 Life expectancy at birth (years)      1990        Africa   \n",
              "5510                 Life expectancy at birth (years)      2000        Africa   \n",
              "\n",
              "     WorldBankIncomeGroupGroupCode  ...  GhoEncode RegionCode_AFR  \\\n",
              "5506                         WB_LI  ...          0           True   \n",
              "5507                         WB_LI  ...          2           True   \n",
              "5508                         WB_LI  ...          0           True   \n",
              "5509                         WB_LI  ...          2           True   \n",
              "5510                         WB_LI  ...          2           True   \n",
              "\n",
              "     RegionCode_AMR RegionCode_EMR  RegionCode_EUR  RegionCode_SEAR  \\\n",
              "5506          False          False           False            False   \n",
              "5507          False          False           False            False   \n",
              "5508          False          False           False            False   \n",
              "5509          False          False           False            False   \n",
              "5510          False          False           False            False   \n",
              "\n",
              "      RegionCode_WPR  SexCode_BTSX  SexCode_FMLE  SexCode_MLE  \n",
              "5506           False         False         False         True  \n",
              "5507           False          True         False        False  \n",
              "5508           False         False          True        False  \n",
              "5509           False         False         False         True  \n",
              "5510           False          True         False        False  \n",
              "\n",
              "[5 rows x 33 columns]"
            ],
            "text/html": [
              "\n",
              "  <div id=\"df-fceb45d2-7e87-4663-9f2a-b60cec25fcff\" class=\"colab-df-container\">\n",
              "    <div>\n",
              "<style scoped>\n",
              "    .dataframe tbody tr th:only-of-type {\n",
              "        vertical-align: middle;\n",
              "    }\n",
              "\n",
              "    .dataframe tbody tr th {\n",
              "        vertical-align: top;\n",
              "    }\n",
              "\n",
              "    .dataframe thead th {\n",
              "        text-align: right;\n",
              "    }\n",
              "</style>\n",
              "<table border=\"1\" class=\"dataframe\">\n",
              "  <thead>\n",
              "    <tr style=\"text-align: right;\">\n",
              "      <th></th>\n",
              "      <th>beer_servings</th>\n",
              "      <th>spirit_servings</th>\n",
              "      <th>wine_servings</th>\n",
              "      <th>total_litres_of_pure_alcohol</th>\n",
              "      <th>index</th>\n",
              "      <th>GhoCode</th>\n",
              "      <th>GhoDisplay</th>\n",
              "      <th>YearCode</th>\n",
              "      <th>RegionDisplay</th>\n",
              "      <th>WorldBankIncomeGroupGroupCode</th>\n",
              "      <th>...</th>\n",
              "      <th>GhoEncode</th>\n",
              "      <th>RegionCode_AFR</th>\n",
              "      <th>RegionCode_AMR</th>\n",
              "      <th>RegionCode_EMR</th>\n",
              "      <th>RegionCode_EUR</th>\n",
              "      <th>RegionCode_SEAR</th>\n",
              "      <th>RegionCode_WPR</th>\n",
              "      <th>SexCode_BTSX</th>\n",
              "      <th>SexCode_FMLE</th>\n",
              "      <th>SexCode_MLE</th>\n",
              "    </tr>\n",
              "  </thead>\n",
              "  <tbody>\n",
              "    <tr>\n",
              "      <th>5506</th>\n",
              "      <td>64</td>\n",
              "      <td>18</td>\n",
              "      <td>4</td>\n",
              "      <td>4.7</td>\n",
              "      <td>5747</td>\n",
              "      <td>WHOSIS_000002</td>\n",
              "      <td>Healthy life expectancy (HALE) at birth (years)</td>\n",
              "      <td>2000</td>\n",
              "      <td>Africa</td>\n",
              "      <td>WB_LI</td>\n",
              "      <td>...</td>\n",
              "      <td>0</td>\n",
              "      <td>True</td>\n",
              "      <td>False</td>\n",
              "      <td>False</td>\n",
              "      <td>False</td>\n",
              "      <td>False</td>\n",
              "      <td>False</td>\n",
              "      <td>False</td>\n",
              "      <td>False</td>\n",
              "      <td>True</td>\n",
              "    </tr>\n",
              "    <tr>\n",
              "      <th>5507</th>\n",
              "      <td>64</td>\n",
              "      <td>18</td>\n",
              "      <td>4</td>\n",
              "      <td>4.7</td>\n",
              "      <td>5786</td>\n",
              "      <td>WHOSIS_000001</td>\n",
              "      <td>Life expectancy at birth (years)</td>\n",
              "      <td>2012</td>\n",
              "      <td>Africa</td>\n",
              "      <td>WB_LI</td>\n",
              "      <td>...</td>\n",
              "      <td>2</td>\n",
              "      <td>True</td>\n",
              "      <td>False</td>\n",
              "      <td>False</td>\n",
              "      <td>False</td>\n",
              "      <td>False</td>\n",
              "      <td>False</td>\n",
              "      <td>True</td>\n",
              "      <td>False</td>\n",
              "      <td>False</td>\n",
              "    </tr>\n",
              "    <tr>\n",
              "      <th>5508</th>\n",
              "      <td>64</td>\n",
              "      <td>18</td>\n",
              "      <td>4</td>\n",
              "      <td>4.7</td>\n",
              "      <td>5985</td>\n",
              "      <td>WHOSIS_000002</td>\n",
              "      <td>Healthy life expectancy (HALE) at birth (years)</td>\n",
              "      <td>2013</td>\n",
              "      <td>Africa</td>\n",
              "      <td>WB_LI</td>\n",
              "      <td>...</td>\n",
              "      <td>0</td>\n",
              "      <td>True</td>\n",
              "      <td>False</td>\n",
              "      <td>False</td>\n",
              "      <td>False</td>\n",
              "      <td>False</td>\n",
              "      <td>False</td>\n",
              "      <td>False</td>\n",
              "      <td>True</td>\n",
              "      <td>False</td>\n",
              "    </tr>\n",
              "    <tr>\n",
              "      <th>5509</th>\n",
              "      <td>64</td>\n",
              "      <td>18</td>\n",
              "      <td>4</td>\n",
              "      <td>4.7</td>\n",
              "      <td>6013</td>\n",
              "      <td>WHOSIS_000001</td>\n",
              "      <td>Life expectancy at birth (years)</td>\n",
              "      <td>1990</td>\n",
              "      <td>Africa</td>\n",
              "      <td>WB_LI</td>\n",
              "      <td>...</td>\n",
              "      <td>2</td>\n",
              "      <td>True</td>\n",
              "      <td>False</td>\n",
              "      <td>False</td>\n",
              "      <td>False</td>\n",
              "      <td>False</td>\n",
              "      <td>False</td>\n",
              "      <td>False</td>\n",
              "      <td>False</td>\n",
              "      <td>True</td>\n",
              "    </tr>\n",
              "    <tr>\n",
              "      <th>5510</th>\n",
              "      <td>64</td>\n",
              "      <td>18</td>\n",
              "      <td>4</td>\n",
              "      <td>4.7</td>\n",
              "      <td>6175</td>\n",
              "      <td>WHOSIS_000001</td>\n",
              "      <td>Life expectancy at birth (years)</td>\n",
              "      <td>2000</td>\n",
              "      <td>Africa</td>\n",
              "      <td>WB_LI</td>\n",
              "      <td>...</td>\n",
              "      <td>2</td>\n",
              "      <td>True</td>\n",
              "      <td>False</td>\n",
              "      <td>False</td>\n",
              "      <td>False</td>\n",
              "      <td>False</td>\n",
              "      <td>False</td>\n",
              "      <td>True</td>\n",
              "      <td>False</td>\n",
              "      <td>False</td>\n",
              "    </tr>\n",
              "  </tbody>\n",
              "</table>\n",
              "<p>5 rows × 33 columns</p>\n",
              "</div>\n",
              "    <div class=\"colab-df-buttons\">\n",
              "\n",
              "  <div class=\"colab-df-container\">\n",
              "    <button class=\"colab-df-convert\" onclick=\"convertToInteractive('df-fceb45d2-7e87-4663-9f2a-b60cec25fcff')\"\n",
              "            title=\"Convert this dataframe to an interactive table.\"\n",
              "            style=\"display:none;\">\n",
              "\n",
              "  <svg xmlns=\"http://www.w3.org/2000/svg\" height=\"24px\" viewBox=\"0 -960 960 960\">\n",
              "    <path d=\"M120-120v-720h720v720H120Zm60-500h600v-160H180v160Zm220 220h160v-160H400v160Zm0 220h160v-160H400v160ZM180-400h160v-160H180v160Zm440 0h160v-160H620v160ZM180-180h160v-160H180v160Zm440 0h160v-160H620v160Z\"/>\n",
              "  </svg>\n",
              "    </button>\n",
              "\n",
              "  <style>\n",
              "    .colab-df-container {\n",
              "      display:flex;\n",
              "      gap: 12px;\n",
              "    }\n",
              "\n",
              "    .colab-df-convert {\n",
              "      background-color: #E8F0FE;\n",
              "      border: none;\n",
              "      border-radius: 50%;\n",
              "      cursor: pointer;\n",
              "      display: none;\n",
              "      fill: #1967D2;\n",
              "      height: 32px;\n",
              "      padding: 0 0 0 0;\n",
              "      width: 32px;\n",
              "    }\n",
              "\n",
              "    .colab-df-convert:hover {\n",
              "      background-color: #E2EBFA;\n",
              "      box-shadow: 0px 1px 2px rgba(60, 64, 67, 0.3), 0px 1px 3px 1px rgba(60, 64, 67, 0.15);\n",
              "      fill: #174EA6;\n",
              "    }\n",
              "\n",
              "    .colab-df-buttons div {\n",
              "      margin-bottom: 4px;\n",
              "    }\n",
              "\n",
              "    [theme=dark] .colab-df-convert {\n",
              "      background-color: #3B4455;\n",
              "      fill: #D2E3FC;\n",
              "    }\n",
              "\n",
              "    [theme=dark] .colab-df-convert:hover {\n",
              "      background-color: #434B5C;\n",
              "      box-shadow: 0px 1px 3px 1px rgba(0, 0, 0, 0.15);\n",
              "      filter: drop-shadow(0px 1px 2px rgba(0, 0, 0, 0.3));\n",
              "      fill: #FFFFFF;\n",
              "    }\n",
              "  </style>\n",
              "\n",
              "    <script>\n",
              "      const buttonEl =\n",
              "        document.querySelector('#df-fceb45d2-7e87-4663-9f2a-b60cec25fcff button.colab-df-convert');\n",
              "      buttonEl.style.display =\n",
              "        google.colab.kernel.accessAllowed ? 'block' : 'none';\n",
              "\n",
              "      async function convertToInteractive(key) {\n",
              "        const element = document.querySelector('#df-fceb45d2-7e87-4663-9f2a-b60cec25fcff');\n",
              "        const dataTable =\n",
              "          await google.colab.kernel.invokeFunction('convertToInteractive',\n",
              "                                                    [key], {});\n",
              "        if (!dataTable) return;\n",
              "\n",
              "        const docLinkHtml = 'Like what you see? Visit the ' +\n",
              "          '<a target=\"_blank\" href=https://colab.research.google.com/notebooks/data_table.ipynb>data table notebook</a>'\n",
              "          + ' to learn more about interactive tables.';\n",
              "        element.innerHTML = '';\n",
              "        dataTable['output_type'] = 'display_data';\n",
              "        await google.colab.output.renderOutput(dataTable, element);\n",
              "        const docLink = document.createElement('div');\n",
              "        docLink.innerHTML = docLinkHtml;\n",
              "        element.appendChild(docLink);\n",
              "      }\n",
              "    </script>\n",
              "  </div>\n",
              "\n",
              "\n",
              "<div id=\"df-9ce0e5b2-351d-4e4d-a778-cde1a4c87347\">\n",
              "  <button class=\"colab-df-quickchart\" onclick=\"quickchart('df-9ce0e5b2-351d-4e4d-a778-cde1a4c87347')\"\n",
              "            title=\"Suggest charts\"\n",
              "            style=\"display:none;\">\n",
              "\n",
              "<svg xmlns=\"http://www.w3.org/2000/svg\" height=\"24px\"viewBox=\"0 0 24 24\"\n",
              "     width=\"24px\">\n",
              "    <g>\n",
              "        <path d=\"M19 3H5c-1.1 0-2 .9-2 2v14c0 1.1.9 2 2 2h14c1.1 0 2-.9 2-2V5c0-1.1-.9-2-2-2zM9 17H7v-7h2v7zm4 0h-2V7h2v10zm4 0h-2v-4h2v4z\"/>\n",
              "    </g>\n",
              "</svg>\n",
              "  </button>\n",
              "\n",
              "<style>\n",
              "  .colab-df-quickchart {\n",
              "      --bg-color: #E8F0FE;\n",
              "      --fill-color: #1967D2;\n",
              "      --hover-bg-color: #E2EBFA;\n",
              "      --hover-fill-color: #174EA6;\n",
              "      --disabled-fill-color: #AAA;\n",
              "      --disabled-bg-color: #DDD;\n",
              "  }\n",
              "\n",
              "  [theme=dark] .colab-df-quickchart {\n",
              "      --bg-color: #3B4455;\n",
              "      --fill-color: #D2E3FC;\n",
              "      --hover-bg-color: #434B5C;\n",
              "      --hover-fill-color: #FFFFFF;\n",
              "      --disabled-bg-color: #3B4455;\n",
              "      --disabled-fill-color: #666;\n",
              "  }\n",
              "\n",
              "  .colab-df-quickchart {\n",
              "    background-color: var(--bg-color);\n",
              "    border: none;\n",
              "    border-radius: 50%;\n",
              "    cursor: pointer;\n",
              "    display: none;\n",
              "    fill: var(--fill-color);\n",
              "    height: 32px;\n",
              "    padding: 0;\n",
              "    width: 32px;\n",
              "  }\n",
              "\n",
              "  .colab-df-quickchart:hover {\n",
              "    background-color: var(--hover-bg-color);\n",
              "    box-shadow: 0 1px 2px rgba(60, 64, 67, 0.3), 0 1px 3px 1px rgba(60, 64, 67, 0.15);\n",
              "    fill: var(--button-hover-fill-color);\n",
              "  }\n",
              "\n",
              "  .colab-df-quickchart-complete:disabled,\n",
              "  .colab-df-quickchart-complete:disabled:hover {\n",
              "    background-color: var(--disabled-bg-color);\n",
              "    fill: var(--disabled-fill-color);\n",
              "    box-shadow: none;\n",
              "  }\n",
              "\n",
              "  .colab-df-spinner {\n",
              "    border: 2px solid var(--fill-color);\n",
              "    border-color: transparent;\n",
              "    border-bottom-color: var(--fill-color);\n",
              "    animation:\n",
              "      spin 1s steps(1) infinite;\n",
              "  }\n",
              "\n",
              "  @keyframes spin {\n",
              "    0% {\n",
              "      border-color: transparent;\n",
              "      border-bottom-color: var(--fill-color);\n",
              "      border-left-color: var(--fill-color);\n",
              "    }\n",
              "    20% {\n",
              "      border-color: transparent;\n",
              "      border-left-color: var(--fill-color);\n",
              "      border-top-color: var(--fill-color);\n",
              "    }\n",
              "    30% {\n",
              "      border-color: transparent;\n",
              "      border-left-color: var(--fill-color);\n",
              "      border-top-color: var(--fill-color);\n",
              "      border-right-color: var(--fill-color);\n",
              "    }\n",
              "    40% {\n",
              "      border-color: transparent;\n",
              "      border-right-color: var(--fill-color);\n",
              "      border-top-color: var(--fill-color);\n",
              "    }\n",
              "    60% {\n",
              "      border-color: transparent;\n",
              "      border-right-color: var(--fill-color);\n",
              "    }\n",
              "    80% {\n",
              "      border-color: transparent;\n",
              "      border-right-color: var(--fill-color);\n",
              "      border-bottom-color: var(--fill-color);\n",
              "    }\n",
              "    90% {\n",
              "      border-color: transparent;\n",
              "      border-bottom-color: var(--fill-color);\n",
              "    }\n",
              "  }\n",
              "</style>\n",
              "\n",
              "  <script>\n",
              "    async function quickchart(key) {\n",
              "      const quickchartButtonEl =\n",
              "        document.querySelector('#' + key + ' button');\n",
              "      quickchartButtonEl.disabled = true;  // To prevent multiple clicks.\n",
              "      quickchartButtonEl.classList.add('colab-df-spinner');\n",
              "      try {\n",
              "        const charts = await google.colab.kernel.invokeFunction(\n",
              "            'suggestCharts', [key], {});\n",
              "      } catch (error) {\n",
              "        console.error('Error during call to suggestCharts:', error);\n",
              "      }\n",
              "      quickchartButtonEl.classList.remove('colab-df-spinner');\n",
              "      quickchartButtonEl.classList.add('colab-df-quickchart-complete');\n",
              "    }\n",
              "    (() => {\n",
              "      let quickchartButtonEl =\n",
              "        document.querySelector('#df-9ce0e5b2-351d-4e4d-a778-cde1a4c87347 button');\n",
              "      quickchartButtonEl.style.display =\n",
              "        google.colab.kernel.accessAllowed ? 'block' : 'none';\n",
              "    })();\n",
              "  </script>\n",
              "</div>\n",
              "\n",
              "    </div>\n",
              "  </div>\n"
            ],
            "application/vnd.google.colaboratory.intrinsic+json": {
              "type": "dataframe"
            }
          },
          "metadata": {},
          "execution_count": 52
        }
      ],
      "source": [
        "from sklearn.preprocessing import LabelEncoder\n",
        "label_encoder = LabelEncoder()\n",
        "inner3['CountryEncod'] = label_encoder.fit_transform(inner3['CountryDisplay'])\n",
        "inner3['GhoEncode'] = label_encoder.fit_transform(inner3['GhoDisplay'])\n",
        "inner3['RegionEncode'] = label_encoder.fit_transform(inner3['RegionDisplay'])\n",
        "inner3['SexEncode'] = label_encoder.fit_transform(inner3['SexDisplay'])\n",
        "inner3['WorldBankIncomeGroupDisplay']= label_encoder.fit_transform(inner3['WorldBankIncomeGroupDisplay'])\n",
        "#inner4 = pd.get_dummies(inner3, columns=['RegionCode','SexCode'])\n",
        "inner4.tail()"
      ]
    },
    {
      "cell_type": "markdown",
      "source": [
        "по рекомендациям в задании был выбран метод LabelEncoding, который поможет сэкономить память. это также может упростить вычисления. данный метод может сохранить минимизирровать размерность и сохранить структуру данных.\n",
        "\n",
        "для колонок со значением Code был выбран метод One-Hot Encoding."
      ],
      "metadata": {
        "id": "mgqnGsinAxkB"
      }
    },
    {
      "cell_type": "markdown",
      "metadata": {
        "id": "v3DjKVAlZKgk"
      },
      "source": [
        "### 18"
      ]
    },
    {
      "cell_type": "markdown",
      "metadata": {
        "id": "CJrnBovsZKgk"
      },
      "source": [
        "Придумайте какое-нибудь своё интересное задание на анализ предлагаемых данных и решите его.\n",
        "\n",
        "Креативность в этом задании приветствуется, и за нее можно получить ***1-2 бонусных балла***!\n",
        "\n",
        "*Подсказка. Вы можете вдохновляться различными заданиями из этого раздела ДЗ, как, например, заданиями: 4, 6, 10, 12, 14, 15, 16. Но, чтобы получить бонусные баллы, лучше не используйте аналогичные идеи, а придумайте что-то своё!*"
      ]
    },
    {
      "cell_type": "code",
      "execution_count": 53,
      "metadata": {
        "collapsed": true,
        "id": "-7TpyG0RZKgl",
        "colab": {
          "base_uri": "https://localhost:8080/",
          "height": 489
        },
        "outputId": "32e2f2e4-a978-4733-a500-707bc0508e48"
      },
      "outputs": [
        {
          "output_type": "display_data",
          "data": {
            "text/plain": [
              "<Figure size 640x480 with 1 Axes>"
            ],
            "image/png": "[encoded data removed]"
          },
          "metadata": {}
        },
        {
          "output_type": "stream",
          "name": "stdout",
          "text": [
            "Корреляция между wine_servings и LifeExp_Mean: 0.13906360038774784\n"
          ]
        }
      ],
      "source": [
        "import matplotlib.pyplot as plt\n",
        "wine = inner3[['wine_servings', 'LifeExp_Mean']].dropna()\n",
        "plt.scatter(wine['wine_servings'], wine['LifeExp_Mean'], color = '#0ccf10')\n",
        "plt.xlabel('wine_servings')\n",
        "plt.ylabel('LifeExp_Mean')\n",
        "plt.title('wine_servings vs LifeExp_Mean')\n",
        "plt.grid(True, linestyle = '--', alpha = 0.5)\n",
        "plt.show()\n",
        "correlation = wine['wine_servings'].corr(wine['LifeExp_Mean'])\n",
        "print(f'Корреляция между wine_servings и LifeExp_Mean: {correlation}')"
      ]
    },
    {
      "cell_type": "markdown",
      "source": [
        "корреляция очень маленькая - (0.14). Это означает, что миф о том, что вино является важным средством на пути к долголетию - остается лишь мифом. так как график в том числе подтверждает это."
      ],
      "metadata": {
        "id": "G_9m_6n7chI1"
      }
    },
    {
      "cell_type": "markdown",
      "metadata": {
        "id": "rGRobnalZKgm"
      },
      "source": [
        "## Бонусная часть на анализ целевой переменной (до 5 бонусных баллов)"
      ]
    },
    {
      "cell_type": "markdown",
      "source": [
        "После всего проделанного анализа и подготовки данных мы можем перейти непосредственно к ответу на исходный вопрос исследования, который был сформулирован вами в задании 3 данного раздела."
      ],
      "metadata": {
        "id": "6yIziTqLNLbj"
      }
    },
    {
      "cell_type": "markdown",
      "metadata": {
        "id": "RmEQBtkJZKgm"
      },
      "source": [
        "### 19\n",
        "\n",
        "***Бонус (5 бон. баллов):*** Дайте развернутый, обоснованный, подкрепленный данными и написанным вами кодом ответ на вопрос, влияют ли признаки зависимой таблицы на целевую переменную из главной таблицы и, если да, то каким именно образом влияют?\n",
        "\n",
        "Обязательно аргументируйте полученные вами результаты и выводы. Чем подробнее и обоснованнее анализ вы проведете в рамках данного бонусного задания, тем больше бонусных баллов получите! Вы можете использовать подходы и методы из рассмотренных на семинаре и в рамках данного домашнего задания, а можете придумать и что-то своё. Креативность максимально приветствуется!"
      ]
    },
    {
      "cell_type": "code",
      "execution_count": null,
      "metadata": {
        "collapsed": true,
        "id": "hbkcHR3bZKgm"
      },
      "outputs": [],
      "source": [
        "# your code here"
      ]
    },
    {
      "cell_type": "markdown",
      "source": [
        "    {your final conclusion here}"
      ],
      "metadata": {
        "id": "UMiAKN_xPf-E"
      }
    }
  ],
  "metadata": {
    "kernelspec": {
      "display_name": "Python 3",
      "language": "python",
      "name": "python3"
    },
    "language_info": {
      "codemirror_mode": {
        "name": "ipython",
        "version": 3
      },
      "file_extension": ".py",
      "mimetype": "text/x-python",
      "name": "python",
      "nbconvert_exporter": "python",
      "pygments_lexer": "ipython3",
      "version": "3.6.3"
    },
    "colab": {
      "provenance": []
    }
  },
  "nbformat": 4,
  "nbformat_minor": 0
}